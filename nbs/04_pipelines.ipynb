{
 "cells": [
  {
   "cell_type": "markdown",
   "metadata": {},
   "source": [
    "# Pipelines\n",
    "\n",
    "> The major task you will launch with `PiSCES` is a _Pipeline_ which combines the task of finding data sets and loading them into memory, configuring train-test splits, training models, and organizing and reporting results. To prevent test distribution statistics from leaking into the training data for each model, we strictly enforce that train-test splitting is done at the **study participant** level.  \n",
    ">\n",
    "> Said differently, under no circumstances will a PiSCES pipeline produce a set of training samples that contain data covering 6 hours of an 8 hour recording for Participant ABC123, and the remaining 2 hours is used for test evaluation; giving a model access to recordings from a participant during training skews results in the model's favor on testing, since it is more familiar with ABC123's specific signatures when asleep, awake, and transitioning."
   ]
  },
  {
   "cell_type": "code",
   "execution_count": 1,
   "metadata": {},
   "outputs": [],
   "source": [
    "#| default_exp loader"
   ]
  },
  {
   "cell_type": "code",
   "execution_count": 2,
   "metadata": {},
   "outputs": [],
   "source": [
    "#| hide \n",
    "%load_ext autoreload\n",
    "%autoreload 2"
   ]
  },
  {
   "cell_type": "code",
   "execution_count": 3,
   "metadata": {},
   "outputs": [],
   "source": [
    "#| hide\n",
    "from nbdev.showdoc import *\n"
   ]
  },
  {
   "cell_type": "code",
   "execution_count": null,
   "metadata": {},
   "outputs": [],
   "source": [
    "#| export\n",
    "\n",
    "from dataclasses import dataclass\n",
    "from typing import Optional\n",
    "\n",
    "\n",
    "@dataclass\n",
    "class ValidationConfiguration:\n",
    "    parameter: Optional[float | int | str]\n",
    "    method: ValidationMethod\n",
    "\n",
    "    def __init__(self, parameter: Optional[float | int | str], method: str):\n",
    "        self.parameter = parameter\n",
    "        self.method = ValidationMethod[method]\n",
    "\n",
    "    def make_splits(self, records: List[DataRecord]):\n",
    "        return self.method.make_splits(self.parameter, records)\n",
    "\n",
    "\n",
    "@dataclass\n",
    "class DatabaseConfiguration:\n",
    "    data_set_csv: str\n",
    "    database: str = \":memory:\"\n",
    "    # SQL formatted, for WHERE clause\n",
    "    # eg: if selector = \"data_set_name = 'sleep_accel'\" then we select only sleep_accel records from teh database\n",
    "    #   as the output of \"\"\"SELECT * FROM data_sets WHERE data_set_name = 'sleep_accel'\"\"\"\n",
    "    selector: str = \"\"\n",
    "\n",
    "\n",
    "@dataclass\n",
    "class PipelineConfiguration:\n",
    "    data_config: DatabaseConfiguration\n",
    "    validation: ValidationConfiguration\n",
    "    models: List[KnownModel]\n",
    "    features: List[KnownFeatures]\n",
    "    split_models_saveto: str\n",
    "\n",
    "    def __init__(\n",
    "        self,\n",
    "        data_config: Dict[str, str],\n",
    "        validation: Dict[str, str],\n",
    "        models: List[str],\n",
    "        features: List[str],\n",
    "        split_models_saveto: str = \"\",\n",
    "    ):\n",
    "        self.data_config = DatabaseConfiguration(**data_config)\n",
    "        self.validation = ValidationConfiguration(**validation)\n",
    "        self.models = [KnownModel[mod] for mod in models]\n",
    "        self.features = [KnownFeatures[ft] for ft in features]\n",
    "        # self.feature_config = feature_config\n",
    "        self.split_models_saveto = split_models_saveto\n"
   ]
  },
  {
   "cell_type": "code",
   "execution_count": null,
   "metadata": {},
   "outputs": [],
   "source": [
    "#| hide\n",
    "import nbdev; nbdev.nbdev_export()"
   ]
  }
 ],
 "metadata": {
  "kernelspec": {
   "display_name": "pisces",
   "language": "python",
   "name": "python3"
  },
  "language_info": {
   "codemirror_mode": {
    "name": "ipython",
    "version": 3
   },
   "file_extension": ".py",
   "mimetype": "text/x-python",
   "name": "python",
   "nbconvert_exporter": "python",
   "pygments_lexer": "ipython3",
   "version": "3.11.7"
  }
 },
 "nbformat": 4,
 "nbformat_minor": 2
}
