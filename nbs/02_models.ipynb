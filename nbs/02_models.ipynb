{
 "cells": [
  {
   "cell_type": "markdown",
   "metadata": {},
   "source": [
    "# Data sets and models"
   ]
  },
  {
   "cell_type": "code",
   "execution_count": 23,
   "metadata": {},
   "outputs": [],
   "source": [
    "#| default_exp models"
   ]
  },
  {
   "cell_type": "code",
   "execution_count": 24,
   "metadata": {},
   "outputs": [
    {
     "name": "stdout",
     "output_type": "stream",
     "text": [
      "The autoreload extension is already loaded. To reload it, use:\n",
      "  %reload_ext autoreload\n"
     ]
    }
   ],
   "source": [
    "#| hide \n",
    "%load_ext autoreload\n",
    "%autoreload 2"
   ]
  },
  {
   "cell_type": "code",
   "execution_count": 25,
   "metadata": {},
   "outputs": [],
   "source": [
    "#| hide\n",
    "from nbdev.showdoc import *\n"
   ]
  },
  {
   "cell_type": "code",
   "execution_count": 26,
   "metadata": {},
   "outputs": [],
   "source": [
    "#| export\n",
    "\n",
    "from enum import Enum, auto\n",
    "from typing import Dict, List, Tuple\n",
    "\n",
    "from pathlib import Path\n",
    "\n",
    "import numpy as np\n",
    "import polars as pl"
   ]
  },
  {
   "cell_type": "markdown",
   "metadata": {},
   "source": [
    "#| hide\n",
    "# Model input"
   ]
  },
  {
   "cell_type": "code",
   "execution_count": 27,
   "metadata": {},
   "outputs": [],
   "source": [
    "#| export\n",
    "class ModelInputType(Enum):\n",
    "    ONE_DIMENSIONAL = auto()\n",
    "    SPECTOGRAM = auto()"
   ]
  },
  {
   "cell_type": "markdown",
   "metadata": {},
   "source": [
    "#| hide\n",
    "# Model output"
   ]
  },
  {
   "cell_type": "code",
   "execution_count": 28,
   "metadata": {},
   "outputs": [],
   "source": [
    "#| export\n",
    "class ModelOutputType(Enum):\n",
    "    SLEEP_WAKE = auto()\n",
    "    WAKE_LIGHT_DEEP_REM = auto()"
   ]
  },
  {
   "cell_type": "markdown",
   "metadata": {},
   "source": [
    "## Model preprocessing"
   ]
  },
  {
   "cell_type": "code",
   "execution_count": 29,
   "metadata": {},
   "outputs": [],
   "source": [
    "#| export\n",
    "from numpy.lib.stride_tricks import as_strided\n",
    "from pisces.data_sets import DataSetObject\n",
    "\n",
    "def psg_to_sleep_wake(psg: pl.DataFrame) -> np.array:\n",
    "    # map all positive classes to 1 (sleep)\n",
    "    # retain all 0 (wake) and -1 (mask) classes\n",
    "    return np.where(psg[:, 1] > 0, 1, psg[:, 1])\n",
    "\n",
    "def get_activity_X_PSG_y(data_set: DataSetObject, id: str) -> Tuple[np.ndarray, np.ndarray] | None:\n",
    "    activity_0 = data_set.get_feature_data(\"activity\", id)\n",
    "    psg_0 = data_set.get_feature_data(\"psg\", id)\n",
    "\n",
    "    if activity_0 is None or psg_0 is None:\n",
    "        return None\n",
    "\n",
    "    # trim the activity and psg data to both end when the 0th column (time) of either ends\n",
    "    end_time = min(activity_0[-1, 0], psg_0[-1, 0])\n",
    "    activity_0 = activity_0.filter(activity_0[:, 0] <= end_time)\n",
    "    psg_0 = psg_0.filter(psg_0[:, 0] <= end_time)\n",
    "\n",
    "    X = activity_0[:, 1].to_numpy()\n",
    "    # make the reshape(-1, 2) non-ragged \n",
    "    # remove the last element if the length is odd\n",
    "    if res := X.shape[0] % 2:\n",
    "        #! X[:-0] is empty, so don't do this if res == 0\n",
    "        X = X[:-res] \n",
    "    X = X.reshape((-1, 2)).sum(axis=1)\n",
    "    y = psg_to_sleep_wake(psg_0)\n",
    "\n",
    "    return X, y\n",
    "\n",
    "def rolling_window(arr, window_size):\n",
    "    strided_axis_0 = max(arr.shape[0] - window_size + 1, 0)\n",
    "    arr_strided = as_strided(arr, shape=(strided_axis_0, window_size), strides=(arr.strides[0], arr.strides[0]))\n",
    "    return arr_strided"
   ]
  },
  {
   "cell_type": "code",
   "execution_count": 30,
   "metadata": {},
   "outputs": [],
   "source": [
    "#| test\n",
    "input_vec = np.arange(10)\n",
    "expected_rolling = np.array([[0, 1, 2],\n",
    "       [1, 2, 3],\n",
    "       [2, 3, 4],\n",
    "       [3, 4, 5],\n",
    "       [4, 5, 6],\n",
    "       [5, 6, 7],\n",
    "       [6, 7, 8],\n",
    "       [7, 8, 9]])\n",
    "rolled = rolling_window(input_vec, 3)\n",
    "\n",
    "\n",
    "assert np.array_equal(rolled, expected_rolling), f\"Expected {expected_rolling}, but got {rolled}\""
   ]
  },
  {
   "cell_type": "code",
   "execution_count": 31,
   "metadata": {},
   "outputs": [],
   "source": [
    "#| export\n",
    "\n",
    "import polars as pl\n",
    "import numpy as np\n",
    "from scipy.ndimage import gaussian_filter1d\n",
    "\n",
    "def apply_gausian_filter(df: pl.DataFrame, sigma: float = 1.0, overwrite: bool = False) -> pl.DataFrame:\n",
    "    data_columns = df.columns[1:]  # Adjust this to match your data column indices\n",
    "\n",
    "    # Specify the standard deviation of the Gaussian kernel\n",
    "    sigma = 1.0  # This controls the smoothing. Adjust based on your data's sampling rate and desired smoothing\n",
    "\n",
    "    # Apply Gaussian smoothing to each data column\n",
    "    for col in data_columns:\n",
    "        new_col_name = f\"{col}_smoothed\" if not overwrite else col\n",
    "        df = df.with_columns(\n",
    "            pl.Series(gaussian_filter1d(df[col].to_numpy(), sigma)).alias(new_col_name)\n",
    "        )\n",
    "    return df\n",
    "\n",
    "def fill_gaps_in_accelerometer_data(acc: pl.DataFrame, smooth: bool = False, final_sampling_rate_hz: int | None = None) -> np.ndarray:\n",
    "    \n",
    "    # median sampling rate (to account for missing data)\n",
    "    sampling_period_s = acc[acc.columns[0]].diff().median() # 1 / sampling_rate_hz\n",
    "    \n",
    "    # Step 0: Save the original 'timestamp' column as 'timestamp_raw'\n",
    "    acc_resampled = acc.with_columns(acc[acc.columns[0]].alias('timestamp'))\n",
    "\n",
    "    if isinstance(final_sampling_rate_hz, int):\n",
    "        final_rate_sec = 1 / final_sampling_rate_hz\n",
    "        print(f\"resampling to {final_sampling_rate_hz}Hz ({final_rate_sec:0.5f}s) from {int(1/sampling_period_s)} Hz ({sampling_period_s:0.5f}s)\")\n",
    "        # make a new data frame with the new timestamps\n",
    "        # do this using linear interpolation\n",
    "\n",
    "        median_time = acc_resampled['timestamp'].to_numpy()\n",
    "        final_timestamps = np.arange(median_time.min(), median_time.max() + final_rate_sec, final_rate_sec)\n",
    "        median_data = acc_resampled[:, 1:4].to_numpy()\n",
    "        new_data = np.zeros((final_timestamps.shape[0], median_data.shape[1]))\n",
    "        for i in range(median_data.shape[1]):\n",
    "            new_data[:, i] = np.interp(final_timestamps, median_time, median_data[:, i])\n",
    "        acc_resampled = pl.DataFrame({\n",
    "            'timestamp': final_timestamps, \n",
    "            **{\n",
    "                acc_resampled.columns[i+1]: new_data[:, i] \n",
    "                for i in range(new_data.shape[1])\n",
    "            }})\n",
    "\n",
    "\n",
    "    if smooth:\n",
    "        acc_resampled = apply_gausian_filter(acc_resampled, overwrite=True)\n",
    "\n",
    "    return acc_resampled\n"
   ]
  },
  {
   "cell_type": "code",
   "execution_count": 32,
   "metadata": {},
   "outputs": [
    {
     "name": "stdout",
     "output_type": "stream",
     "text": [
      "resampling to 50Hz (0.02000s) from 50 Hz (0.02000s)\n"
     ]
    },
    {
     "data": {
      "text/plain": [
       "<matplotlib.legend.Legend at 0x242b98388d0>"
      ]
     },
     "execution_count": 32,
     "metadata": {},
     "output_type": "execute_result"
    },
    {
     "data": {
      "image/png": "[encoded data removed]",
      "text/plain": [
       "<Figure size 640x480 with 1 Axes>"
      ]
     },
     "metadata": {},
     "output_type": "display_data"
    }
   ],
   "source": [
    "import matplotlib.pyplot as plt\n",
    "\n",
    "# Assuming 'acc' is your existing Polars DataFrame with the first column as 'timestamp'.\n",
    "acc = pl.DataFrame({\n",
    "    \"timestamp\": [0, 0.02, 0.04, 1.51, 1.52],  # Irregular timestamps\n",
    "    \"sensor1\": [1.2, 3.4, 2.1, 5.3, 4.7],\n",
    "    \"sensor2\": [0.5, 0.8, 1.1, 0.3, 1.9]\n",
    "})\n",
    "\n",
    "acc_resampled = fill_gaps_in_accelerometer_data(acc, final_sampling_rate_hz=50)\n",
    "acc_resampled = apply_gausian_filter(acc_resampled, overwrite=False)\n",
    "\n",
    "# Plot the original and resampled timestamps\n",
    "plt.scatter(acc['timestamp'], acc['sensor1'], label='Original')\n",
    "plt.scatter(acc_resampled['timestamp'], acc_resampled['sensor1'], label='Resampled')\n",
    "plt.scatter(acc_resampled['timestamp'], acc_resampled['sensor1_smoothed'], label='Smoothed')\n",
    "plt.legend()"
   ]
  },
  {
   "cell_type": "code",
   "execution_count": 33,
   "metadata": {},
   "outputs": [
    {
     "data": {
      "text/html": [
       "<div><style>\n",
       ".dataframe > thead > tr,\n",
       ".dataframe > tbody > tr {\n",
       "  text-align: right;\n",
       "  white-space: pre-wrap;\n",
       "}\n",
       "</style>\n",
       "<small>shape: (77, 5)</small><table border=\"1\" class=\"dataframe\"><thead><tr><th>timestamp</th><th>sensor1</th><th>sensor2</th><th>sensor1_smoothed</th><th>sensor2_smoothed</th></tr><tr><td>f64</td><td>f64</td><td>f64</td><td>f64</td><td>f64</td></tr></thead><tbody><tr><td>0.0</td><td>1.2</td><td>0.5</td><td>1.908138</td><td>0.62661</td></tr><tr><td>0.02</td><td>3.4</td><td>0.8</td><td>2.360776</td><td>0.800721</td></tr><tr><td>0.04</td><td>2.1</td><td>1.1</td><td>2.377994</td><td>0.988355</td></tr><tr><td>0.06</td><td>2.143537</td><td>1.089116</td><td>2.212371</td><td>1.06949</td></tr><tr><td>0.08</td><td>2.187075</td><td>1.078231</td><td>2.19292</td><td>1.07677</td></tr><tr><td>&hellip;</td><td>&hellip;</td><td>&hellip;</td><td>&hellip;</td><td>&hellip;</td></tr><tr><td>1.44</td><td>5.147619</td><td>0.338095</td><td>5.147536</td><td>0.33831</td></tr><tr><td>1.46</td><td>5.191156</td><td>0.327211</td><td>5.188312</td><td>0.334542</td></tr><tr><td>1.48</td><td>5.234694</td><td>0.316327</td><td>5.198158</td><td>0.410174</td></tr><tr><td>1.5</td><td>5.278231</td><td>0.305442</td><td>5.091252</td><td>0.781333</td></tr><tr><td>1.52</td><td>4.7</td><td>1.9</td><td>4.904676</td><td>1.328158</td></tr></tbody></table></div>"
      ],
      "text/plain": [
       "shape: (77, 5)\n",
       "┌───────────┬──────────┬──────────┬──────────────────┬──────────────────┐\n",
       "│ timestamp ┆ sensor1  ┆ sensor2  ┆ sensor1_smoothed ┆ sensor2_smoothed │\n",
       "│ ---       ┆ ---      ┆ ---      ┆ ---              ┆ ---              │\n",
       "│ f64       ┆ f64      ┆ f64      ┆ f64              ┆ f64              │\n",
       "╞═══════════╪══════════╪══════════╪══════════════════╪══════════════════╡\n",
       "│ 0.0       ┆ 1.2      ┆ 0.5      ┆ 1.908138         ┆ 0.62661          │\n",
       "│ 0.02      ┆ 3.4      ┆ 0.8      ┆ 2.360776         ┆ 0.800721         │\n",
       "│ 0.04      ┆ 2.1      ┆ 1.1      ┆ 2.377994         ┆ 0.988355         │\n",
       "│ 0.06      ┆ 2.143537 ┆ 1.089116 ┆ 2.212371         ┆ 1.06949          │\n",
       "│ 0.08      ┆ 2.187075 ┆ 1.078231 ┆ 2.19292          ┆ 1.07677          │\n",
       "│ …         ┆ …        ┆ …        ┆ …                ┆ …                │\n",
       "│ 1.44      ┆ 5.147619 ┆ 0.338095 ┆ 5.147536         ┆ 0.33831          │\n",
       "│ 1.46      ┆ 5.191156 ┆ 0.327211 ┆ 5.188312         ┆ 0.334542         │\n",
       "│ 1.48      ┆ 5.234694 ┆ 0.316327 ┆ 5.198158         ┆ 0.410174         │\n",
       "│ 1.5       ┆ 5.278231 ┆ 0.305442 ┆ 5.091252         ┆ 0.781333         │\n",
       "│ 1.52      ┆ 4.7      ┆ 1.9      ┆ 4.904676         ┆ 1.328158         │\n",
       "└───────────┴──────────┴──────────┴──────────────────┴──────────────────┘"
      ]
     },
     "execution_count": 33,
     "metadata": {},
     "output_type": "execute_result"
    }
   ],
   "source": [
    "acc_resampled"
   ]
  },
  {
   "cell_type": "code",
   "execution_count": 34,
   "metadata": {},
   "outputs": [],
   "source": [
    "# make a Gaussian-distributed random vector with 1000 elements\n",
    "# mean zero, stdev 0.001\n",
    "\n",
    "normal_vec = np.abs(np.random.normal(0.02, 0.001, 1000))\n",
    "times = np.cumsum(normal_vec)"
   ]
  },
  {
   "cell_type": "code",
   "execution_count": 35,
   "metadata": {},
   "outputs": [],
   "source": [
    "y = np.random.normal(0, 1, len(normal_vec))"
   ]
  },
  {
   "cell_type": "code",
   "execution_count": 36,
   "metadata": {},
   "outputs": [],
   "source": [
    "df = pl.DataFrame({\n",
    "    \"timestamp\": times,\n",
    "    \"y\": y,\n",
    "    \"cos_y\": np.cos(times),\n",
    "})"
   ]
  },
  {
   "cell_type": "code",
   "execution_count": 37,
   "metadata": {},
   "outputs": [
    {
     "name": "stdout",
     "output_type": "stream",
     "text": [
      "resampling to 50Hz (0.02000s) from 49 Hz (0.02002s)\n"
     ]
    }
   ],
   "source": [
    "df_r = fill_gaps_in_accelerometer_data(df, smooth=False, final_sampling_rate_hz=50)"
   ]
  },
  {
   "cell_type": "code",
   "execution_count": 38,
   "metadata": {},
   "outputs": [
    {
     "data": {
      "text/plain": [
       "<matplotlib.legend.Legend at 0x242b97da390>"
      ]
     },
     "execution_count": 38,
     "metadata": {},
     "output_type": "execute_result"
    },
    {
     "data": {
      "image/png": "[encoded data removed]",
      "text/plain": [
       "<Figure size 640x480 with 1 Axes>"
      ]
     },
     "metadata": {},
     "output_type": "display_data"
    }
   ],
   "source": [
    "plt.plot(df['timestamp'], df['y'], label='Original')\n",
    "plt.plot(df_r['timestamp'], df_r['y'], label='Resampled')\n",
    "plt.legend()"
   ]
  },
  {
   "cell_type": "code",
   "execution_count": 39,
   "metadata": {},
   "outputs": [
    {
     "data": {
      "text/plain": [
       "[<matplotlib.lines.Line2D at 0x242bc181cd0>]"
      ]
     },
     "execution_count": 39,
     "metadata": {},
     "output_type": "execute_result"
    },
    {
     "data": {
      "image/png": "[encoded data removed]",
      "text/plain": [
       "<Figure size 640x480 with 1 Axes>"
      ]
     },
     "metadata": {},
     "output_type": "display_data"
    }
   ],
   "source": [
    "plt.plot(df_r['timestamp'], df_r['cos_y'], label='Resampled')\n",
    "plt.plot(df['timestamp'], df['cos_y'], label='Original')"
   ]
  },
  {
   "cell_type": "markdown",
   "metadata": {},
   "source": [
    "## Classifier models"
   ]
  },
  {
   "cell_type": "code",
   "execution_count": 40,
   "metadata": {},
   "outputs": [],
   "source": [
    "#| export\n",
    "import abc\n",
    "from sklearn.metrics import roc_auc_score, roc_curve\n",
    "from sklearn.preprocessing import StandardScaler\n",
    "from sklearn.linear_model import SGDClassifier\n",
    "from sklearn.pipeline import make_pipeline\n",
    "import numpy as np\n",
    "\n",
    "\n",
    "class SleepWakeClassifier(abc.ABC):\n",
    "    \"\"\"\n",
    "    \"\"\"\n",
    "    @abc.abstractmethod\n",
    "    def get_needed_X_y(self, data_set: DataSetObject, id: str) -> Tuple[np.ndarray, np.ndarray] | None:\n",
    "        pass\n",
    "    def train(self, examples_X: List[pl.DataFrame] = [], examples_y: List[pl.DataFrame] = [], \n",
    "              pairs_Xy: List[Tuple[pl.DataFrame, pl.DataFrame]] = [], \n",
    "              epochs: int = 10, batch_size: int = 32):\n",
    "        pass\n",
    "    def predict(self, sample_X: np.ndarray | pl.DataFrame) -> np.ndarray:\n",
    "        pass\n",
    "    def predict_probabilities(self, sample_X: np.ndarray | pl.DataFrame) -> np.ndarray:\n",
    "        pass\n"
   ]
  },
  {
   "cell_type": "markdown",
   "metadata": {},
   "source": [
    "### SGD Logistic Regression"
   ]
  },
  {
   "cell_type": "code",
   "execution_count": 41,
   "metadata": {},
   "outputs": [],
   "source": [
    "#| export\n",
    "\n",
    "class SGDLogisticRegression(SleepWakeClassifier):\n",
    "    \"\"\"Uses Sk-Learn's `SGDCLassifier` to train a logistic regression model. The SGD aspect allows for online learning, or custom training regimes through the `partial_fit` method.\n",
    "     \n",
    "    The model is trained with a balanced class weight, and uses L1 regularization. The input data is scaled with a `StandardScaler` before being passed to the model.\n",
    "    \"\"\"\n",
    "    def __init__(self, lr: float = 0.15, input_dim: int = 11, output_dim: int = 1):\n",
    "        self.model = SGDClassifier(loss='log_loss',\n",
    "                                   learning_rate='adaptive',\n",
    "                                   penalty='l1',\n",
    "                                   eta0=lr,\n",
    "                                   class_weight='balanced',\n",
    "                                   warm_start=True)\n",
    "        self.scaler = StandardScaler()\n",
    "        self.pipeline = make_pipeline(self.scaler, self.model)\n",
    "        self.input_dim = input_dim\n",
    "        self.output_dim = output_dim\n",
    "        self.window_step = 1\n",
    "\n",
    "    def get_needed_X_y(self, data_set: DataSetObject, id: str) -> Tuple[np.ndarray, np.ndarray] | None:\n",
    "        return get_activity_X_PSG_y(data_set, id)\n",
    "    \n",
    "    def _prepare_labels(self, y: np.ndarray) -> Tuple[np.ndarray, np.ndarray]:\n",
    "        y_trimmed = self._trim_labels(y)\n",
    "        n_sleep = np.sum(y_trimmed > 0)\n",
    "        n_wake = np.sum(y_trimmed == 0)\n",
    "        N = n_sleep + n_wake\n",
    "        # Want to make a balanced weight loss, along with giving 0.0 * loss for masked values (y < 0)\n",
    "        mask_weights_zero = np.where(y_trimmed < 0, 0.0, 1)\n",
    "        # balancing_weights_ignore_mask = np.where(y_trimmed > 0, n_wake / N, n_sleep / N)\n",
    "        balancing_weights_ignore_mask = np.where(y_trimmed > 0, N / n_sleep, N / n_wake)\n",
    "        sample_weights = mask_weights_zero * balancing_weights_ignore_mask\n",
    "\n",
    "        y_demasked = np.where(y_trimmed < 0, 0, y_trimmed)\n",
    "\n",
    "        return y_demasked, sample_weights\n",
    "\n",
    "    def train(self, examples_X: List[pl.DataFrame] = [], examples_y: List[pl.DataFrame] = [], \n",
    "              pairs_Xy: List[Tuple[pl.DataFrame, pl.DataFrame]] = [], \n",
    "              epochs: int = 10, batch_size: int = 32):\n",
    "        if examples_X or examples_y:\n",
    "            assert len(examples_X) == len(examples_y)\n",
    "        if pairs_Xy:\n",
    "            assert not examples_X\n",
    "        \n",
    "        training = []\n",
    "        training_iterator = iter(pairs_Xy) if pairs_Xy else zip(examples_X, examples_y)\n",
    "        for X, y in training_iterator:\n",
    "            try:\n",
    "                X_folded = self._fold(X)\n",
    "                y_prepped, sample_weights = self._prepare_labels(y)\n",
    "                if (X_folded.shape[0] != y_prepped.shape[0]) \\\n",
    "                    or (X_folded.shape[0] == 0) \\\n",
    "                    or (y_prepped.shape[0] == 0):\n",
    "                    continue\n",
    "                training.append((X_folded, y_prepped, sample_weights))\n",
    "            except Exception as e:\n",
    "                print(f\"Error folding or trimming data: {e}\")\n",
    "                continue\n",
    "        \n",
    "        Xs = [X for X, _, _ in training]\n",
    "        ys = [y for _, y, _ in training]\n",
    "        weights = [w for _, _, w in training]\n",
    "        Xs = np.concatenate(Xs, axis=0)\n",
    "        ys = np.concatenate(ys, axis=0)\n",
    "        weights = np.concatenate(weights, axis=0)\n",
    "\n",
    "        selector = ys >= 0\n",
    "        Xs = Xs[selector]\n",
    "        ys = ys[selector]\n",
    "        weights = weights[selector]\n",
    "\n",
    "        self.pipeline.fit(Xs, ys)\n",
    "    \n",
    "    def _input_preprocessing(self, X: np.ndarray) -> np.ndarray:\n",
    "        return self.scaler.transform(self._fold(X))\n",
    "    \n",
    "    def predict(self, sample_X: np.ndarray | pl.DataFrame) -> np.ndarray:\n",
    "        return self.model.predict(self._input_preprocessing(sample_X))\n",
    "    \n",
    "    def predict_probabilities(self, sample_X: np.ndarray | pl.DataFrame) -> np.ndarray:\n",
    "        return self.model.predict_proba(self._input_preprocessing(sample_X))\n",
    "    \n",
    "    def _fold(self, input_X: np.ndarray | pl.DataFrame) -> np.array:\n",
    "        if isinstance(input_X, pl.DataFrame):\n",
    "            input_X = input_X.to_numpy()\n",
    "        return rolling_window(input_X, self.input_dim)\n",
    "    \n",
    "    def _trim_labels(self, labels_y: pl.DataFrame) -> np.ndarray:\n",
    "        start, end = self._indices_to_trim()\n",
    "        # return labels_y[self.input_dim:]\n",
    "        return labels_y[start:-end]\n",
    "        \n",
    "    def _indices_to_trim(self) -> Tuple[int, int]:\n",
    "        # ex: input_dim = 8 => (4, 3)\n",
    "        # ex: input_dim = 7 => (3, 3)\n",
    "        # ex: input_dim = 6 => (3, 2)\n",
    "        return (self.input_dim // 2, self.input_dim - (self.input_dim // 2))"
   ]
  },
  {
   "cell_type": "markdown",
   "metadata": {},
   "source": [
    "### Mads Olsen et all classifier\n",
    "\n",
    "We have downloaded the saved model weights from a [research repository from Mads Olsen's group](https://github.com/MADSOLSEN/SleepStagePrediction), and converted those into a saved Keras model to remove the need to re-define all of the layers. This conversion process is shown in `../analyses/convert_mads_olsen_model_to_keras.ipynb`.\n",
    "\n",
    "Thus, we have a TensorFlow model that we can run inference on, and we could train it if we wanted to.\n",
    "\n",
    "For simplicity, we are just going to run inference. One twist of our method is that the classifier is expecting two high-resolution spectrograms for inputs:\n",
    "1. 3-axis Accelerometer data\n",
    "2. PPG (photoplethysmogram) data\n",
    "\n",
    "Based on visually inspecting examples from the paper, we are going to hack together an input by flipping the accelerometer data along the frequencies axis. The paper images seem to show a similarity between high-frequency accelerometer data and low-frequency PPG data. Surprisingly, this seems to work well."
   ]
  },
  {
   "cell_type": "code",
   "execution_count": 42,
   "metadata": {},
   "outputs": [],
   "source": [
    "#| export\n",
    "\n",
    "\n",
    "from functools import partial\n",
    "import multiprocessing\n",
    "from concurrent.futures import ProcessPoolExecutor\n",
    "import warnings\n",
    "\n",
    "from pisces.mads_olsen_support import *\n",
    "from pisces.utils import split_analysis\n",
    "\n",
    "\n",
    "class MOResUNetPretrained(SleepWakeClassifier):\n",
    "    tf_model = load_saved_keras()\n",
    "    config = MO_PREPROCESSING_CONFIG\n",
    "\n",
    "    def __init__(\n",
    "        self,\n",
    "        sampling_hz: int = FS,\n",
    "    ) -> None:\n",
    "        \"\"\"\n",
    "        Initialize the MOResUNetPretrained classifier.\n",
    "\n",
    "        Args:\n",
    "            sampling_hz (int, optional): The sampling frequency in Hz. Defaults to FS.\n",
    "        \"\"\"\n",
    "        super().__init__()\n",
    "        self.sampling_hz = sampling_hz\n",
    "\n",
    "    def prepare_set_for_training(self, \n",
    "                                 data_set: DataSetObject, ids: List[str] | None = None,\n",
    "                                 max_workers: int | None = None \n",
    "                                 ) -> List[Tuple[np.ndarray, np.ndarray] | None]:\n",
    "        \"\"\"\n",
    "        Prepare the data set for training.\n",
    "\n",
    "        Args:\n",
    "            data_set (DataSetObject): The data set to prepare for training.\n",
    "            ids (List[str], optional): The IDs to prepare. Defaults to None.\n",
    "            max_workers (int, optional): The number of workers to use for parallel processing. Defaults to None, which uses all available cores. Setting to a negative number leaves that many cores unused. For example, if my machine has 4 cores and I set max_workers to -1, then 3 = 4 - 1 cores will be used; if max_workers=-3 then 1 = 4 - 3 cores are used.\n",
    "\n",
    "        Returns:\n",
    "            List[Tuple[np.ndarray, np.ndarray] | None]: A list of tuples, where each tuple is the result of `get_needed_X_y` for a given ID. An empty list indicates an error occurred during processing.\n",
    "        \"\"\"\n",
    "        if ids is None:\n",
    "            ids = data_set.ids\n",
    "        results = []\n",
    "        \n",
    "        if ids:\n",
    "            data_set_and_ids = [(data_set, id) for id in ids]\n",
    "            # Get the number of available CPU cores\n",
    "            num_cores = multiprocessing.cpu_count()\n",
    "            workers_to_use = max_workers if max_workers is not None else num_cores\n",
    "            if (workers_to_use > num_cores):\n",
    "                warnings.warn(f\"Attempting to use {max_workers} but only have {num_cores}. Running with {num_cores} workers.\")\n",
    "                workers_to_use = num_cores\n",
    "            if workers_to_use <= 0:\n",
    "                workers_to_use = num_cores + max_workers\n",
    "            if workers_to_use < 1:\n",
    "                # do this check second, NOT with elif, to verify we're still in a valid state\n",
    "                raise ValueError(f\"With `max_workers` == {max_workers}, we end up with max_workers + num_cores ({max_workers} + {num_cores}) which is less than 1. This is an error.\")\n",
    "\n",
    "            print(f\"Using {workers_to_use} of {num_cores} cores ({int(100 * workers_to_use / num_cores)}%) for parallel preprocessing.\")\n",
    "            print(f\"This can cause memory or heat issues if  is too high; if you run into problems, call prepare_set_for_training() again with max_workers = -1, going more negative if needed. (See the docstring for more info.)\")\n",
    "\n",
    "            # Create a pool of workers\n",
    "            with ProcessPoolExecutor(max_workers=workers_to_use) as executor:\n",
    "                results = list(\n",
    "                    executor.map(\n",
    "                        self.get_needed_X_y_from_pair, \n",
    "                        data_set_and_ids\n",
    "                    ))\n",
    "        else:\n",
    "            warnings.warn(\"No IDs found in the data set.\")\n",
    "            return results\n",
    "        return results\n",
    "    \n",
    "    def get_needed_X_y_from_pair(self, pair: Tuple[DataSetObject, str]) -> Tuple[np.ndarray, np.ndarray] | None:\n",
    "        \"\"\"\n",
    "        Get the needed X and y data from a pair of data set and ID.\n",
    "\n",
    "        Args:\n",
    "            pair (Tuple[DataSetObject, str]): The pair of data set and ID.\n",
    "\n",
    "        Returns:\n",
    "            Tuple[np.ndarray, np.ndarray] | None: The X and y data as a tuple, or None if an error occurred.\n",
    "        \"\"\"\n",
    "        data_set, id = pair\n",
    "        print(f\"getting needed X, y for {id}\")\n",
    "        return self.get_needed_X_y(data_set, id)\n",
    "    \n",
    "    def get_needed_X_y(self, data_set: DataSetObject, id: str) -> Tuple[np.ndarray, np.ndarray] | None:\n",
    "        accelerometer = data_set.get_feature_data(\"accelerometer\", id)\n",
    "        psg = data_set.get_feature_data(\"psg\", id)\n",
    "\n",
    "        if accelerometer is None or psg is None:\n",
    "            print(f\"ID {id} {'psg' if psg is None else 'accelerometer'} not found in {data_set.name}\")\n",
    "            return None\n",
    "        \n",
    "        print(\"sampling hz:\", self.sampling_hz)\n",
    "        accelerometer = fill_gaps_in_accelerometer_data(accelerometer, smooth=False, final_sampling_rate_hz=self.sampling_hz)\n",
    "        stop_time = min(accelerometer[:, 0].max(), psg[:, 0].max())\n",
    "        accelerometer = accelerometer.filter(accelerometer[:, 0] <= stop_time)\n",
    "        psg = psg.filter(psg[:, 0] <= stop_time)\n",
    "\n",
    "\n",
    "        mirrored_spectro = self._input_preprocessing(accelerometer)\n",
    "\n",
    "        return mirrored_spectro, psg_to_sleep_wake(psg)\n",
    "\n",
    "    def train(self, \n",
    "              examples_X: List[pl.DataFrame] = [], \n",
    "              examples_y: List[pl.DataFrame] = [], \n",
    "              pairs_Xy: List[Tuple[pl.DataFrame, pl.DataFrame]] = [], \n",
    "              epochs: int = 10, batch_size: int = 32):\n",
    "        \"\"\"Training is not implemented yet for this model. You can run inference, though, using `predict_probabilities` and `predict`.\"\"\"\n",
    "        pass\n",
    "\n",
    "    def predict(self, sample_X: np.ndarray | pl.DataFrame) -> np.ndarray:\n",
    "        return np.argmax(self.predict_probabilities(sample_X), axis=1)\n",
    "\n",
    "    def predict_probabilities(self, sample_X: np.ndarray | pl.DataFrame) -> np.ndarray:\n",
    "        if isinstance(sample_X, pl.DataFrame):\n",
    "            sample_X = sample_X.to_numpy()\n",
    "        return self._evaluate_tf_model(sample_X)\n",
    "\n",
    "    def roc_curve(self, examples_X_y: Tuple[np.ndarray, np.ndarray]) -> Tuple[np.ndarray, np.ndarray]:\n",
    "        raise NotImplementedError\n",
    "    def roc_auc(self, examples_X_y: Tuple[np.ndarray, np.ndarray]) -> float:\n",
    "        raise NotImplementedError\n",
    "\n",
    "    @classmethod\n",
    "    def _spectrogram_preprocessing(cls, acc_xyz: np.ndarray) -> np.ndarray:\n",
    "        return cls._preprocessing(acc_xyz)\n",
    "\n",
    "    @classmethod\n",
    "    def _input_preprocessing(\n",
    "        cls,\n",
    "        acc_xyz: pl.DataFrame | np.ndarray\n",
    "    ) -> np.ndarray:\n",
    "\n",
    "        spec = cls._spectrogram_preprocessing(acc_xyz)\n",
    "\n",
    "        # We will copy the spectrogram to both channels, flipping it on channel 1\n",
    "        input_shape = (1, *MO_UNET_CONFIG['input_shape'])\n",
    "        inputs_len = input_shape[1]\n",
    "\n",
    "        inputs = np.zeros(shape=input_shape, dtype=np.float32)\n",
    "        # We must do some careful work with indices to not overflow arrays\n",
    "        spec = spec[:inputs_len].astype(np.float32) # protect agains spec.len > input_shape\n",
    "\n",
    "        #! careful, order matters here. We first trim spec to make sure it'll fit into inputs,\n",
    "        # then compute the new length which we KNOW is <= inputs_len\n",
    "        spec_len = spec.shape[0]\n",
    "        # THEN we assign only as much inputs as spec covers\n",
    "        inputs[0, : spec_len, :, 0] = spec # protect agains spec_len < input_shape\n",
    "        inputs[0, : spec_len, :, 1] = spec[:, ::-1]\n",
    "\n",
    "        return inputs\n",
    "\n",
    "    def _evaluate_tf_model(self, inputs: np.ndarray) -> np.ndarray:\n",
    "        # set input tensor to FLOAT32\n",
    "        inputs = inputs.astype(np.float32)\n",
    "\n",
    "        # run inference\n",
    "        preds = self.tf_model.predict(inputs)\n",
    "\n",
    "        return preds\n",
    "    \n",
    "    @classmethod\n",
    "    def _preprocessing(\n",
    "        cls,\n",
    "        acc: pl.DataFrame | np.ndarray\n",
    "    ) -> np.ndarray:\n",
    "        \"\"\"\n",
    "        The Mads Olsen repo uses a list of transformations\n",
    "        \"\"\"\n",
    "        if isinstance(acc, pl.DataFrame):\n",
    "            acc = acc.to_numpy()\n",
    "        x_ = acc[:, 0]\n",
    "        y_ = acc[:, 1]\n",
    "        z_ = acc[:, 2]\n",
    "        for step in cls.config[\"preprocessing\"]:\n",
    "            fn = eval(step[\"type\"])  # convert string version to function in environment\n",
    "            fn_args = partial(\n",
    "                fn, **step[\"args\"]\n",
    "            )  # fill in the args given, which must be everything besides numerical input\n",
    "\n",
    "            # apply\n",
    "            x_ = fn_args(x_)\n",
    "            y_ = fn_args(y_)\n",
    "            z_ = fn_args(z_)\n",
    "\n",
    "        spec = x_ + y_ + z_\n",
    "        spec /= 3.0\n",
    "\n",
    "        return spec\n",
    "\n",
    "    def evaluate_data_set(self, data_set: DataSetObject, exclude: List[str] = [], max_workers: int = None) -> Tuple[Dict[str, dict], list]:\n",
    "        filtered_ids = [id for id in data_set.ids if id not in exclude]\n",
    "        mo_preprocessed_data = [\n",
    "            (d, i) \n",
    "            for (d, i) in zip(\n",
    "                self.prepare_set_for_training(data_set, filtered_ids, max_workers=max_workers),\n",
    "                filtered_ids) \n",
    "            if d is not None\n",
    "        ]\n",
    "\n",
    "        evaluations: Dict[str, dict] = {}\n",
    "        for i, ((X, y), id) in enumerate(mo_preprocessed_data):\n",
    "            y_hat_proba = self.predict_probabilities(X)\n",
    "            y_hat_sleep_proba = (1 - y_hat_proba[:, :, 0]).reshape(-1,)\n",
    "            analysis = split_analysis(y, y_hat_sleep_proba)\n",
    "            evaluations[id] = analysis\n",
    "            print(f\"Processing {i+1} of {len(mo_preprocessed_data)} ({id})... AUROC: {analysis['auc']}\")\n",
    "        return evaluations, mo_preprocessed_data\n",
    "\n"
   ]
  },
  {
   "cell_type": "markdown",
   "metadata": {},
   "source": [
    "### Training tools"
   ]
  },
  {
   "cell_type": "code",
   "execution_count": 43,
   "metadata": {},
   "outputs": [],
   "source": [
    "#| export\n",
    "from typing import Type\n",
    "from tqdm import tqdm\n",
    "from sklearn.model_selection import LeaveOneOut\n",
    "\n",
    "\n",
    "class SplitMaker:\n",
    "    def split(self, ids: List[str]) -> Tuple[List[int], List[int]]:\n",
    "        raise NotImplementedError\n",
    "    \n",
    "class LeaveOneOutSplitter(SplitMaker):\n",
    "    def split(self, ids: List[str]) -> Tuple[List[int], List[int]]:\n",
    "        loo = LeaveOneOut()\n",
    "        return loo.split(ids)\n",
    "\n",
    "def run_split(train_indices, \n",
    "              preprocessed_data_set: List[Tuple[np.ndarray, np.ndarray]], \n",
    "              swc: SleepWakeClassifier) -> SleepWakeClassifier:\n",
    "    training_pairs = [\n",
    "        preprocessed_data_set[i][0]\n",
    "        for i in train_indices\n",
    "        if preprocessed_data_set[i][0] is not None\n",
    "    ]\n",
    "    swc.train(pairs_Xy=training_pairs)\n",
    "\n",
    "    return swc\n",
    "\n",
    "def run_splits(split_maker: SplitMaker, w: DataSetObject, swc_class: Type[SleepWakeClassifier], exclude: List[str] = []) -> Tuple[\n",
    "        List[SleepWakeClassifier], \n",
    "        List[np.ndarray],\n",
    "        List[List[List[int]]]]:\n",
    "    split_models: List[swc_class] = []\n",
    "    test_indices = []\n",
    "    splits = []\n",
    "\n",
    "    preprocessed_data = [(swc_class().get_needed_X_y(w, i), i) for i in w.ids if i not in exclude]\n",
    "\n",
    "    for train_index, test_index in tqdm(split_maker.split(w.ids)):\n",
    "        if preprocessed_data[test_index[0]][0] is None:\n",
    "            continue\n",
    "        model = run_split(train_indices=train_index,\n",
    "                        preprocessed_data_set=preprocessed_data,\n",
    "                        swc=swc_class())\n",
    "        split_models.append(model)\n",
    "        test_indices.append(test_index[0])\n",
    "        splits.append([train_index, test_index])\n",
    "        # break\n",
    "    \n",
    "    return split_models, preprocessed_data, splits\n",
    "\n"
   ]
  },
  {
   "cell_type": "code",
   "execution_count": 44,
   "metadata": {},
   "outputs": [
    {
     "ename": "SyntaxError",
     "evalue": "expected ':' (<unknown>, line 8)",
     "output_type": "error",
     "traceback": [
      "Traceback \u001b[1;36m(most recent call last)\u001b[0m:\n",
      "\u001b[0m  File \u001b[0;32mc:\\Users\\tavel\\Desktop\\Internship-Arcascope\\2024_internship\\.venv\\Lib\\site-packages\\IPython\\core\\interactiveshell.py:3577\u001b[0m in \u001b[0;35mrun_code\u001b[0m\n    exec(code_obj, self.user_global_ns, self.user_ns)\u001b[0m\n",
      "\u001b[0m  Cell \u001b[0;32mIn[44], line 3\u001b[0m\n    nbdev.nbdev_export()\u001b[0m\n",
      "\u001b[0m  File \u001b[0;32mc:\\Users\\tavel\\Desktop\\Internship-Arcascope\\2024_internship\\.venv\\Lib\\site-packages\\fastcore\\script.py:110\u001b[0m in \u001b[0;35m_f\u001b[0m\n    if not mod: return func(*args, **kwargs)\u001b[0m\n",
      "\u001b[0m  File \u001b[0;32mc:\\Users\\tavel\\Desktop\\Internship-Arcascope\\2024_internship\\.venv\\Lib\\site-packages\\nbdev\\doclinks.py:144\u001b[0m in \u001b[0;35mnbdev_export\u001b[0m\n    _build_modidx()\u001b[0m\n",
      "\u001b[0m  File \u001b[0;32mc:\\Users\\tavel\\Desktop\\Internship-Arcascope\\2024_internship\\.venv\\Lib\\site-packages\\nbdev\\doclinks.py:102\u001b[0m in \u001b[0;35m_build_modidx\u001b[0m\n    res['syms'].update(_get_modidx((dest.parent/file).resolve(), code_root, nbs_path=nbs_path))\u001b[0m\n",
      "\u001b[0m  File \u001b[0;32mc:\\Users\\tavel\\Desktop\\Internship-Arcascope\\2024_internship\\.venv\\Lib\\site-packages\\nbdev\\doclinks.py:79\u001b[0m in \u001b[0;35m_get_modidx\u001b[0m\n    for tree in ast.parse(cell.code).body:\u001b[0m\n",
      "\u001b[1;36m  File \u001b[1;32mE:\\Python\\Lib\\ast.py:50\u001b[1;36m in \u001b[1;35mparse\u001b[1;36m\n\u001b[1;33m    return compile(source, filename, mode, flags,\u001b[1;36m\n",
      "\u001b[1;36m  File \u001b[1;32m<unknown>:8\u001b[1;36m\u001b[0m\n\u001b[1;33m    )\u001b[0m\n\u001b[1;37m     ^\u001b[0m\n\u001b[1;31mSyntaxError\u001b[0m\u001b[1;31m:\u001b[0m expected ':'\n"
     ]
    }
   ],
   "source": [
    "#| hide\n",
    "import nbdev\n",
    "nbdev.nbdev_export()"
   ]
  },
  {
   "cell_type": "code",
   "execution_count": null,
   "metadata": {},
   "outputs": [],
   "source": []
  }
 ],
 "metadata": {
  "kernelspec": {
   "display_name": "python3",
   "language": "python",
   "name": "python3"
  },
  "language_info": {
   "codemirror_mode": {
    "name": "ipython",
    "version": 3
   },
   "file_extension": ".py",
   "mimetype": "text/x-python",
   "name": "python",
   "nbconvert_exporter": "python",
   "pygments_lexer": "ipython3",
   "version": "3.11.0"
  }
 },
 "nbformat": 4,
 "nbformat_minor": 2
}
