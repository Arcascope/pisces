{
 "cells": [
  {
   "cell_type": "markdown",
   "metadata": {},
   "source": [
    "# utils\n",
    "\n",
    "> Utility functions useful throughout."
   ]
  },
  {
   "cell_type": "code",
   "execution_count": 2,
   "metadata": {},
   "outputs": [],
   "source": [
    "#| default_exp utils"
   ]
  },
  {
   "cell_type": "code",
   "execution_count": 3,
   "metadata": {},
   "outputs": [],
   "source": [
    "#| hide \n",
    "%load_ext autoreload\n",
    "%autoreload 2"
   ]
  },
  {
   "cell_type": "code",
   "execution_count": 4,
   "metadata": {},
   "outputs": [],
   "source": [
    "#| export\n",
    "from pathlib import Path\n",
    "\n",
    "import numpy as np\n",
    "import numpy.typing as npt\n",
    "from typing import Dict, List, Optional, Tuple, Union\n",
    "from enum import Enum, auto\n",
    "from typing import ClassVar, List"
   ]
  },
  {
   "cell_type": "markdown",
   "metadata": {},
   "source": [
    "## CSV Utilities"
   ]
  },
  {
   "cell_type": "code",
   "execution_count": null,
   "metadata": {},
   "outputs": [],
   "source": [
    "#| export\n",
    "\n",
    "def determine_header_rows_and_delimiter(\n",
    "    filename: Union[Path, str]\n",
    ") -> Tuple[Optional[int], Optional[str]]:\n",
    "    \"\"\"\n",
    "    Given a filename pointing at a CSV files, decides:\n",
    "     * how many header lines there are (based on first line starting with a digit)\n",
    "     * the delimiter-- right now tries whitespace and comma\n",
    "\n",
    "    Returns one of:\n",
    "     - (number of header rows, column delimiter),\n",
    "     - (number of header rows, None) if the delimiter could not be inferred,\n",
    "     - (None, None) if CSV has no numerical rows,\n",
    "\n",
    "    :param filename: CSV Path or filepath literal\n",
    "    :return: header and delimiter information, if possible.\n",
    "    \"\"\"\n",
    "    MAX_ROWS = 100  # if you don't have data within first 100 lines, exit.\n",
    "    header_row_count = 0\n",
    "    with open(filename) as f:\n",
    "        header_found = False\n",
    "        line = \"\"  # modified in while below\n",
    "\n",
    "        # Search over lines until we find one starting with a digit\n",
    "        while not header_found:\n",
    "            line = f.readline()\n",
    "            if line == \"\":  # last line of file reached\n",
    "                return None, None\n",
    "            line = line.strip()\n",
    "            try:\n",
    "                int(line[0])\n",
    "                header_found = True\n",
    "            except ValueError:\n",
    "                header_row_count += 1\n",
    "            except IndexError:\n",
    "                header_row_count += 1\n",
    "\n",
    "            # guard against infinite loop\n",
    "            if header_row_count >= MAX_ROWS:\n",
    "                return None, None\n",
    "\n",
    "        # Now try splitting that first line of data\n",
    "        delim_guesses = [\" \", \",\", \", \"]\n",
    "\n",
    "        for guess in delim_guesses:\n",
    "            try:\n",
    "                comps = line.split(guess)  # whitespace separated?\n",
    "                float(comps[0])\n",
    "                return header_row_count, guess\n",
    "            except ValueError:\n",
    "                continue\n",
    "        return header_row_count, None\n"
   ]
  }
 ],
 "metadata": {
  "kernelspec": {
   "display_name": "pisces",
   "language": "python",
   "name": "python3"
  },
  "language_info": {
   "codemirror_mode": {
    "name": "ipython",
    "version": 3
   },
   "file_extension": ".py",
   "mimetype": "text/x-python",
   "name": "python",
   "nbconvert_exporter": "python",
   "pygments_lexer": "ipython3",
   "version": "3.11.7"
  }
 },
 "nbformat": 4,
 "nbformat_minor": 2
}
