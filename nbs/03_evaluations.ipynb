{
 "cells": [
  {
   "cell_type": "markdown",
   "metadata": {},
   "source": [
    "# evaluations\n",
    "\n",
    "> This module defines the outputs of the experiments you can run with pisces. "
   ]
  },
  {
   "cell_type": "code",
   "execution_count": 1,
   "metadata": {},
   "outputs": [],
   "source": [
    "#| default_exp evaluations"
   ]
  },
  {
   "cell_type": "code",
   "execution_count": 2,
   "metadata": {},
   "outputs": [],
   "source": [
    "#| hide \n",
    "%load_ext autoreload\n",
    "%autoreload 2"
   ]
  },
  {
   "cell_type": "code",
   "execution_count": 8,
   "metadata": {},
   "outputs": [],
   "source": [
    "#| hide\n",
    "from nbdev.showdoc import *\n"
   ]
  },
  {
   "cell_type": "code",
   "execution_count": 7,
   "metadata": {},
   "outputs": [],
   "source": [
    "#| export\n",
    "\n",
    "from enum import Enum\n",
    "from typing import List\n",
    "\n",
    "from enum import Enum, auto\n",
    "from typing import Dict, List, Optional, Tuple, Union\n",
    "\n",
    "from pathlib import Path\n",
    "\n",
    "import numpy as np"
   ]
  },
  {
   "cell_type": "markdown",
   "metadata": {},
   "source": [
    "## Test split evaluation\n",
    "\n",
    "The fundamental organization of a `pisces` pipeline run is the train-test split. Because we tend to care about inference capabilities on unseen data, it's natural to think about the splits being parametrized by the testing set; often one uses LOO validation methods on patient data, so it links up naturally with thinking of the performance of a trained model _on this patient/subject._"
   ]
  },
  {
   "cell_type": "code",
   "execution_count": 4,
   "metadata": {},
   "outputs": [],
   "source": [
    "#| export\n",
    "from pisces.loader import StudyRecord"
   ]
  },
  {
   "cell_type": "code",
   "execution_count": 19,
   "metadata": {},
   "outputs": [],
   "source": [
    "\n",
    "from dataclasses import dataclass\n",
    "\n",
    "import numpy.typing as npt\n",
    "\n",
    "from pisces.records import TimeseriesRecording\n",
    "\n",
    "\n",
    "class PSGPredictionsShapeError(Exception):\n",
    "    \"\"\"\n",
    "    An exception to be raised when the shape of the predictions is invalid.\n",
    "    \"\"\"\n",
    "    def __init__(self, *args: object) -> None:\n",
    "        super().__init__(*args)\n",
    "\n",
    "\n",
    "class PSGPredictionsNotProbabilityVectorError(Exception):\n",
    "    \"\"\"\n",
    "    An exception to be raised when the predictions are not a probability vector.\n",
    "    \"\"\"\n",
    "    def __init__(self, *args: object) -> None:\n",
    "        super().__init__(*args)\n",
    "\n",
    "\n",
    "@dataclass\n",
    "class PSGModelOutputs(TimeseriesRecording):\n",
    "    \"\"\"\n",
    "    TimeseriesRecording output from models; models should type a specific subclass of\n",
    "    this in the return type of their evaluate method.\n",
    "\n",
    "    Probabilities should be a NumPy array shaped such that\n",
    "        self.probabilities[i]\n",
    "    indicates the probabilities of each sleep stage for times between\n",
    "        self.time[i] and self.time[i+1]\n",
    "    In particular, self.probabilities should have shape\n",
    "        (N,) or (N, m)\n",
    "    where N == len(self.time) and m = number of stages\n",
    "    \"\"\"\n",
    "\n",
    "    probabilities: npt.NDArray[np.float64]\n",
    "\n",
    "    def __post_init__(self):\n",
    "        \"\"\"This is a special dunder method for dataclasses that is called after __init__. You can override this in your subclass to do any additional validation; call super().__post_init__() within your override to run this class's method as part of it.\"\"\"\n",
    "        if len(self.time) != len(self.probabilities):\n",
    "            raise PSGPredictionsShapeError(f\"{len(self.probabilities)} == len(probabilities) must equal len(time) == {len(self.time)}\")\n",
    "\n",
    "        if not np.all(self.probabilities <= 1.0):\n",
    "            raise PSGPredictionsNotProbabilityVectorError(\n",
    "                \"Probabilities vector must contain entries between 0.0 and 1.0, inclusive.\"\n",
    "            )\n",
    "\n",
    "        if self.probabilities.shape not in self.valid_probability_shapes(self.time):\n",
    "            raise PSGPredictionsShapeError(\"Probabilities vector has invalid shape, must be one of: \" + str(self.valid_probability_shapes()))\n",
    "    \n",
    "    def valid_probability_shapes(self) -> List[Tuple[int, ...]]:\n",
    "        \"\"\"\n",
    "        Returns a list of valid shapes for the probabilities array\n",
    "        \"\"\"\n",
    "        pass\n",
    "\n",
    "    def _sort_specific_data(self, sort_idx: npt.NDArray[np.int64]) -> None:\n",
    "        self.probabilities = self.probabilities[sort_idx]\n",
    "\n",
    "    def _trim_specific_data(self, select_idx: np.ndarray) -> None:\n",
    "        if select_idx.dtype == bool:\n",
    "            # Reduce to case where indices to include are provided\n",
    "            select_idx = np.nonzero(select_idx)\n",
    "        self.probabilities = self.probabilities[select_idx]\n",
    "\n",
    "\n",
    "class PSGSleepWakePredictions(PSGModelOutputs):\n",
    "    def __post_init__(self):\n",
    "        super().__post_init__()\n",
    "    \n",
    "    def valid_probability_shapes(self) -> List[Tuple[int, ...]]:\n",
    "        return [(len(self.time),), (len(self.time), 1), (len(self.time), 2)]\n",
    "    \n"
   ]
  },
  {
   "cell_type": "code",
   "execution_count": null,
   "metadata": {},
   "outputs": [],
   "source": []
  },
  {
   "cell_type": "code",
   "execution_count": 17,
   "metadata": {},
   "outputs": [
    {
     "ename": "PSGPredictionsShapeError",
     "evalue": "11 == len(probabilities) must equal len(time) == 10",
     "output_type": "error",
     "traceback": [
      "\u001b[0;31m---------------------------------------------------------------------------\u001b[0m",
      "\u001b[0;31mAssertionError\u001b[0m                            Traceback (most recent call last)",
      "Cell \u001b[0;32mIn[16], line 37\u001b[0m, in \u001b[0;36mPSGModelOutputs.__post_init__\u001b[0;34m(self)\u001b[0m\n\u001b[1;32m     36\u001b[0m \u001b[38;5;28;01mtry\u001b[39;00m:\n\u001b[0;32m---> 37\u001b[0m     \u001b[38;5;28;01massert\u001b[39;00m \u001b[38;5;28mlen\u001b[39m(\u001b[38;5;28mself\u001b[39m\u001b[38;5;241m.\u001b[39mtime) \u001b[38;5;241m==\u001b[39m \u001b[38;5;28mlen\u001b[39m(\u001b[38;5;28mself\u001b[39m\u001b[38;5;241m.\u001b[39mprobabilities)\n\u001b[1;32m     38\u001b[0m \u001b[38;5;28;01mexcept\u001b[39;00m \u001b[38;5;167;01mException\u001b[39;00m \u001b[38;5;28;01mas\u001b[39;00m ae:\n",
      "\u001b[0;31mAssertionError\u001b[0m: ",
      "\nDuring handling of the above exception, another exception occurred:\n",
      "\u001b[0;31mPSGPredictionsShapeError\u001b[0m                  Traceback (most recent call last)",
      "Cell \u001b[0;32mIn[17], line 1\u001b[0m\n\u001b[0;32m----> 1\u001b[0m psg \u001b[38;5;241m=\u001b[39m \u001b[43mPSGModelOutputs\u001b[49m\u001b[43m(\u001b[49m\u001b[43mtime\u001b[49m\u001b[38;5;241;43m=\u001b[39;49m\u001b[43mnp\u001b[49m\u001b[38;5;241;43m.\u001b[39;49m\u001b[43marange\u001b[49m\u001b[43m(\u001b[49m\u001b[38;5;241;43m10\u001b[39;49m\u001b[43m)\u001b[49m\u001b[43m,\u001b[49m\u001b[43m \u001b[49m\u001b[43mprobabilities\u001b[49m\u001b[38;5;241;43m=\u001b[39;49m\u001b[43mnp\u001b[49m\u001b[38;5;241;43m.\u001b[39;49m\u001b[43mrandom\u001b[49m\u001b[38;5;241;43m.\u001b[39;49m\u001b[43mrand\u001b[49m\u001b[43m(\u001b[49m\u001b[38;5;241;43m11\u001b[39;49m\u001b[43m,\u001b[49m\u001b[43m \u001b[49m\u001b[38;5;241;43m5\u001b[39;49m\u001b[43m)\u001b[49m\u001b[43m)\u001b[49m\n",
      "File \u001b[0;32m<string>:5\u001b[0m, in \u001b[0;36m__init__\u001b[0;34m(self, time, probabilities)\u001b[0m\n",
      "Cell \u001b[0;32mIn[16], line 39\u001b[0m, in \u001b[0;36mPSGModelOutputs.__post_init__\u001b[0;34m(self)\u001b[0m\n\u001b[1;32m     37\u001b[0m     \u001b[38;5;28;01massert\u001b[39;00m \u001b[38;5;28mlen\u001b[39m(\u001b[38;5;28mself\u001b[39m\u001b[38;5;241m.\u001b[39mtime) \u001b[38;5;241m==\u001b[39m \u001b[38;5;28mlen\u001b[39m(\u001b[38;5;28mself\u001b[39m\u001b[38;5;241m.\u001b[39mprobabilities)\n\u001b[1;32m     38\u001b[0m \u001b[38;5;28;01mexcept\u001b[39;00m \u001b[38;5;167;01mException\u001b[39;00m \u001b[38;5;28;01mas\u001b[39;00m ae:\n\u001b[0;32m---> 39\u001b[0m     \u001b[38;5;28;01mraise\u001b[39;00m PSGPredictionsShapeError(\u001b[38;5;124mf\u001b[39m\u001b[38;5;124m\"\u001b[39m\u001b[38;5;132;01m{\u001b[39;00m\u001b[38;5;28mlen\u001b[39m(\u001b[38;5;28mself\u001b[39m\u001b[38;5;241m.\u001b[39mprobabilities)\u001b[38;5;132;01m}\u001b[39;00m\u001b[38;5;124m == len(probabilities) must equal len(time) == \u001b[39m\u001b[38;5;132;01m{\u001b[39;00m\u001b[38;5;28mlen\u001b[39m(\u001b[38;5;28mself\u001b[39m\u001b[38;5;241m.\u001b[39mtime)\u001b[38;5;132;01m}\u001b[39;00m\u001b[38;5;124m\"\u001b[39m)\n\u001b[1;32m     41\u001b[0m \u001b[38;5;28;01mtry\u001b[39;00m:\n\u001b[1;32m     42\u001b[0m     \u001b[38;5;66;03m# Do not require >=0, allows for masking\u001b[39;00m\n\u001b[1;32m     43\u001b[0m     \u001b[38;5;28;01massert\u001b[39;00m np\u001b[38;5;241m.\u001b[39mall(\u001b[38;5;28mself\u001b[39m\u001b[38;5;241m.\u001b[39mprobabilities \u001b[38;5;241m<\u001b[39m\u001b[38;5;241m=\u001b[39m \u001b[38;5;241m1.0\u001b[39m)\n",
      "\u001b[0;31mPSGPredictionsShapeError\u001b[0m: 11 == len(probabilities) must equal len(time) == 10"
     ]
    }
   ],
   "source": [
    "psg = PSGModelOutputs(time=np.arange(10), probabilities=np.random.rand(11, 5))"
   ]
  },
  {
   "cell_type": "code",
   "execution_count": 5,
   "metadata": {},
   "outputs": [],
   "source": [
    "class TestSplit:\n",
    "    def __init__(self, test_split: List[StudyRecord]):\n",
    "        self.test_split = test_split\n",
    "\n",
    "\n",
    "class TestSplitEvaluation:\n",
    "    pass"
   ]
  },
  {
   "cell_type": "code",
   "execution_count": 6,
   "metadata": {},
   "outputs": [],
   "source": [
    "#| hide\n",
    "import nbdev; nbdev.nbdev_export()"
   ]
  },
  {
   "cell_type": "code",
   "execution_count": null,
   "metadata": {},
   "outputs": [],
   "source": []
  }
 ],
 "metadata": {
  "kernelspec": {
   "display_name": "python3",
   "language": "python",
   "name": "python3"
  },
  "language_info": {
   "codemirror_mode": {
    "name": "ipython",
    "version": 3
   },
   "file_extension": ".py",
   "mimetype": "text/x-python",
   "name": "python",
   "nbconvert_exporter": "python",
   "pygments_lexer": "ipython3",
   "version": "3.11.7"
  }
 },
 "nbformat": 4,
 "nbformat_minor": 4
}
