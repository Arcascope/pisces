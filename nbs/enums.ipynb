{
 "cells": [
  {
   "cell_type": "markdown",
   "metadata": {},
   "source": [
    "# enums\n",
    "\n",
    "> Module containing enums refererenced throughout the project"
   ]
  },
  {
   "cell_type": "code",
   "execution_count": 8,
   "metadata": {},
   "outputs": [],
   "source": [
    "#| default_exp enums "
   ]
  },
  {
   "cell_type": "code",
   "execution_count": 9,
   "metadata": {},
   "outputs": [
    {
     "name": "stdout",
     "output_type": "stream",
     "text": [
      "The autoreload extension is already loaded. To reload it, use:\n",
      "  %reload_ext autoreload\n"
     ]
    }
   ],
   "source": [
    "#| hide \n",
    "%load_ext autoreload\n",
    "%autoreload 2"
   ]
  },
  {
   "cell_type": "code",
   "execution_count": 13,
   "metadata": {},
   "outputs": [],
   "source": [
    "#| export \n",
    "from enum import Enum, auto"
   ]
  },
  {
   "cell_type": "code",
   "execution_count": 14,
   "metadata": {},
   "outputs": [],
   "source": [
    "#| export\n",
    "class SleepOrWake(Enum):\n",
    "    \"\"\"\n",
    "    Very simple enum for fixing, once-and-for-all, meaning of class 0 and 1.\n",
    "    Use this enum when sensible for clarity in code.\n",
    "    \"\"\"\n",
    "\n",
    "    DO_NOT_USE = -2  # excluded post-hoc, e.g. padding\n",
    "    UNSCORED = -1\n",
    "    WAKE = 0\n",
    "    SLEEP = 1\n",
    "\n",
    "    \n",
    "class SleepStagesWLDR(Enum):\n",
    "    \"\"\"\n",
    "    Similar to SleepStages(Enum), but for Wake/Light/Deep/REM instead of Ns\n",
    "    \"\"\"\n",
    "\n",
    "    DO_NOT_USE = -2  # excluded post-hoc, e.g. padding\n",
    "    UNSCORED = -1\n",
    "    WAKE = 0\n",
    "    LIGHT = 1\n",
    "    DEEP = 2\n",
    "    REM = 3\n",
    "\n",
    "    def to_masked_sleep_wake(self) -> SleepOrWake:\n",
    "        match self:\n",
    "            case SleepStagesWLDR.DO_NOT_USE:\n",
    "                return SleepOrWake.DO_NOT_USE\n",
    "            case SleepStagesWLDR.UNSCORED:\n",
    "                return SleepOrWake.UNSCORED\n",
    "            case SleepStagesWLDR.WAKE:\n",
    "                return SleepOrWake.WAKE\n",
    "            case _:\n",
    "                return SleepOrWake.SLEEP\n",
    "    \n",
    "class SleepStages(Enum):\n",
    "    \"\"\"\n",
    "    Very simple enum for fixing, once-and-for-all, meaning of integer sleep stages.\n",
    "    Use this enum when possible for clarity in code.\n",
    "    \"\"\"\n",
    "\n",
    "    DO_NOT_USE = -2  # excluded post-hoc, e.g. padding\n",
    "    UNSCORED = -1\n",
    "    WAKE = 0\n",
    "    N1 = 1\n",
    "    N2 = 2\n",
    "    N3 = 3\n",
    "    N4 = 4\n",
    "    REM = 5\n",
    "\n",
    "    def to_masked_sleep_wake(self) -> SleepOrWake:\n",
    "        return self.to_WLDR().to_masked_sleep_wake()\n",
    "\n",
    "    def to_WLDR(self) -> SleepStagesWLDR:\n",
    "        match self:\n",
    "            case SleepStages.DO_NOT_USE:\n",
    "                return SleepOrWake.DO_NOT_USE\n",
    "            case SleepStages.UNSCORED:\n",
    "                return SleepStagesWLDR.UNSCORED\n",
    "            case SleepStages.WAKE:\n",
    "                return SleepStagesWLDR.WAKE\n",
    "            case SleepStages.N1 | SleepStages.N2:\n",
    "                return SleepStagesWLDR.LIGHT\n",
    "            case SleepStages.N3 | SleepStages.N4:\n",
    "                return SleepStagesWLDR.DEEP\n",
    "            case SleepStages.REM:\n",
    "                return SleepStagesWLDR.REM\n",
    "\n",
    "\n",
    "PSG_Enums = SleepOrWake | SleepStagesWLDR | SleepStages\n",
    "\n",
    "\n",
    "class SleepClassificationProblem(Enum):\n",
    "    SLEEP_OR_WAKE = auto()\n",
    "    SLEEP_STAGES_WLDR = auto()\n",
    "    SLEEP_STAGES = auto()\n",
    "\n",
    "    def type_enum(self) -> PSG_Enums:\n",
    "        match self:\n",
    "            case SleepClassificationProblem.SLEEP_OR_WAKE:\n",
    "                return SleepOrWake\n",
    "            case SleepClassificationProblem.SLEEP_STAGES_WLDR:\n",
    "                return SleepStagesWLDR\n",
    "            case SleepClassificationProblem.SLEEP_STAGES:\n",
    "                return SleepStages\n"
   ]
  },
  {
   "cell_type": "code",
   "execution_count": 12,
   "metadata": {},
   "outputs": [],
   "source": [
    "#| hide\n",
    "import nbdev; nbdev.nbdev_export()"
   ]
  },
  {
   "cell_type": "code",
   "execution_count": null,
   "metadata": {},
   "outputs": [],
   "source": []
  }
 ],
 "metadata": {
  "kernelspec": {
   "display_name": "pisces",
   "language": "python",
   "name": "python3"
  },
  "language_info": {
   "codemirror_mode": {
    "name": "ipython",
    "version": 3
   },
   "file_extension": ".py",
   "mimetype": "text/x-python",
   "name": "python",
   "nbconvert_exporter": "python",
   "pygments_lexer": "ipython3",
   "version": "3.11.7"
  }
 },
 "nbformat": 4,
 "nbformat_minor": 2
}
