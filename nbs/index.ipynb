{
 "cells": [
  {
   "cell_type": "markdown",
   "metadata": {},
   "source": [
    "# pisces\n",
    "\n",
    "> Pipeline for Sleep Classification and Evaluations"
   ]
  },
  {
   "cell_type": "markdown",
   "metadata": {},
   "source": [
    "This package provides a framework for running machine learning experiments in the sleep classification space. The core of the package is `SleepWakeClassifier` class that formalizes an API for pre-processing raw sensor data into model-specified formats and scoring methods, automated data set and subject/feature discovery based on a light folder structure. \n",
    "\n",
    "Also included is [an example notebook](analyses/stationary_vs_hybrid.ipynb) showing `pisces` being used for analysis in a forthcoming paper from Arcascope. That studies the potential impact to scoring accuracy that may occur when a sleep classifier is trained on stationary subjects in a sleep study, then is deployed for inference on a Naval vessel with lots of ambient mechanical vibrations which affect the accelerometer recordings essential to many approaches to sleep classification.\n",
    "\n",
    "The pipeline is designed to be flexible and can be easily extended to include new models, datasets, and evaluation metrics."
   ]
  },
  {
   "cell_type": "markdown",
   "metadata": {},
   "source": [
    "## Installation"
   ]
  },
  {
   "cell_type": "markdown",
   "metadata": {},
   "source": [
    "You can install this package from PyPi using:\n",
    "```sh\n",
    "pip install pisces\n",
    "```\n",
    "\n",
    "You can alternatively clone this repository and install the package locally using:\n",
    "```sh\n",
    "git clone https://github.com/Arcascope/pisces.git\n",
    "cd pisces\n",
    "pip install .\n",
    "```"
   ]
  },
  {
   "cell_type": "markdown",
   "metadata": {},
   "source": [
    "## Usage"
   ]
  },
  {
   "cell_type": "markdown",
   "metadata": {},
   "source": [
    "The primary module to import is `pisces.experiments` which contains classes used for discovering and providing access to data sets in your chosen folder, as well as (trainable) classifiers. \n",
    "\n",
    "Pisces is designed to be extended to support new models, and , datasets, and evaluation metrics. The `analyses` folder contains example notebooks that demonstrate how to use this code for comparing classifier performance on in-distribution and out-of-distribution accelerometer data."
   ]
  },
  {
   "cell_type": "markdown",
   "metadata": {},
   "source": [
    "## Data Sets"
   ]
  },
  {
   "cell_type": "markdown",
   "metadata": {},
   "source": [
    "Pisces automatically discovers data sets that match a simple, flexible format inside a given directory. `analyses/stationary_vs_hybrid.ipynb` finds data contained in the `data_sets` folder of the Pisces repository. The code is simple:\n",
    "\n",
    "```python\n",
    "from pisces.experiments import DataSetObject\n",
    "\n",
    "\n",
    "sets = DataSetObject.find_data_sets(\"../data_sets\")\n",
    "walch = sets['walch_et_al']\n",
    "hybrid = sets['hybrid_motion']\n",
    "```\n",
    "\n",
    "Now we have 2 `DataSetObject`s, `walch` and `hybrid`, that can be queried for their subjects and features. These were discovered because these are folders inside of `data_sets` that have a compatible structure. \n",
    "\n",
    "These two sets were discovered because of the presence of at least one subdirectory matching the glob expression `cleaned_*`. Every subdirectory that matches this pattern is considered a feature, so based on the example below, Pisces discovers that `hybrid_motion` and `walch_et_al` both have `psg`, `accelerometer`, and `activity` features, in addition to other folders they may have not listed.\n",
    "\n",
    "The `data_sets` directory looks like:\n",
    "```sh\n",
    "data_sets\n",
    "├── walch_et_al\n",
    "│   ├── cleaned_accelerometer\n",
    "│   │   ├── 46343_cleaned_motion.out\n",
    "│   │   ├── 759667_cleaned_motion.out\n",
    "│   │   ├── ...\n",
    "│   ├── cleaned_activity\n",
    "│   │   ├── 46343_cleaned_counts.out\n",
    "│   │   ├── 759667_cleaned_counts.out\n",
    "│   │   ├── ...\n",
    "│   ├── cleaned_psg\n",
    "│   │   ├── 46343_cleaned_psg.out\n",
    "│   │   ├── 759667_cleaned_psg.out\n",
    "│   │   ├── ...\n",
    "├── hybrid_motion\n",
    "│   ├── cleaned_accelerometer\n",
    "│   │   ├── 46343.csv\n",
    "│   │   ├── 759667.csv\n",
    "│   │   ├── ...\n",
    "│   ├── cleaned_activity\n",
    "│   │   ├── 46343.csv\n",
    "│   │   ├── 759667.csv\n",
    "│   │   ├── ...\n",
    "│   ├── cleaned_psg\n",
    "│   │   ├── 46343_labeled_sleep.txt\n",
    "│   │   ├── 759667_labeled_sleep.txt\n",
    "│   │   ├── ...\n",
    "```\n",
    "\n",
    "### Key takeaways for data set discovery:\n",
    "1. The data set is discovered based on the presence of a subdirectory matching the glob expression `cleaned_*`.\n",
    "2. Every subdirectory that matches this pattern is considered a feature; these features are named after the part matching `*`.\n",
    "3. Subjects within a feature are computed per-feature, based on variadic and constant parts of the filenames within each feature directory.\n",
    "    1. It is no problem if some subjects are missing a certain feature. When the feature data for an existing subject, without that feature in their data, is requested, the feature will return `None` for that subject.\n",
    "    2. The naming scheme can vary greatly between features. However, the subject id MUST be the prefix on the filenames. For example, `46343_cleaned_motion.out` and `46343_labeled_sleep.txt` are both for the same subject, `46343`. If instead we named those `final_46343_cleaned_motion.out` and `46343_labeled_sleep.txt` then the subject's data would be broken into two subjects, `46343` and `final_46343`.\n",
    "\n",
    "### Advanced features of data set discovery:\n",
    "1. There is no _a-priori_ rule about what features in a data set give the labels and which are model inputs. This allows you to call the label feature whatever you want, or use a mixture of features (psg + ...) as labels for complex models supporting rich outputs.\n",
    "2. You can have other folders inside data set directories that do NOT match `cleaned_*`, and these are totally ignored. This allows you to store other data, like raw data or metadata, in the same directory as the cleaned data.\n",
    "3. You can have other folders whose sub-structure does not match the subject/feature structure, and these are totally ignored."
   ]
  },
  {
   "cell_type": "markdown",
   "metadata": {},
   "source": []
  }
 ],
 "metadata": {
  "kernelspec": {
   "display_name": "python3",
   "language": "python",
   "name": "python3"
  },
  "language_info": {
   "name": "python",
   "version": "3.11.7"
  }
 },
 "nbformat": 4,
 "nbformat_minor": 4
}
