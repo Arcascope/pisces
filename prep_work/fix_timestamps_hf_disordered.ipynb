{
 "cells": [
  {
   "cell_type": "code",
   "execution_count": 80,
   "metadata": {},
   "outputs": [],
   "source": [
    "from typing import List\n",
    "from matplotlib import pyplot as plt\n",
    "import numpy as np\n",
    "import polars as pl"
   ]
  },
  {
   "cell_type": "code",
   "execution_count": 82,
   "metadata": {},
   "outputs": [],
   "source": [
    "from pisces.experiments import DataSetObject\n",
    "\n",
    "\n",
    "sets = DataSetObject.find_data_sets(\"../data_sets\")\n",
    "hfd = sets['henry_ford_disordered']"
   ]
  },
  {
   "cell_type": "code",
   "execution_count": 83,
   "metadata": {},
   "outputs": [],
   "source": [
    "feature = \"accelerometer\"\n",
    "hf_id0 = hfd.ids[0]\n",
    "hf0 = hfd.get_feature_data(feature, hf_id0)"
   ]
  },
  {
   "cell_type": "code",
   "execution_count": 84,
   "metadata": {},
   "outputs": [
    {
     "data": {
      "text/html": [
       "<div><style>\n",
       ".dataframe > thead > tr,\n",
       ".dataframe > tbody > tr {\n",
       "  text-align: right;\n",
       "  white-space: pre-wrap;\n",
       "}\n",
       "</style>\n",
       "<small>shape: (5, 4)</small><table border=\"1\" class=\"dataframe\"><thead><tr><th>Timestamp</th><th>x</th><th>y</th><th>z</th></tr><tr><td>i64</td><td>f64</td><td>f64</td><td>f64</td></tr></thead><tbody><tr><td>1614393486</td><td>-0.200729</td><td>-0.513245</td><td>-0.959885</td></tr><tr><td>1614393486</td><td>-0.364395</td><td>-0.522568</td><td>-0.994354</td></tr><tr><td>1614393486</td><td>-0.221451</td><td>-0.559998</td><td>-1.007111</td></tr><tr><td>1614393486</td><td>-0.036346</td><td>-0.347076</td><td>-0.85527</td></tr><tr><td>1614393486</td><td>0.066513</td><td>-0.413788</td><td>-0.847763</td></tr></tbody></table></div>"
      ],
      "text/plain": [
       "shape: (5, 4)\n",
       "┌────────────┬───────────┬───────────┬───────────┐\n",
       "│ Timestamp  ┆ x         ┆ y         ┆ z         │\n",
       "│ ---        ┆ ---       ┆ ---       ┆ ---       │\n",
       "│ i64        ┆ f64       ┆ f64       ┆ f64       │\n",
       "╞════════════╪═══════════╪═══════════╪═══════════╡\n",
       "│ 1614393486 ┆ -0.200729 ┆ -0.513245 ┆ -0.959885 │\n",
       "│ 1614393486 ┆ -0.364395 ┆ -0.522568 ┆ -0.994354 │\n",
       "│ 1614393486 ┆ -0.221451 ┆ -0.559998 ┆ -1.007111 │\n",
       "│ 1614393486 ┆ -0.036346 ┆ -0.347076 ┆ -0.85527  │\n",
       "│ 1614393486 ┆ 0.066513  ┆ -0.413788 ┆ -0.847763 │\n",
       "└────────────┴───────────┴───────────┴───────────┘"
      ]
     },
     "execution_count": 84,
     "metadata": {},
     "output_type": "execute_result"
    }
   ],
   "source": [
    "hf0.head()"
   ]
  },
  {
   "cell_type": "markdown",
   "metadata": {},
   "source": [
    "Many (but not _all_ 😅) of the Henry Ford subjects have accelerometer recordings that are ~50 (timestamp, x, y, z) samples with the same unix timestamp (i.e. seconds since 1970-01-01 00:00 UTC+0), with the meaning that these samples were taken approximately equally spaced. For example:\n",
    "\n",
    "```csv\n",
    "// timestamp == 1614393486\n",
    "1614393486,-0.20072937,-0.513244629,-0.959884644\n",
    "1614393486,-0.364395142,-0.522567749,-0.994354248\n",
    "// ... 39 lines removed\n",
    "1614393486,0.041000366,-0.529266357,-0.912322998\n",
    "1614393486,0.041442871,-0.453567505,-0.929244995\n",
    "// 1614393486 -> ....87\n",
    "1614393487,0.091384888,-0.477371216,-0.872970581\n",
    "1614393487,0.069549561,-0.510955811,-0.865447998\n",
    "...\n",
    "```\n",
    "\n",
    "Our first objective is to process these CSVs such that the timestamp monotonically increases. The 43 samples with timestamp `1614393486` above would instead have timestamps `[1614393486 + i / 43 for i in range(43)]`."
   ]
  },
  {
   "cell_type": "code",
   "execution_count": 85,
   "metadata": {},
   "outputs": [
    {
     "name": "stderr",
     "output_type": "stream",
     "text": [
      "/var/folders/h4/pg7xmblx74zbp2yhls4bc_mh0000gn/T/ipykernel_20871/194316912.py:3: DeprecationWarning: `groupby` is deprecated. It has been renamed to `group_by`.\n",
      "  hf_count = hf0.groupby(timestamp_col, maintain_order=True).agg(pl.count(), pl.first(\"index\").alias(\"group_start_index\"))\n",
      "/var/folders/h4/pg7xmblx74zbp2yhls4bc_mh0000gn/T/ipykernel_20871/194316912.py:3: DeprecationWarning: `pl.count()` is deprecated. Please use `pl.len()` instead.\n",
      "  hf_count = hf0.groupby(timestamp_col, maintain_order=True).agg(pl.count(), pl.first(\"index\").alias(\"group_start_index\"))\n"
     ]
    }
   ],
   "source": [
    "timestamp_col = 'Timestamp'\n",
    "hf0 = hf0.with_columns(pl.col(timestamp_col).cast(pl.datatypes.Int64)).with_columns(pl.arange(0, hf0.height).alias(\"index\"))\n",
    "hf_count = hf0.groupby(timestamp_col, maintain_order=True).agg(pl.count(), pl.first(\"index\").alias(\"group_start_index\"))"
   ]
  },
  {
   "cell_type": "code",
   "execution_count": 86,
   "metadata": {},
   "outputs": [
    {
     "data": {
      "text/html": [
       "<div><style>\n",
       ".dataframe > thead > tr,\n",
       ".dataframe > tbody > tr {\n",
       "  text-align: right;\n",
       "  white-space: pre-wrap;\n",
       "}\n",
       "</style>\n",
       "<small>shape: (5, 3)</small><table border=\"1\" class=\"dataframe\"><thead><tr><th>Timestamp</th><th>count</th><th>group_start_index</th></tr><tr><td>i64</td><td>u32</td><td>i64</td></tr></thead><tbody><tr><td>1614393486</td><td>42</td><td>0</td></tr><tr><td>1614393487</td><td>51</td><td>42</td></tr><tr><td>1614393488</td><td>50</td><td>93</td></tr><tr><td>1614393489</td><td>49</td><td>143</td></tr><tr><td>1614393490</td><td>51</td><td>192</td></tr></tbody></table></div>"
      ],
      "text/plain": [
       "shape: (5, 3)\n",
       "┌────────────┬───────┬───────────────────┐\n",
       "│ Timestamp  ┆ count ┆ group_start_index │\n",
       "│ ---        ┆ ---   ┆ ---               │\n",
       "│ i64        ┆ u32   ┆ i64               │\n",
       "╞════════════╪═══════╪═══════════════════╡\n",
       "│ 1614393486 ┆ 42    ┆ 0                 │\n",
       "│ 1614393487 ┆ 51    ┆ 42                │\n",
       "│ 1614393488 ┆ 50    ┆ 93                │\n",
       "│ 1614393489 ┆ 49    ┆ 143               │\n",
       "│ 1614393490 ┆ 51    ┆ 192               │\n",
       "└────────────┴───────┴───────────────────┘"
      ]
     },
     "execution_count": 86,
     "metadata": {},
     "output_type": "execute_result"
    }
   ],
   "source": [
    "hf_count.head()"
   ]
  },
  {
   "cell_type": "code",
   "execution_count": 87,
   "metadata": {},
   "outputs": [
    {
     "data": {
      "text/html": [
       "<div><style>\n",
       ".dataframe > thead > tr,\n",
       ".dataframe > tbody > tr {\n",
       "  text-align: right;\n",
       "  white-space: pre-wrap;\n",
       "}\n",
       "</style>\n",
       "<small>shape: (1_048_575, 5)</small><table border=\"1\" class=\"dataframe\"><thead><tr><th>Timestamp</th><th>x</th><th>y</th><th>z</th><th>index</th></tr><tr><td>i64</td><td>f64</td><td>f64</td><td>f64</td><td>i64</td></tr></thead><tbody><tr><td>1614393486</td><td>-0.200729</td><td>-0.513245</td><td>-0.959885</td><td>0</td></tr><tr><td>1614393486</td><td>-0.364395</td><td>-0.522568</td><td>-0.994354</td><td>1</td></tr><tr><td>1614393486</td><td>-0.221451</td><td>-0.559998</td><td>-1.007111</td><td>2</td></tr><tr><td>1614393486</td><td>-0.036346</td><td>-0.347076</td><td>-0.85527</td><td>3</td></tr><tr><td>1614393486</td><td>0.066513</td><td>-0.413788</td><td>-0.847763</td><td>4</td></tr><tr><td>1614393486</td><td>0.14679</td><td>-0.553528</td><td>-0.758621</td><td>5</td></tr><tr><td>1614393486</td><td>0.050262</td><td>-0.559738</td><td>-0.766861</td><td>6</td></tr><tr><td>1614393486</td><td>0.082016</td><td>-0.518539</td><td>-0.856354</td><td>7</td></tr><tr><td>1614393486</td><td>0.163315</td><td>-0.437668</td><td>-0.845825</td><td>8</td></tr><tr><td>1614393486</td><td>0.08284</td><td>-0.424179</td><td>-0.805283</td><td>9</td></tr><tr><td>1614393486</td><td>-0.012039</td><td>-0.368988</td><td>-0.843658</td><td>10</td></tr><tr><td>1614393486</td><td>0.00856</td><td>-0.287689</td><td>-0.911301</td><td>11</td></tr><tr><td>&hellip;</td><td>&hellip;</td><td>&hellip;</td><td>&hellip;</td><td>&hellip;</td></tr><tr><td>1614414408</td><td>-0.322311</td><td>-0.407639</td><td>-0.85611</td><td>1048563</td></tr><tr><td>1614414408</td><td>-0.322968</td><td>-0.406509</td><td>-0.856033</td><td>1048564</td></tr><tr><td>1614414408</td><td>-0.322769</td><td>-0.407211</td><td>-0.856125</td><td>1048565</td></tr><tr><td>1614414408</td><td>-0.32486</td><td>-0.404526</td><td>-0.855957</td><td>1048566</td></tr><tr><td>1614414408</td><td>-0.324203</td><td>-0.40538</td><td>-0.85553</td><td>1048567</td></tr><tr><td>1614414408</td><td>-0.323624</td><td>-0.406357</td><td>-0.857544</td><td>1048568</td></tr><tr><td>1614414408</td><td>-0.323166</td><td>-0.405853</td><td>-0.856735</td><td>1048569</td></tr><tr><td>1614414408</td><td>-0.323532</td><td>-0.406021</td><td>-0.85701</td><td>1048570</td></tr><tr><td>1614414408</td><td>-0.323929</td><td>-0.406219</td><td>-0.856491</td><td>1048571</td></tr><tr><td>1614414408</td><td>-0.322632</td><td>-0.406296</td><td>-0.857788</td><td>1048572</td></tr><tr><td>1614414408</td><td>-0.323837</td><td>-0.405212</td><td>-0.855453</td><td>1048573</td></tr><tr><td>1614414408</td><td>-0.322922</td><td>-0.405365</td><td>-0.853241</td><td>1048574</td></tr></tbody></table></div>"
      ],
      "text/plain": [
       "shape: (1_048_575, 5)\n",
       "┌────────────┬───────────┬───────────┬───────────┬─────────┐\n",
       "│ Timestamp  ┆ x         ┆ y         ┆ z         ┆ index   │\n",
       "│ ---        ┆ ---       ┆ ---       ┆ ---       ┆ ---     │\n",
       "│ i64        ┆ f64       ┆ f64       ┆ f64       ┆ i64     │\n",
       "╞════════════╪═══════════╪═══════════╪═══════════╪═════════╡\n",
       "│ 1614393486 ┆ -0.200729 ┆ -0.513245 ┆ -0.959885 ┆ 0       │\n",
       "│ 1614393486 ┆ -0.364395 ┆ -0.522568 ┆ -0.994354 ┆ 1       │\n",
       "│ 1614393486 ┆ -0.221451 ┆ -0.559998 ┆ -1.007111 ┆ 2       │\n",
       "│ 1614393486 ┆ -0.036346 ┆ -0.347076 ┆ -0.85527  ┆ 3       │\n",
       "│ 1614393486 ┆ 0.066513  ┆ -0.413788 ┆ -0.847763 ┆ 4       │\n",
       "│ …          ┆ …         ┆ …         ┆ …         ┆ …       │\n",
       "│ 1614414408 ┆ -0.323532 ┆ -0.406021 ┆ -0.85701  ┆ 1048570 │\n",
       "│ 1614414408 ┆ -0.323929 ┆ -0.406219 ┆ -0.856491 ┆ 1048571 │\n",
       "│ 1614414408 ┆ -0.322632 ┆ -0.406296 ┆ -0.857788 ┆ 1048572 │\n",
       "│ 1614414408 ┆ -0.323837 ┆ -0.405212 ┆ -0.855453 ┆ 1048573 │\n",
       "│ 1614414408 ┆ -0.322922 ┆ -0.405365 ┆ -0.853241 ┆ 1048574 │\n",
       "└────────────┴───────────┴───────────┴───────────┴─────────┘"
      ]
     },
     "execution_count": 87,
     "metadata": {},
     "output_type": "execute_result"
    }
   ],
   "source": [
    "hf0"
   ]
  },
  {
   "cell_type": "code",
   "execution_count": 88,
   "metadata": {},
   "outputs": [],
   "source": [
    "hf0_group_rank = hf0.join(hf_count, on=timestamp_col).with_columns((pl.col(\"index\") - pl.col(\"group_start_index\")).alias(\"rank_in_group\")).drop('group_start_index')"
   ]
  },
  {
   "cell_type": "code",
   "execution_count": 89,
   "metadata": {},
   "outputs": [
    {
     "data": {
      "text/html": [
       "<div><style>\n",
       ".dataframe > thead > tr,\n",
       ".dataframe > tbody > tr {\n",
       "  text-align: right;\n",
       "  white-space: pre-wrap;\n",
       "}\n",
       "</style>\n",
       "<small>shape: (1_048_575, 7)</small><table border=\"1\" class=\"dataframe\"><thead><tr><th>Timestamp</th><th>x</th><th>y</th><th>z</th><th>index</th><th>count</th><th>rank_in_group</th></tr><tr><td>i64</td><td>f64</td><td>f64</td><td>f64</td><td>i64</td><td>u32</td><td>i64</td></tr></thead><tbody><tr><td>1614393486</td><td>-0.200729</td><td>-0.513245</td><td>-0.959885</td><td>0</td><td>42</td><td>0</td></tr><tr><td>1614393486</td><td>-0.364395</td><td>-0.522568</td><td>-0.994354</td><td>1</td><td>42</td><td>1</td></tr><tr><td>1614393486</td><td>-0.221451</td><td>-0.559998</td><td>-1.007111</td><td>2</td><td>42</td><td>2</td></tr><tr><td>1614393486</td><td>-0.036346</td><td>-0.347076</td><td>-0.85527</td><td>3</td><td>42</td><td>3</td></tr><tr><td>1614393486</td><td>0.066513</td><td>-0.413788</td><td>-0.847763</td><td>4</td><td>42</td><td>4</td></tr><tr><td>1614393486</td><td>0.14679</td><td>-0.553528</td><td>-0.758621</td><td>5</td><td>42</td><td>5</td></tr><tr><td>1614393486</td><td>0.050262</td><td>-0.559738</td><td>-0.766861</td><td>6</td><td>42</td><td>6</td></tr><tr><td>1614393486</td><td>0.082016</td><td>-0.518539</td><td>-0.856354</td><td>7</td><td>42</td><td>7</td></tr><tr><td>1614393486</td><td>0.163315</td><td>-0.437668</td><td>-0.845825</td><td>8</td><td>42</td><td>8</td></tr><tr><td>1614393486</td><td>0.08284</td><td>-0.424179</td><td>-0.805283</td><td>9</td><td>42</td><td>9</td></tr><tr><td>1614393486</td><td>-0.012039</td><td>-0.368988</td><td>-0.843658</td><td>10</td><td>42</td><td>10</td></tr><tr><td>1614393486</td><td>0.00856</td><td>-0.287689</td><td>-0.911301</td><td>11</td><td>42</td><td>11</td></tr><tr><td>&hellip;</td><td>&hellip;</td><td>&hellip;</td><td>&hellip;</td><td>&hellip;</td><td>&hellip;</td><td>&hellip;</td></tr><tr><td>1614414408</td><td>-0.322311</td><td>-0.407639</td><td>-0.85611</td><td>1048563</td><td>20</td><td>8</td></tr><tr><td>1614414408</td><td>-0.322968</td><td>-0.406509</td><td>-0.856033</td><td>1048564</td><td>20</td><td>9</td></tr><tr><td>1614414408</td><td>-0.322769</td><td>-0.407211</td><td>-0.856125</td><td>1048565</td><td>20</td><td>10</td></tr><tr><td>1614414408</td><td>-0.32486</td><td>-0.404526</td><td>-0.855957</td><td>1048566</td><td>20</td><td>11</td></tr><tr><td>1614414408</td><td>-0.324203</td><td>-0.40538</td><td>-0.85553</td><td>1048567</td><td>20</td><td>12</td></tr><tr><td>1614414408</td><td>-0.323624</td><td>-0.406357</td><td>-0.857544</td><td>1048568</td><td>20</td><td>13</td></tr><tr><td>1614414408</td><td>-0.323166</td><td>-0.405853</td><td>-0.856735</td><td>1048569</td><td>20</td><td>14</td></tr><tr><td>1614414408</td><td>-0.323532</td><td>-0.406021</td><td>-0.85701</td><td>1048570</td><td>20</td><td>15</td></tr><tr><td>1614414408</td><td>-0.323929</td><td>-0.406219</td><td>-0.856491</td><td>1048571</td><td>20</td><td>16</td></tr><tr><td>1614414408</td><td>-0.322632</td><td>-0.406296</td><td>-0.857788</td><td>1048572</td><td>20</td><td>17</td></tr><tr><td>1614414408</td><td>-0.323837</td><td>-0.405212</td><td>-0.855453</td><td>1048573</td><td>20</td><td>18</td></tr><tr><td>1614414408</td><td>-0.322922</td><td>-0.405365</td><td>-0.853241</td><td>1048574</td><td>20</td><td>19</td></tr></tbody></table></div>"
      ],
      "text/plain": [
       "shape: (1_048_575, 7)\n",
       "┌────────────┬───────────┬───────────┬───────────┬─────────┬───────┬───────────────┐\n",
       "│ Timestamp  ┆ x         ┆ y         ┆ z         ┆ index   ┆ count ┆ rank_in_group │\n",
       "│ ---        ┆ ---       ┆ ---       ┆ ---       ┆ ---     ┆ ---   ┆ ---           │\n",
       "│ i64        ┆ f64       ┆ f64       ┆ f64       ┆ i64     ┆ u32   ┆ i64           │\n",
       "╞════════════╪═══════════╪═══════════╪═══════════╪═════════╪═══════╪═══════════════╡\n",
       "│ 1614393486 ┆ -0.200729 ┆ -0.513245 ┆ -0.959885 ┆ 0       ┆ 42    ┆ 0             │\n",
       "│ 1614393486 ┆ -0.364395 ┆ -0.522568 ┆ -0.994354 ┆ 1       ┆ 42    ┆ 1             │\n",
       "│ 1614393486 ┆ -0.221451 ┆ -0.559998 ┆ -1.007111 ┆ 2       ┆ 42    ┆ 2             │\n",
       "│ 1614393486 ┆ -0.036346 ┆ -0.347076 ┆ -0.85527  ┆ 3       ┆ 42    ┆ 3             │\n",
       "│ 1614393486 ┆ 0.066513  ┆ -0.413788 ┆ -0.847763 ┆ 4       ┆ 42    ┆ 4             │\n",
       "│ …          ┆ …         ┆ …         ┆ …         ┆ …       ┆ …     ┆ …             │\n",
       "│ 1614414408 ┆ -0.323532 ┆ -0.406021 ┆ -0.85701  ┆ 1048570 ┆ 20    ┆ 15            │\n",
       "│ 1614414408 ┆ -0.323929 ┆ -0.406219 ┆ -0.856491 ┆ 1048571 ┆ 20    ┆ 16            │\n",
       "│ 1614414408 ┆ -0.322632 ┆ -0.406296 ┆ -0.857788 ┆ 1048572 ┆ 20    ┆ 17            │\n",
       "│ 1614414408 ┆ -0.323837 ┆ -0.405212 ┆ -0.855453 ┆ 1048573 ┆ 20    ┆ 18            │\n",
       "│ 1614414408 ┆ -0.322922 ┆ -0.405365 ┆ -0.853241 ┆ 1048574 ┆ 20    ┆ 19            │\n",
       "└────────────┴───────────┴───────────┴───────────┴─────────┴───────┴───────────────┘"
      ]
     },
     "execution_count": 89,
     "metadata": {},
     "output_type": "execute_result"
    }
   ],
   "source": [
    "hf0_group_rank"
   ]
  },
  {
   "cell_type": "code",
   "execution_count": 90,
   "metadata": {},
   "outputs": [],
   "source": [
    "hf0_fixed = hf0_group_rank.with_columns(pl.col(timestamp_col) + pl.col(\"rank_in_group\") / pl.col(\"count\")).drop(\"rank_in_group\", \"count\")"
   ]
  },
  {
   "cell_type": "code",
   "execution_count": 91,
   "metadata": {},
   "outputs": [
    {
     "data": {
      "text/plain": [
       "[1614393486.0,\n",
       " 1614393486.0238094,\n",
       " 1614393486.047619,\n",
       " 1614393486.0714285,\n",
       " 1614393486.0952382,\n",
       " 1614393486.1190476,\n",
       " 1614393486.142857,\n",
       " 1614393486.1666667,\n",
       " 1614393486.1904762,\n",
       " 1614393486.2142856]"
      ]
     },
     "execution_count": 91,
     "metadata": {},
     "output_type": "execute_result"
    }
   ],
   "source": [
    "[hf0_fixed[j, 0] for j in range(10)]"
   ]
  },
  {
   "cell_type": "code",
   "execution_count": 102,
   "metadata": {},
   "outputs": [],
   "source": [
    "# Let's record this process in a function\n",
    "\n",
    "def fix_timestamps(df: pl.DataFrame, timestamp_col: str = 'timestamp') -> pl.DataFrame:\n",
    "    # get an absolute row index, to keep the samples in order\n",
    "    df = df.with_columns(pl.col(timestamp_col).cast(pl.datatypes.Int64)).with_columns(pl.arange(0, df.height).alias(\"index\"))\n",
    "\n",
    "    # count the number of samples in each group, and the index at which the group starts\n",
    "    df_count = df.groupby(timestamp_col, maintain_order=True).agg(pl.count(), pl.first(\"index\").alias(\"group_start_index\"))\n",
    "\n",
    "    # calculate the rank of each sample in its group\n",
    "    df_group_rank = df.join(df_count, on=timestamp_col).with_columns((pl.col(\"index\") - pl.col(\"group_start_index\")).alias(\"rank_in_group\")).drop('group_start_index')\n",
    "\n",
    "    # calculate the new timestamp\n",
    "    df_fixed = df_group_rank.with_columns(pl.col(timestamp_col) + pl.col(\"rank_in_group\") / pl.col(\"count\")).drop(\"rank_in_group\", \"count\", \"index\")\n",
    "\n",
    "    return df_fixed"
   ]
  },
  {
   "cell_type": "code",
   "execution_count": 103,
   "metadata": {},
   "outputs": [
    {
     "name": "stderr",
     "output_type": "stream",
     "text": [
      "/var/folders/h4/pg7xmblx74zbp2yhls4bc_mh0000gn/T/ipykernel_20871/1426286105.py:8: DeprecationWarning: `groupby` is deprecated. It has been renamed to `group_by`.\n",
      "  df_count = df.groupby(timestamp_col, maintain_order=True).agg(pl.count(), pl.first(\"index\").alias(\"group_start_index\"))\n",
      "/var/folders/h4/pg7xmblx74zbp2yhls4bc_mh0000gn/T/ipykernel_20871/1426286105.py:8: DeprecationWarning: `pl.count()` is deprecated. Please use `pl.len()` instead.\n",
      "  df_count = df.groupby(timestamp_col, maintain_order=True).agg(pl.count(), pl.first(\"index\").alias(\"group_start_index\"))\n"
     ]
    }
   ],
   "source": [
    "hfd_fixed = {\n",
    "    id: fix_timestamps(hfd.get_feature_data(\"accelerometer\", id), timestamp_col)\n",
    "    for id in hfd.ids\n",
    "}"
   ]
  },
  {
   "cell_type": "code",
   "execution_count": 104,
   "metadata": {},
   "outputs": [
    {
     "data": {
      "text/plain": [
       "{'AWS001': 'AWS001_motion_data.csv',\n",
       " 'AWS002': 'AWS002_motion_data.csv',\n",
       " 'AWS003': 'AWS003_motion_data.csv',\n",
       " 'AWS004': 'AWS004_motion_data.csv',\n",
       " 'AWS005': 'AWS005_motion_data.csv',\n",
       " 'AWS006': 'AWS006_motion_data.csv',\n",
       " 'AWS007': 'AWS007_motion_data.csv',\n",
       " 'AWS008': 'AWS008_motion_data.csv',\n",
       " 'AWS009': 'AWS009_motion_data.csv',\n",
       " 'AWS010': 'AWS010_motion_data.csv',\n",
       " 'AWS011': 'AWS011_motion_data.csv',\n",
       " 'AWS012': 'AWS012_motion_data.csv',\n",
       " 'AWS013': 'AWS013_motion_data.csv',\n",
       " 'AWS014': 'AWS014_motion_data.csv',\n",
       " 'AWS015': 'AWS015_motion_data.csv',\n",
       " 'AWS016': 'AWS016_motion_data.csv',\n",
       " 'AWS017': 'AWS017_motion_data.csv',\n",
       " 'AWS018': 'AWS018_motion_data.csv',\n",
       " 'AWS019': 'AWS019_motion_data.csv',\n",
       " 'AWS020': 'AWS020_motion_data.csv',\n",
       " 'AWS021': 'AWS021_motion_data.csv',\n",
       " 'AWS022': 'AWS022_motion_data.csv',\n",
       " 'AWS023': 'AWS023_motion_data.csv',\n",
       " 'AWS024': 'AWS024_motion_data.csv',\n",
       " 'AWS025': 'AWS025_motion_data.csv',\n",
       " 'AWS026': 'AWS026_motion_data.csv',\n",
       " 'AWS028': 'AWS028_motion_data.csv',\n",
       " 'AWS029': 'AWS029_motion_data.csv',\n",
       " 'AWS030': 'AWS030_motion_data.csv',\n",
       " 'AWS031': 'AWS031_motion_data.csv',\n",
       " 'AWS032': 'AWS032_motion_data.csv',\n",
       " 'AWS033': 'AWS033_motion_data.csv',\n",
       " 'AWS034': 'AWS034_motion_data.csv',\n",
       " 'AWS035': 'AWS035_motion_data.csv',\n",
       " 'AWS036': 'AWS036_motion_data.csv',\n",
       " 'AWS037': 'AWS037_motion_data.csv',\n",
       " 'AWS038': 'AWS038_motion_data.csv',\n",
       " 'AWS039': 'AWS039_motion_data.csv',\n",
       " 'AWS040': 'AWS040_motion_data.csv'}"
      ]
     },
     "execution_count": 104,
     "metadata": {},
     "output_type": "execute_result"
    }
   ],
   "source": [
    "hfd.get_feature_files(\"accelerometer\")"
   ]
  },
  {
   "cell_type": "code",
   "execution_count": 105,
   "metadata": {},
   "outputs": [
    {
     "data": {
      "text/plain": [
       "PosixPath('../data_sets/henry_ford_disordered/cleaned_accelerometer')"
      ]
     },
     "execution_count": 105,
     "metadata": {},
     "output_type": "execute_result"
    }
   ],
   "source": [
    "hfd.get_feature_path(\"accelerometer\")"
   ]
  },
  {
   "cell_type": "code",
   "execution_count": 106,
   "metadata": {},
   "outputs": [],
   "source": [
    "paths = {\n",
    "    id: hfd.get_feature_path(\"accelerometer\").joinpath(hfd.get_feature_files(\"accelerometer\")[id])\n",
    "    for id in hfd.ids\n",
    "}"
   ]
  },
  {
   "cell_type": "code",
   "execution_count": 107,
   "metadata": {},
   "outputs": [],
   "source": [
    "for id in hfd.ids:\n",
    "    hfd_fixed[id].write_csv(paths[id], include_header=True, float_precision=9)"
   ]
  }
 ],
 "metadata": {
  "kernelspec": {
   "display_name": "pisces",
   "language": "python",
   "name": "python3"
  },
  "language_info": {
   "codemirror_mode": {
    "name": "ipython",
    "version": 3
   },
   "file_extension": ".py",
   "mimetype": "text/x-python",
   "name": "python",
   "nbconvert_exporter": "python",
   "pygments_lexer": "ipython3",
   "version": "3.11.7"
  }
 },
 "nbformat": 4,
 "nbformat_minor": 2
}
