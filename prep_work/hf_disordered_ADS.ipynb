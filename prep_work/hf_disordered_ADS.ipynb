{
 "cells": [
  {
   "cell_type": "code",
   "execution_count": 1,
   "metadata": {},
   "outputs": [],
   "source": [
    "from pisces.utils import build_ADS\n",
    "from pisces.experiments import DataSetObject\n"
   ]
  },
  {
   "cell_type": "code",
   "execution_count": 2,
   "metadata": {},
   "outputs": [],
   "source": [
    "feat = \"accelerometer\"\n",
    "sets = DataSetObject.find_data_sets(\"../data_sets\")\n",
    "hfd = sets['henry_ford_disordered']"
   ]
  },
  {
   "cell_type": "code",
   "execution_count": 3,
   "metadata": {},
   "outputs": [],
   "source": [
    "ads = {\n",
    "    id: build_ADS(hfd.get_feature_data(feat, id).to_numpy())\n",
    "    for id in hfd.ids\n",
    "}"
   ]
  },
  {
   "cell_type": "code",
   "execution_count": 4,
   "metadata": {},
   "outputs": [
    {
     "name": "stdout",
     "output_type": "stream",
     "text": [
      "saving to ../data_sets/henry_ford_disordered/cleaned_activity/AWS001_ads.csv\n",
      "saving to ../data_sets/henry_ford_disordered/cleaned_activity/AWS002_ads.csv\n",
      "saving to ../data_sets/henry_ford_disordered/cleaned_activity/AWS003_ads.csv\n",
      "saving to ../data_sets/henry_ford_disordered/cleaned_activity/AWS004_ads.csv\n",
      "saving to ../data_sets/henry_ford_disordered/cleaned_activity/AWS005_ads.csv\n",
      "saving to ../data_sets/henry_ford_disordered/cleaned_activity/AWS006_ads.csv\n",
      "saving to ../data_sets/henry_ford_disordered/cleaned_activity/AWS007_ads.csv\n",
      "saving to ../data_sets/henry_ford_disordered/cleaned_activity/AWS008_ads.csv\n",
      "saving to ../data_sets/henry_ford_disordered/cleaned_activity/AWS009_ads.csv\n",
      "saving to ../data_sets/henry_ford_disordered/cleaned_activity/AWS010_ads.csv\n",
      "saving to ../data_sets/henry_ford_disordered/cleaned_activity/AWS011_ads.csv\n",
      "saving to ../data_sets/henry_ford_disordered/cleaned_activity/AWS012_ads.csv\n",
      "saving to ../data_sets/henry_ford_disordered/cleaned_activity/AWS013_ads.csv\n",
      "saving to ../data_sets/henry_ford_disordered/cleaned_activity/AWS014_ads.csv\n",
      "saving to ../data_sets/henry_ford_disordered/cleaned_activity/AWS015_ads.csv\n",
      "saving to ../data_sets/henry_ford_disordered/cleaned_activity/AWS016_ads.csv\n",
      "saving to ../data_sets/henry_ford_disordered/cleaned_activity/AWS017_ads.csv\n",
      "saving to ../data_sets/henry_ford_disordered/cleaned_activity/AWS018_ads.csv\n",
      "saving to ../data_sets/henry_ford_disordered/cleaned_activity/AWS019_ads.csv\n",
      "saving to ../data_sets/henry_ford_disordered/cleaned_activity/AWS020_ads.csv\n",
      "saving to ../data_sets/henry_ford_disordered/cleaned_activity/AWS021_ads.csv\n",
      "saving to ../data_sets/henry_ford_disordered/cleaned_activity/AWS022_ads.csv\n",
      "saving to ../data_sets/henry_ford_disordered/cleaned_activity/AWS023_ads.csv\n",
      "saving to ../data_sets/henry_ford_disordered/cleaned_activity/AWS024_ads.csv\n",
      "saving to ../data_sets/henry_ford_disordered/cleaned_activity/AWS025_ads.csv\n",
      "saving to ../data_sets/henry_ford_disordered/cleaned_activity/AWS026_ads.csv\n",
      "saving to ../data_sets/henry_ford_disordered/cleaned_activity/AWS028_ads.csv\n",
      "saving to ../data_sets/henry_ford_disordered/cleaned_activity/AWS029_ads.csv\n",
      "saving to ../data_sets/henry_ford_disordered/cleaned_activity/AWS030_ads.csv\n",
      "saving to ../data_sets/henry_ford_disordered/cleaned_activity/AWS031_ads.csv\n",
      "saving to ../data_sets/henry_ford_disordered/cleaned_activity/AWS032_ads.csv\n",
      "saving to ../data_sets/henry_ford_disordered/cleaned_activity/AWS033_ads.csv\n",
      "saving to ../data_sets/henry_ford_disordered/cleaned_activity/AWS034_ads.csv\n",
      "saving to ../data_sets/henry_ford_disordered/cleaned_activity/AWS035_ads.csv\n",
      "saving to ../data_sets/henry_ford_disordered/cleaned_activity/AWS036_ads.csv\n",
      "saving to ../data_sets/henry_ford_disordered/cleaned_activity/AWS037_ads.csv\n",
      "saving to ../data_sets/henry_ford_disordered/cleaned_activity/AWS038_ads.csv\n",
      "saving to ../data_sets/henry_ford_disordered/cleaned_activity/AWS039_ads.csv\n",
      "saving to ../data_sets/henry_ford_disordered/cleaned_activity/AWS040_ads.csv\n"
     ]
    }
   ],
   "source": [
    "import os\n",
    "import polars as pl\n",
    "# @ojwalch: key point here, data sets know where a feature named \"activity\" _would_ be stored, regardless of whether it exists yet or not. So we can ensure we'll end up with CSVs in the proper place.\n",
    "activity_path = hfd.get_feature_path(\"activity\")\n",
    "if not os.path.exists(activity_path):\n",
    "    os.mkdir(activity_path)\n",
    "\n",
    "for id in hfd.ids:\n",
    "    save_to = activity_path.joinpath(f\"{id}_ads.csv\")\n",
    "    print(f\"saving to {save_to}\")\n",
    "    id_time, id_ads = ads[id]\n",
    "    # Motion is saved with \"Timestamp,x,y,z\" header, so this matches\n",
    "    df = pl.DataFrame({\n",
    "        \"Timestamp\": id_time,\n",
    "        \"ads\": id_ads\n",
    "    })\n",
    "    df.write_csv(save_to)"
   ]
  },
  {
   "cell_type": "code",
   "execution_count": 5,
   "metadata": {},
   "outputs": [
    {
     "data": {
      "text/plain": [
       "True"
      ]
     },
     "execution_count": 5,
     "metadata": {},
     "output_type": "execute_result"
    }
   ],
   "source": [
    "os.path.exists(activity_path)"
   ]
  },
  {
   "cell_type": "code",
   "execution_count": null,
   "metadata": {},
   "outputs": [],
   "source": []
  }
 ],
 "metadata": {
  "kernelspec": {
   "display_name": "pisces",
   "language": "python",
   "name": "python3"
  },
  "language_info": {
   "codemirror_mode": {
    "name": "ipython",
    "version": 3
   },
   "file_extension": ".py",
   "mimetype": "text/x-python",
   "name": "python",
   "nbconvert_exporter": "python",
   "pygments_lexer": "ipython3",
   "version": "3.11.7"
  }
 },
 "nbformat": 4,
 "nbformat_minor": 2
}
