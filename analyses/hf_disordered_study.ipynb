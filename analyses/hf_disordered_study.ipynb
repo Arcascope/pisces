{
 "cells": [
  {
   "cell_type": "code",
   "execution_count": 1,
   "metadata": {},
   "outputs": [],
   "source": [
    "from pisces.experiments import evaluate_mo_on_data_set, MOResUNetPretrained\n",
    "from pisces.experiments import DataSetObject\n",
    "from pisces.utils import plot_scores_CDF\n",
    "from pisces.utils import add_rocs, plot_scores_PDF\n",
    "\n",
    "\n",
    "sets = DataSetObject.find_data_sets(\"../data_sets\")\n",
    "hfd = sets['henry_ford_disordered']"
   ]
  },
  {
   "cell_type": "code",
   "execution_count": 2,
   "metadata": {},
   "outputs": [
    {
     "name": "stdout",
     "output_type": "stream",
     "text": [
      "ID 7749105 not found in walch_et_al\n"
     ]
    },
    {
     "name": "stderr",
     "output_type": "stream",
     "text": [
      "31it [00:02, 10.45it/s]\n"
     ]
    }
   ],
   "source": [
    "\n",
    "from pisces.experiments import LeaveOneOutSplitter, SGDLogisticRegression, run_splits\n",
    "\n",
    "loo = LeaveOneOutSplitter()\n",
    "walch = sets['walch_et_al']\n",
    "\n",
    "split_models, log_reg_preprocessed_data_walch, splits = run_splits(loo, walch, SGDLogisticRegression)"
   ]
  },
  {
   "cell_type": "code",
   "execution_count": null,
   "metadata": {},
   "outputs": [],
   "source": [
    "\n",
    "\n",
    "from typing import Dict, List\n",
    "\n",
    "from pisces.experiments import split_analysis\n",
    "log_reg_aucs_hf = []\n",
    "log_reg_fprs_hf = []\n",
    "log_reg_tprs_hf = []\n",
    "\n",
    "\n",
    "\n",
    "DATA_SET = hfd\n",
    "\n",
    "log_reg_preprocessed_data_hf = [\n",
    "    (d, DATA_SET.ids[i])\n",
    "    for i in range(len(split_models))\n",
    "    if (d := split_models[0].get_needed_X_y(DATA_SET, DATA_SET.ids[i])) is not None\n",
    "]\n",
    "\n",
    "log_reg_evaluations_hf: List[Dict[str, dict]] = []\n",
    "for i in range(len(split_models)):\n",
    "    split_evals = {}\n",
    "    for (X, y), id in log_reg_preprocessed_data_hf:\n",
    "        y_hat_proba = split_models[i].predict_probabilities(X)\n",
    "        y_hat_sleep_proba = y_hat_proba[:, 1].reshape(-1,)\n",
    "        y_prepped, _ = SGDLogisticRegression()._prepare_labels(y)\n",
    "        try:\n",
    "            analysis = split_analysis(y_prepped, y_hat_sleep_proba, balancing=False)\n",
    "        except ValueError as e:\n",
    "            print(f\"Error processing {id}: {e}\")\n",
    "            continue\n",
    "        # analysis = split_analysis(y, y_hat_proba)\n",
    "        split_evals[id] = analysis\n",
    "        print(f\"Processed {i+1} of {len(log_reg_preprocessed_data_hf)} ({id})... AUROC: {analysis['auc']}\")\n",
    "    log_reg_evaluations_hf.append(split_evals)\n",
    "    log_reg_aucs_hf.append([e[\"auc\"] for e in split_evals.values()])\n",
    "    log_reg_fprs_hf.append([e[\"roc_curve\"][\"fprs\"] for e in split_evals.values()])\n",
    "    log_reg_tprs_hf.append([e[\"roc_curve\"][\"tprs\"] for e in split_evals.values()])\n"
   ]
  },
  {
   "cell_type": "code",
   "execution_count": 4,
   "metadata": {},
   "outputs": [
    {
     "data": {
      "image/png": "[encoded data removed]",
      "text/plain": [
       "<Figure size 640x480 with 1 Axes>"
      ]
     },
     "metadata": {},
     "output_type": "display_data"
    }
   ],
   "source": [
    "from matplotlib import pyplot as plt\n",
    "\n",
    "\n",
    "fig, ax = plt.subplots()\n",
    "for i in range(len(log_reg_aucs_hf)):\n",
    "    plot_scores_PDF(log_reg_aucs_hf[i], ax=ax, hist_alpha=0.1)"
   ]
  },
  {
   "cell_type": "markdown",
   "metadata": {},
   "source": [
    "# Mads Olsen ResUNet inference\n",
    "\n",
    "This can probably be improved by fine-tuning on Walch et al."
   ]
  },
  {
   "cell_type": "code",
   "execution_count": null,
   "metadata": {},
   "outputs": [],
   "source": [
    "mo = MOResUNetPretrained(sampling_hz=32)\n",
    "\n",
    "results = evaluate_mo_on_data_set(mo, hfd)"
   ]
  },
  {
   "cell_type": "code",
   "execution_count": null,
   "metadata": {},
   "outputs": [],
   "source": [
    "evaluations_hf, mo_preprocessed_data_hf = results\n",
    "mo_aucs_hf = [e[\"auc\"] for e in evaluations_hf.values()]\n",
    "mo_fprs_hf = [e[\"roc_curve\"][\"fprs\"] for e in evaluations_hf.values()]\n",
    "mo_tprs_hf = [e[\"roc_curve\"][\"tprs\"] for e in evaluations_hf.values()]"
   ]
  },
  {
   "cell_type": "code",
   "execution_count": null,
   "metadata": {},
   "outputs": [],
   "source": [
    "\n",
    "\n",
    "\n",
    "plot_scores_CDF(mo_aucs_hf)"
   ]
  },
  {
   "cell_type": "code",
   "execution_count": null,
   "metadata": {},
   "outputs": [],
   "source": [
    "\n",
    "# y so terrible??\n",
    "# probably timestamp/gap issues\n",
    "# look at worst ones\n",
    "\n",
    "\n",
    "plot_scores_PDF(mo_aucs_hf)\n",
    "\n",
    "add_rocs(mo_fprs_hf, mo_tprs_hf, roc_group_name=\"MO\")"
   ]
  },
  {
   "cell_type": "code",
   "execution_count": null,
   "metadata": {},
   "outputs": [],
   "source": []
  }
 ],
 "metadata": {
  "kernelspec": {
   "display_name": "pisces",
   "language": "python",
   "name": "python3"
  },
  "language_info": {
   "codemirror_mode": {
    "name": "ipython",
    "version": 3
   },
   "file_extension": ".py",
   "mimetype": "text/x-python",
   "name": "python",
   "nbconvert_exporter": "python",
   "pygments_lexer": "ipython3",
   "version": "3.11.7"
  }
 },
 "nbformat": 4,
 "nbformat_minor": 2
}
