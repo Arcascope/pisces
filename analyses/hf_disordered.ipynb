{
 "cells": [
  {
   "cell_type": "code",
   "execution_count": 1,
   "metadata": {},
   "outputs": [],
   "source": [
    "from typing import List\n",
    "from matplotlib import pyplot as plt\n",
    "import numpy as np"
   ]
  },
  {
   "cell_type": "code",
   "execution_count": 2,
   "metadata": {},
   "outputs": [],
   "source": [
    "WASA_THRESHOLD = 0.93\n",
    "BALANCE_WEIGHTS = True"
   ]
  },
  {
   "cell_type": "markdown",
   "metadata": {},
   "source": [
    "### Comparison: WASA93, ROC AUC, Cohen's Kappa\n",
    "\n",
    "* WASA93: <u>W</u>ake <u>A</u>ccuracy when <u>S</u>leep <u>A</u>ccuracy is fixed at <u>93%</u>"
   ]
  },
  {
   "cell_type": "code",
   "execution_count": 3,
   "metadata": {},
   "outputs": [],
   "source": [
    "from pisces.utils import pad_to_hat, plot_scores_CDF, plot_scores_PDF, add_rocs\n",
    "from sklearn.metrics import roc_auc_score, roc_curve, cohen_kappa_score\n",
    "\n",
    "\n",
    "def split_analysis(y, y_hat_sleep_proba, sleep_accuracy: float = WASA_THRESHOLD, balancing: bool = BALANCE_WEIGHTS):\n",
    "\n",
    "    y_flat = y.reshape(-1,)\n",
    "    n_sleep = np.sum(y_flat > 0)\n",
    "    n_wake = np.sum(y_flat == 0)\n",
    "    N = n_sleep + n_wake\n",
    "\n",
    "    balancing_weights_ignore_mask = np.where(y_flat > 0, N / n_sleep, N / n_wake) \\\n",
    "        if balancing else np.ones_like(y_flat)\n",
    "    balancing_weights_ignore_mask /= np.sum(balancing_weights_ignore_mask) # sums to 1.0\n",
    "\n",
    "    # adjust y to match the lenght of y_hat, which was padded to fit model constraints\n",
    "    y_padded = pad_to_hat(y_flat, y_hat_sleep_proba)\n",
    "    # make a mask to ignore the padded values, so they aren't counted against us\n",
    "    mask = pad_to_hat(balancing_weights_ignore_mask, y_hat_sleep_proba)\n",
    "\n",
    "    # also ignore any unscored or missing values.\n",
    "    y_to_score = pad_to_hat(y_flat >= 0, y_hat_sleep_proba)\n",
    "    mask *= y_to_score\n",
    "    # roc_auc will complain if -1 is in y_padded\n",
    "    y_padded *= y_to_score \n",
    "\n",
    "    # ROC analysis\n",
    "    fprs, tprs, thresholds = roc_curve(y_padded, y_hat_sleep_proba, sample_weight=mask)\n",
    "\n",
    "    # Sleep accuracy = (n sleep correct) / (n sleep) = TP/AP = TPR\n",
    "    wasa_threshold = thresholds[np.sum(tprs <= sleep_accuracy)]\n",
    "    y_guess = y_hat_sleep_proba > wasa_threshold\n",
    "\n",
    "    # # WASA X\n",
    "    guess_right = y_guess == y_padded\n",
    "    y_wake = y_padded == 0\n",
    "    wake_accuracy = np.sum(y_wake * guess_right * y_to_score) / np.sum(n_wake)\n",
    "     \n",
    "    return {\n",
    "        \"y_padded\": y_padded,\n",
    "        \"y_hat\": y_hat_sleep_proba,\n",
    "        \"mask\": mask,\n",
    "        \"kappa\": cohen_kappa_score(y_padded, y_guess, sample_weight=mask),\n",
    "        \"auc\": roc_auc_score(y_padded, y_hat_sleep_proba, sample_weight=mask),\n",
    "        \"roc_curve\": {\"tprs\": tprs,\n",
    "                      \"fprs\": fprs,\n",
    "                      \"thresholds\": thresholds\n",
    "        }, \n",
    "        f\"wasa{int(100 * sleep_accuracy)}_threshold\": wasa_threshold,\n",
    "        f\"wasa{int(100 * sleep_accuracy)}\": wake_accuracy, \n",
    "    }\n"
   ]
  },
  {
   "cell_type": "code",
   "execution_count": 4,
   "metadata": {},
   "outputs": [],
   "source": [
    "import matplotlib.pyplot as plt\n",
    "from pisces.experiments import DataSetObject\n",
    "\n",
    "\n",
    "sets = DataSetObject.find_data_sets(\"../data_sets\")\n",
    "walch = sets['walch_et_al']\n",
    "hybrid = sets['hybrid_motion']"
   ]
  },
  {
   "cell_type": "code",
   "execution_count": 5,
   "metadata": {},
   "outputs": [],
   "source": [
    "from pisces.experiments import MOResUNetPretrained, evaluate_mo_on_data_set\n"
   ]
  },
  {
   "cell_type": "code",
   "execution_count": null,
   "metadata": {},
   "outputs": [],
   "source": []
  },
  {
   "cell_type": "code",
   "execution_count": 6,
   "metadata": {},
   "outputs": [],
   "source": [
    "hfd = sets['henry_ford_disordered']\n",
    "mo = MOResUNetPretrained(sampling_hz=32)"
   ]
  },
  {
   "cell_type": "code",
   "execution_count": 7,
   "metadata": {},
   "outputs": [
    {
     "name": "stdout",
     "output_type": "stream",
     "text": [
      "Using 16 of 16 cores (100%) for parallel preprocessing.\n",
      "This can cause memory or heat issues if  is too high; if you run into problems, call prepare_set_for_training() again with max_workers = -1, going more negative if needed. (See the docstring for more info.)\n"
     ]
    },
    {
     "name": "stdout",
     "output_type": "stream",
     "text": [
      "getting needed X, y for AWS001\n",
      "sampling_period_s: 0.0\n",
      "getting needed X, y for AWS017\n",
      "sampling_period_s: 0.0\n",
      "getting needed X, y for AWS018\n",
      "sampling_period_s: 0.0\n",
      "getting needed X, y for AWS019\n"
     ]
    },
    {
     "name": "stderr",
     "output_type": "stream",
     "text": [
      "/Users/eric/Engineering/Work/pisces/pisces/experiments.py:401: UserWarning: Sampling period is 0.0. Returning None.\n",
      "  warnings.warn(\"Sampling period is 0.0. Returning None.\")\n"
     ]
    },
    {
     "name": "stdout",
     "output_type": "stream",
     "text": [
      "sampling_period_s: 0.019994020462036133\n",
      "resampling to 32Hz (0.03125s) from 50 Hz (0.01999s)\n",
      "getting needed X, y for AWS006\n",
      "getting needed X, y for AWS002\n",
      "sampling_period_s: 0.0\n",
      "getting needed X, y for AWS020\n",
      "sampling_period_s: 0.0\n",
      "getting needed X, y for AWS021\n",
      "sampling_period_s: 0.0\n",
      "getting needed X, y for AWS022\n",
      "sampling_period_s: 0.0\n",
      "getting needed X, y for AWS023\n",
      "sampling_period_s: 0.0\n",
      "getting needed X, y for AWS024\n",
      "sampling_period_s: 0.0\n",
      "getting needed X, y for AWS025\n",
      "getting needed X, y for AWS007\n"
     ]
    },
    {
     "name": "stderr",
     "output_type": "stream",
     "text": [
      "/Users/eric/Engineering/Work/pisces/pisces/experiments.py:401: UserWarning: Sampling period is 0.0. Returning None.\n",
      "  warnings.warn(\"Sampling period is 0.0. Returning None.\")\n",
      "/Users/eric/Engineering/Work/pisces/pisces/experiments.py:401: UserWarning: Sampling period is 0.0. Returning None.\n",
      "  warnings.warn(\"Sampling period is 0.0. Returning None.\")\n",
      "/Users/eric/Engineering/Work/pisces/pisces/experiments.py:401: UserWarning: Sampling period is 0.0. Returning None.\n",
      "  warnings.warn(\"Sampling period is 0.0. Returning None.\")\n"
     ]
    },
    {
     "name": "stdout",
     "output_type": "stream",
     "text": [
      "sampling_period_s: 0.0\n",
      "getting needed X, y for AWS026\n",
      "getting needed X, y for AWS005\n",
      "sampling_period_s: 0.0\n",
      "getting needed X, y for AWS028\n",
      "getting needed X, y for AWS003\n",
      "sampling_period_s: 0.0\n",
      "getting needed X, y for AWS009\n",
      "getting needed X, y for AWS029\n",
      "sampling_period_s: 0.0\n",
      "getting needed X, y for AWS030\n",
      "sampling_period_s: 0.0\n",
      "getting needed X, y for AWS031\n",
      "sampling_period_s: 0.0\n",
      "sampling_period_s: 0.019951820373535156\n",
      "resampling to 32Hz (0.03125s) from 50 Hz (0.01995s)\n",
      "sampling_period_s: 0.0\n",
      "sampling_period_s: 0.0\n",
      "sampling_period_s: 0.0\n",
      "getting needed X, y for AWS032\n",
      "getting needed X, y for AWS033\n",
      "getting needed X, y for AWS034\n",
      "getting needed X, y for AWS035\n"
     ]
    },
    {
     "name": "stderr",
     "output_type": "stream",
     "text": [
      "/Users/eric/Engineering/Work/pisces/pisces/experiments.py:401: UserWarning: Sampling period is 0.0. Returning None.\n",
      "  warnings.warn(\"Sampling period is 0.0. Returning None.\")\n",
      "/Users/eric/Engineering/Work/pisces/pisces/experiments.py:401: UserWarning: Sampling period is 0.0. Returning None.\n",
      "  warnings.warn(\"Sampling period is 0.0. Returning None.\")\n"
     ]
    },
    {
     "name": "stdout",
     "output_type": "stream",
     "text": [
      "getting needed X, y for AWS010\n",
      "getting needed X, y for AWS011\n",
      "sampling_period_s: 0.019952058792114258\n",
      "resampling to 32Hz (0.03125s) from 50 Hz (0.01995s)\n",
      "sampling_period_s: 0.0\n",
      "getting needed X, y for AWS016\n",
      "getting needed X, y for AWS008\n",
      "getting needed X, y for AWS013\n",
      "sampling_period_s: 0.020028114318847656\n",
      "resampling to 32Hz (0.03125s) from 49 Hz (0.02003s)\n",
      "sampling_period_s: 0.020013093948364258\n",
      "resampling to 32Hz (0.03125s) from 49 Hz (0.02001s)\n",
      "getting needed X, y for AWS014\n",
      "sampling_period_s: 0.020016193389892578\n",
      "resampling to 32Hz (0.03125s) from 49 Hz (0.02002s)\n",
      "sampling_period_s: 0.0\n",
      "sampling_period_s: 0.020027875900268555\n",
      "resampling to 32Hz (0.03125s) from 49 Hz (0.02003s)\n",
      "getting needed X, y for AWS015\n",
      "sampling_period_s: 0.019958972930908203\n",
      "sampling_period_s: 0.0\n",
      "resampling to 32Hz (0.03125s) from 50 Hz (0.01996s)\n",
      "sampling_period_s: 0.0\n",
      "sampling_period_s: 0.020013093948364258\n",
      "getting needed X, y for AWS004\n",
      "resampling to 32Hz (0.03125s) from 49 Hz (0.02001s)\n",
      "getting needed X, y for AWS012\n",
      "sampling_period_s: 0.020016908645629883\n",
      "resampling to 32Hz (0.03125s) from 49 Hz (0.02002s)\n",
      "sampling_period_s: 0.0\n",
      "sampling_period_s: 0.0\n"
     ]
    },
    {
     "name": "stderr",
     "output_type": "stream",
     "text": [
      "/Users/eric/Engineering/Work/pisces/pisces/experiments.py:401: UserWarning: Sampling period is 0.0. Returning None.\n",
      "  warnings.warn(\"Sampling period is 0.0. Returning None.\")\n",
      "/opt/homebrew/Caskroom/miniforge/base/envs/pisces/lib/python3.11/site-packages/numpy/core/fromnumeric.py:3504: RuntimeWarning: Mean of empty slice.\n",
      "  return _methods._mean(a, axis=axis, dtype=dtype,\n",
      "/opt/homebrew/Caskroom/miniforge/base/envs/pisces/lib/python3.11/site-packages/numpy/core/_methods.py:129: RuntimeWarning: invalid value encountered in scalar divide\n",
      "  ret = ret.dtype.type(ret / rcount)\n",
      "/Users/eric/Engineering/Work/pisces/pisces/experiments.py:401: UserWarning: Sampling period is 0.0. Returning None.\n",
      "  warnings.warn(\"Sampling period is 0.0. Returning None.\")\n",
      "/Users/eric/Engineering/Work/pisces/pisces/experiments.py:401: UserWarning: Sampling period is 0.0. Returning None.\n",
      "  warnings.warn(\"Sampling period is 0.0. Returning None.\")\n",
      "/Users/eric/Engineering/Work/pisces/pisces/experiments.py:401: UserWarning: Sampling period is 0.0. Returning None.\n",
      "  warnings.warn(\"Sampling period is 0.0. Returning None.\")\n",
      "/opt/homebrew/Caskroom/miniforge/base/envs/pisces/lib/python3.11/site-packages/numpy/core/fromnumeric.py:3504: RuntimeWarning: Mean of empty slice.\n",
      "  return _methods._mean(a, axis=axis, dtype=dtype,\n",
      "/opt/homebrew/Caskroom/miniforge/base/envs/pisces/lib/python3.11/site-packages/numpy/core/_methods.py:129: RuntimeWarning: invalid value encountered in scalar divide\n",
      "  ret = ret.dtype.type(ret / rcount)\n",
      "/Users/eric/Engineering/Work/pisces/pisces/experiments.py:401: UserWarning: Sampling period is 0.0. Returning None.\n",
      "  warnings.warn(\"Sampling period is 0.0. Returning None.\")\n"
     ]
    },
    {
     "ename": "TypeError",
     "evalue": "'NoneType' object is not subscriptable",
     "output_type": "error",
     "traceback": [
      "\u001b[0;31m---------------------------------------------------------------------------\u001b[0m",
      "\u001b[0;31m_RemoteTraceback\u001b[0m                          Traceback (most recent call last)",
      "\u001b[0;31m_RemoteTraceback\u001b[0m: \n\"\"\"\nTraceback (most recent call last):\n  File \"/opt/homebrew/Caskroom/miniforge/base/envs/pisces/lib/python3.11/concurrent/futures/process.py\", line 261, in _process_worker\n    r = call_item.fn(*call_item.args, **call_item.kwargs)\n        ^^^^^^^^^^^^^^^^^^^^^^^^^^^^^^^^^^^^^^^^^^^^^^^^^\n  File \"/opt/homebrew/Caskroom/miniforge/base/envs/pisces/lib/python3.11/concurrent/futures/process.py\", line 210, in _process_chunk\n    return [fn(*args) for args in chunk]\n           ^^^^^^^^^^^^^^^^^^^^^^^^^^^^^\n  File \"/opt/homebrew/Caskroom/miniforge/base/envs/pisces/lib/python3.11/concurrent/futures/process.py\", line 210, in <listcomp>\n    return [fn(*args) for args in chunk]\n            ^^^^^^^^^\n  File \"/Users/eric/Engineering/Work/pisces/pisces/experiments.py\", line 831, in get_needed_X_y_from_pair\n    return self.get_needed_X_y(data_set, id)\n           ^^^^^^^^^^^^^^^^^^^^^^^^^^^^^^^^^\n  File \"/Users/eric/Engineering/Work/pisces/pisces/experiments.py\", line 842, in get_needed_X_y\n    stop_time = min(accelerometer[:, 0].max(), psg[:, 0].max())\n                    ~~~~~~~~~~~~~^^^^^^\nTypeError: 'NoneType' object is not subscriptable\n\"\"\"",
      "\nThe above exception was the direct cause of the following exception:\n",
      "\u001b[0;31mTypeError\u001b[0m                                 Traceback (most recent call last)",
      "Cell \u001b[0;32mIn[7], line 1\u001b[0m\n\u001b[0;32m----> 1\u001b[0m evaluations_hfd, mo_preprocessed_data_hfd \u001b[38;5;241m=\u001b[39m \u001b[43mevaluate_mo_on_data_set\u001b[49m\u001b[43m(\u001b[49m\u001b[43mmo\u001b[49m\u001b[43m,\u001b[49m\u001b[43m \u001b[49m\u001b[43mhfd\u001b[49m\u001b[43m)\u001b[49m\n",
      "File \u001b[0;32m~/Engineering/Work/pisces/pisces/experiments.py:953\u001b[0m, in \u001b[0;36mevaluate_mo_on_data_set\u001b[0;34m(mo, data_set, exclude)\u001b[0m\n\u001b[1;32m    948\u001b[0m     \u001b[38;5;28;01mraise\u001b[39;00m \u001b[38;5;167;01mValueError\u001b[39;00m(\u001b[38;5;124m\"\u001b[39m\u001b[38;5;124m`data_set` must be provided.\u001b[39m\u001b[38;5;124m\"\u001b[39m)\n\u001b[1;32m    949\u001b[0m filtered_ids \u001b[38;5;241m=\u001b[39m [\u001b[38;5;28mid\u001b[39m \u001b[38;5;28;01mfor\u001b[39;00m \u001b[38;5;28mid\u001b[39m \u001b[38;5;129;01min\u001b[39;00m data_set\u001b[38;5;241m.\u001b[39mids \u001b[38;5;28;01mif\u001b[39;00m \u001b[38;5;28mid\u001b[39m \u001b[38;5;129;01mnot\u001b[39;00m \u001b[38;5;129;01min\u001b[39;00m exclude]\n\u001b[1;32m    950\u001b[0m mo_preprocessed_data \u001b[38;5;241m=\u001b[39m [\n\u001b[1;32m    951\u001b[0m     (d, i) \n\u001b[1;32m    952\u001b[0m     \u001b[38;5;28;01mfor\u001b[39;00m (d, i) \u001b[38;5;129;01min\u001b[39;00m \u001b[38;5;28mzip\u001b[39m(\n\u001b[0;32m--> 953\u001b[0m         \u001b[43mmo\u001b[49m\u001b[38;5;241;43m.\u001b[39;49m\u001b[43mprepare_set_for_training\u001b[49m\u001b[43m(\u001b[49m\u001b[43mdata_set\u001b[49m\u001b[43m,\u001b[49m\u001b[43m \u001b[49m\u001b[43mfiltered_ids\u001b[49m\u001b[43m)\u001b[49m,\n\u001b[1;32m    954\u001b[0m         filtered_ids) \n\u001b[1;32m    955\u001b[0m     \u001b[38;5;28;01mif\u001b[39;00m d \u001b[38;5;129;01mis\u001b[39;00m \u001b[38;5;129;01mnot\u001b[39;00m \u001b[38;5;28;01mNone\u001b[39;00m\n\u001b[1;32m    956\u001b[0m ]\n\u001b[1;32m    958\u001b[0m evaluations: Dict[\u001b[38;5;28mstr\u001b[39m, \u001b[38;5;28mdict\u001b[39m] \u001b[38;5;241m=\u001b[39m {}\n\u001b[1;32m    959\u001b[0m \u001b[38;5;28;01mfor\u001b[39;00m i, ((X, y), \u001b[38;5;28mid\u001b[39m) \u001b[38;5;129;01min\u001b[39;00m \u001b[38;5;28menumerate\u001b[39m(mo_preprocessed_data):\n",
      "File \u001b[0;32m~/Engineering/Work/pisces/pisces/experiments.py:809\u001b[0m, in \u001b[0;36mMOResUNetPretrained.prepare_set_for_training\u001b[0;34m(self, data_set, ids, max_workers)\u001b[0m\n\u001b[1;32m    807\u001b[0m     \u001b[38;5;66;03m# Create a pool of workers\u001b[39;00m\n\u001b[1;32m    808\u001b[0m     \u001b[38;5;28;01mwith\u001b[39;00m ProcessPoolExecutor(max_workers\u001b[38;5;241m=\u001b[39mworkers_to_use) \u001b[38;5;28;01mas\u001b[39;00m executor:\n\u001b[0;32m--> 809\u001b[0m         results \u001b[38;5;241m=\u001b[39m \u001b[38;5;28;43mlist\u001b[39;49m\u001b[43m(\u001b[49m\n\u001b[1;32m    810\u001b[0m \u001b[43m            \u001b[49m\u001b[43mexecutor\u001b[49m\u001b[38;5;241;43m.\u001b[39;49m\u001b[43mmap\u001b[49m\u001b[43m(\u001b[49m\n\u001b[1;32m    811\u001b[0m \u001b[43m                \u001b[49m\u001b[38;5;28;43mself\u001b[39;49m\u001b[38;5;241;43m.\u001b[39;49m\u001b[43mget_needed_X_y_from_pair\u001b[49m\u001b[43m,\u001b[49m\u001b[43m \u001b[49m\n\u001b[1;32m    812\u001b[0m \u001b[43m                \u001b[49m\u001b[43mdata_set_and_ids\u001b[49m\n\u001b[1;32m    813\u001b[0m \u001b[43m            \u001b[49m\u001b[43m)\u001b[49m\u001b[43m)\u001b[49m\n\u001b[1;32m    814\u001b[0m \u001b[38;5;28;01melse\u001b[39;00m:\n\u001b[1;32m    815\u001b[0m     warnings\u001b[38;5;241m.\u001b[39mwarn(\u001b[38;5;124m\"\u001b[39m\u001b[38;5;124mNo IDs found in the data set.\u001b[39m\u001b[38;5;124m\"\u001b[39m)\n",
      "File \u001b[0;32m/opt/homebrew/Caskroom/miniforge/base/envs/pisces/lib/python3.11/concurrent/futures/process.py:620\u001b[0m, in \u001b[0;36m_chain_from_iterable_of_lists\u001b[0;34m(iterable)\u001b[0m\n\u001b[1;32m    614\u001b[0m \u001b[38;5;28;01mdef\u001b[39;00m \u001b[38;5;21m_chain_from_iterable_of_lists\u001b[39m(iterable):\n\u001b[1;32m    615\u001b[0m \u001b[38;5;250m    \u001b[39m\u001b[38;5;124;03m\"\"\"\u001b[39;00m\n\u001b[1;32m    616\u001b[0m \u001b[38;5;124;03m    Specialized implementation of itertools.chain.from_iterable.\u001b[39;00m\n\u001b[1;32m    617\u001b[0m \u001b[38;5;124;03m    Each item in *iterable* should be a list.  This function is\u001b[39;00m\n\u001b[1;32m    618\u001b[0m \u001b[38;5;124;03m    careful not to keep references to yielded objects.\u001b[39;00m\n\u001b[1;32m    619\u001b[0m \u001b[38;5;124;03m    \"\"\"\u001b[39;00m\n\u001b[0;32m--> 620\u001b[0m \u001b[43m    \u001b[49m\u001b[38;5;28;43;01mfor\u001b[39;49;00m\u001b[43m \u001b[49m\u001b[43melement\u001b[49m\u001b[43m \u001b[49m\u001b[38;5;129;43;01min\u001b[39;49;00m\u001b[43m \u001b[49m\u001b[43miterable\u001b[49m\u001b[43m:\u001b[49m\n\u001b[1;32m    621\u001b[0m \u001b[43m        \u001b[49m\u001b[43melement\u001b[49m\u001b[38;5;241;43m.\u001b[39;49m\u001b[43mreverse\u001b[49m\u001b[43m(\u001b[49m\u001b[43m)\u001b[49m\n\u001b[1;32m    622\u001b[0m \u001b[43m        \u001b[49m\u001b[38;5;28;43;01mwhile\u001b[39;49;00m\u001b[43m \u001b[49m\u001b[43melement\u001b[49m\u001b[43m:\u001b[49m\n",
      "File \u001b[0;32m/opt/homebrew/Caskroom/miniforge/base/envs/pisces/lib/python3.11/concurrent/futures/_base.py:619\u001b[0m, in \u001b[0;36mExecutor.map.<locals>.result_iterator\u001b[0;34m()\u001b[0m\n\u001b[1;32m    616\u001b[0m \u001b[38;5;28;01mwhile\u001b[39;00m fs:\n\u001b[1;32m    617\u001b[0m     \u001b[38;5;66;03m# Careful not to keep a reference to the popped future\u001b[39;00m\n\u001b[1;32m    618\u001b[0m     \u001b[38;5;28;01mif\u001b[39;00m timeout \u001b[38;5;129;01mis\u001b[39;00m \u001b[38;5;28;01mNone\u001b[39;00m:\n\u001b[0;32m--> 619\u001b[0m         \u001b[38;5;28;01myield\u001b[39;00m \u001b[43m_result_or_cancel\u001b[49m\u001b[43m(\u001b[49m\u001b[43mfs\u001b[49m\u001b[38;5;241;43m.\u001b[39;49m\u001b[43mpop\u001b[49m\u001b[43m(\u001b[49m\u001b[43m)\u001b[49m\u001b[43m)\u001b[49m\n\u001b[1;32m    620\u001b[0m     \u001b[38;5;28;01melse\u001b[39;00m:\n\u001b[1;32m    621\u001b[0m         \u001b[38;5;28;01myield\u001b[39;00m _result_or_cancel(fs\u001b[38;5;241m.\u001b[39mpop(), end_time \u001b[38;5;241m-\u001b[39m time\u001b[38;5;241m.\u001b[39mmonotonic())\n",
      "File \u001b[0;32m/opt/homebrew/Caskroom/miniforge/base/envs/pisces/lib/python3.11/concurrent/futures/_base.py:317\u001b[0m, in \u001b[0;36m_result_or_cancel\u001b[0;34m(***failed resolving arguments***)\u001b[0m\n\u001b[1;32m    315\u001b[0m \u001b[38;5;28;01mtry\u001b[39;00m:\n\u001b[1;32m    316\u001b[0m     \u001b[38;5;28;01mtry\u001b[39;00m:\n\u001b[0;32m--> 317\u001b[0m         \u001b[38;5;28;01mreturn\u001b[39;00m \u001b[43mfut\u001b[49m\u001b[38;5;241;43m.\u001b[39;49m\u001b[43mresult\u001b[49m\u001b[43m(\u001b[49m\u001b[43mtimeout\u001b[49m\u001b[43m)\u001b[49m\n\u001b[1;32m    318\u001b[0m     \u001b[38;5;28;01mfinally\u001b[39;00m:\n\u001b[1;32m    319\u001b[0m         fut\u001b[38;5;241m.\u001b[39mcancel()\n",
      "File \u001b[0;32m/opt/homebrew/Caskroom/miniforge/base/envs/pisces/lib/python3.11/concurrent/futures/_base.py:456\u001b[0m, in \u001b[0;36mFuture.result\u001b[0;34m(self, timeout)\u001b[0m\n\u001b[1;32m    454\u001b[0m     \u001b[38;5;28;01mraise\u001b[39;00m CancelledError()\n\u001b[1;32m    455\u001b[0m \u001b[38;5;28;01melif\u001b[39;00m \u001b[38;5;28mself\u001b[39m\u001b[38;5;241m.\u001b[39m_state \u001b[38;5;241m==\u001b[39m FINISHED:\n\u001b[0;32m--> 456\u001b[0m     \u001b[38;5;28;01mreturn\u001b[39;00m \u001b[38;5;28;43mself\u001b[39;49m\u001b[38;5;241;43m.\u001b[39;49m\u001b[43m__get_result\u001b[49m\u001b[43m(\u001b[49m\u001b[43m)\u001b[49m\n\u001b[1;32m    457\u001b[0m \u001b[38;5;28;01melse\u001b[39;00m:\n\u001b[1;32m    458\u001b[0m     \u001b[38;5;28;01mraise\u001b[39;00m \u001b[38;5;167;01mTimeoutError\u001b[39;00m()\n",
      "File \u001b[0;32m/opt/homebrew/Caskroom/miniforge/base/envs/pisces/lib/python3.11/concurrent/futures/_base.py:401\u001b[0m, in \u001b[0;36mFuture.__get_result\u001b[0;34m(self)\u001b[0m\n\u001b[1;32m    399\u001b[0m \u001b[38;5;28;01mif\u001b[39;00m \u001b[38;5;28mself\u001b[39m\u001b[38;5;241m.\u001b[39m_exception:\n\u001b[1;32m    400\u001b[0m     \u001b[38;5;28;01mtry\u001b[39;00m:\n\u001b[0;32m--> 401\u001b[0m         \u001b[38;5;28;01mraise\u001b[39;00m \u001b[38;5;28mself\u001b[39m\u001b[38;5;241m.\u001b[39m_exception\n\u001b[1;32m    402\u001b[0m     \u001b[38;5;28;01mfinally\u001b[39;00m:\n\u001b[1;32m    403\u001b[0m         \u001b[38;5;66;03m# Break a reference cycle with the exception in self._exception\u001b[39;00m\n\u001b[1;32m    404\u001b[0m         \u001b[38;5;28mself\u001b[39m \u001b[38;5;241m=\u001b[39m \u001b[38;5;28;01mNone\u001b[39;00m\n",
      "\u001b[0;31mTypeError\u001b[0m: 'NoneType' object is not subscriptable"
     ]
    }
   ],
   "source": [
    "evaluations_hfd, mo_preprocessed_data_hfd = evaluate_mo_on_data_set(mo, hfd)"
   ]
  },
  {
   "cell_type": "code",
   "execution_count": null,
   "metadata": {},
   "outputs": [],
   "source": []
  }
 ],
 "metadata": {
  "kernelspec": {
   "display_name": "pisces",
   "language": "python",
   "name": "python3"
  },
  "language_info": {
   "codemirror_mode": {
    "name": "ipython",
    "version": 3
   },
   "file_extension": ".py",
   "mimetype": "text/x-python",
   "name": "python",
   "nbconvert_exporter": "python",
   "pygments_lexer": "ipython3",
   "version": "3.11.7"
  }
 },
 "nbformat": 4,
 "nbformat_minor": 2
}
