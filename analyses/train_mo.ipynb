{
 "cells": [
  {
   "cell_type": "code",
   "execution_count": 1,
   "metadata": {},
   "outputs": [],
   "source": [
    "from typing import List\n",
    "from matplotlib import pyplot as plt\n",
    "import numpy as np\n",
    "\n",
    "from importlib import reload\n",
    "import pisces.models as pm\n",
    "\n",
    "from pisces.utils import pad_to_hat, plot_scores_CDF, plot_scores_PDF, add_rocs\n",
    "import matplotlib.pyplot as plt\n",
    "\n",
    "from pisces.data_sets import DataSetObject\n",
    "\n",
    "\n",
    "sets = DataSetObject.find_data_sets(\"../data_sets\")\n",
    "walch = sets['walch_et_al']\n",
    "hybrid = sets['hybrid_motion']"
   ]
  },
  {
   "cell_type": "markdown",
   "metadata": {},
   "source": [
    "# Walch et al. data set"
   ]
  },
  {
   "cell_type": "markdown",
   "metadata": {},
   "source": [
    "## (MO) Pretrained UNet evaluation\n",
    "We have the trained weights from Mads Olsen et al.'s _ResUNet_ model, saved as a tensorflow lite model with a wrapper for our system. This section calls that on accelerometer recordings in the `'walch_et_al'` data set."
   ]
  },
  {
   "cell_type": "code",
   "execution_count": 2,
   "metadata": {},
   "outputs": [],
   "source": [
    "from pisces.utils import split_analysis\n",
    "\n",
    "\n",
    "mo = pm.MOResUNetPretrained(sampling_hz=32)\n"
   ]
  },
  {
   "cell_type": "code",
   "execution_count": 3,
   "metadata": {},
   "outputs": [
    {
     "name": "stdout",
     "output_type": "stream",
     "text": [
      "Using 16 of 16 cores (100%) for parallel preprocessing.\n",
      "This can cause memory or heat issues if  is too high; if you run into problems, call prepare_set_for_training() again with max_workers = -1, going more negative if needed. (See the docstring for more info.)\n"
     ]
    },
    {
     "name": "stdout",
     "output_type": "stream",
     "text": [
      "getting needed X, y for 1818471\n",
      "sampling hz: 32\n",
      "masking\n",
      "getting needed X, y for 4018081\n",
      "Masked 1 PSG epochs\n",
      "resampling to 32Hz (0.03125s) from 50 Hz (0.01999s)\n",
      "sampling hz: 32\n",
      "masking\n",
      "getting needed X, y for 1449548\n",
      "getting needed X, y for 2638030\n",
      "getting needed X, y for 2598705\n",
      "Masked 1 PSG epochs\n",
      "getting needed X, y for 1455390\n",
      "resampling to 32Hz (0.03125s) from 66 Hz (0.01502s)\n",
      "getting needed X, y for 4426783\n",
      "getting needed X, y for 46343\n",
      "getting needed X, y for 1066528\n",
      "sampling hz: 32\n",
      "masking\n",
      "getting needed X, y for 5383425\n",
      "sampling hz: 32\n",
      "masking\n",
      "sampling hz: 32\n",
      "masking\n",
      "sampling hz: 32\n",
      "masking\n",
      "sampling hz: 32\n",
      "masking\n",
      "sampling hz: 32\n",
      "masking\n",
      "sampling hz: 32\n",
      "masking\n",
      "sampling hz: 32\n",
      "masking\n",
      "Masked 1 PSG epochs\n",
      "Masked 1 PSG epochs\n",
      "resampling to 32Hz (0.03125s) from 10 Hz (0.09990s)\n",
      "Masked 1 PSG epochs\n",
      "Masked 1 PSG epochs\n",
      "Masked 1 PSG epochs\n",
      "Masked 1 PSG epochs\n",
      "resampling to 32Hz (0.03125s) from 50 Hz (0.01997s)\n",
      "getting needed X, y for 3509524\n",
      "getting needed X, y for 5498603\n",
      "getting needed X, y for 5132496\n",
      "resampling to 32Hz (0.03125s) from 50 Hz (0.01986s)\n",
      "Masked 1 PSG epochs\n",
      "getting needed X, y for 1360686\n",
      "resampling to 32Hz (0.03125s) from 50 Hz (0.01988s)\n",
      "resampling to 32Hz (0.03125s) from 50 Hz (0.01999s)\n",
      "Masked 1 PSG epochs\n",
      "resampling to 32Hz (0.03125s) from 50 Hz (0.01976s)\n",
      "getting needed X, y for 4314139\n",
      "resampling to 32Hz (0.03125s) from 50 Hz (0.01977s)\n",
      "sampling hz: 32\n",
      "masking\n",
      "resampling to 32Hz (0.03125s) from 49 Hz (0.02001s)\n",
      "sampling hz: 32\n",
      "masking\n",
      "sampling hz: 32\n",
      "masking\n",
      "Masked 1 PSG epochs\n",
      "Masked 1 PSG epochs\n",
      "getting needed X, y for 3997827\n",
      "sampling hz: 32\n",
      "masking\n",
      "Masked 1 PSG epochs\n",
      "resampling to 32Hz (0.03125s) from 66 Hz (0.01501s)\n",
      "resampling to 32Hz (0.03125s) from 66 Hz (0.01505s)\n",
      "sampling hz: 32\n",
      "masking\n",
      "Masked 2 PSG epochs\n",
      "resampling to 32Hz (0.03125s) from 49 Hz (0.02001s)\n",
      "resampling to 32Hz (0.03125s) from 49 Hz (0.02001s)\n",
      "Masked 1 PSG epochs\n",
      "sampling hz: 32\n",
      "masking\n",
      "resampling to 32Hz (0.03125s) from 50 Hz (0.01998s)\n",
      "Masked 1 PSG epochs\n",
      "resampling to 32Hz (0.03125s) from 50 Hz (0.01968s)\n",
      "getting needed X, y for 5797046\n",
      "sampling hz: 32\n",
      "masking\n",
      "Masked 1 PSG epochs\n",
      "resampling to 32Hz (0.03125s) from 50 Hz (0.01978s)\n",
      "getting needed X, y for 6220552\n",
      "sampling hz: 32\n",
      "masking\n",
      "Masked 1 PSG epochs\n",
      "resampling to 32Hz (0.03125s) from 50 Hz (0.01975s)\n",
      "getting needed X, y for 759667\n",
      "sampling hz: 32\n",
      "masking\n",
      "Masked 1 PSG epochs\n",
      "resampling to 32Hz (0.03125s) from 65 Hz (0.01535s)\n",
      "getting needed X, y for 7749105\n",
      "ID 7749105 not found in walch_et_al\n",
      "ID 7749105 accelerometer not found in walch_et_al\n",
      "getting needed X, y for 781756\n",
      "sampling hz: 32\n",
      "masking\n",
      "Masked 1 PSG epochs\n",
      "resampling to 32Hz (0.03125s) from 50 Hz (0.01996s)\n",
      "getting needed X, y for 8000685\n",
      "sampling hz: 32\n",
      "masking\n",
      "Masked 1 PSG epochs\n",
      "resampling to 32Hz (0.03125s) from 50 Hz (0.01995s)\n",
      "getting needed X, y for 8173033\n",
      "sampling hz: 32\n",
      "masking\n",
      "Masked 1 PSG epochs\n",
      "resampling to 32Hz (0.03125s) from 49 Hz (0.02001s)\n",
      "getting needed X, y for 8258170\n",
      "sampling hz: 32\n",
      "masking\n",
      "getting needed X, y for 844359\n",
      "Masked 1 PSG epochs\n",
      "resampling to 32Hz (0.03125s) from 10 Hz (0.09988s)\n",
      "getting needed X, y for 8530312\n",
      "sampling hz: 32\n",
      "masking\n",
      "Masked 1 PSG epochs\n",
      "sampling hz: 32\n",
      "masking\n",
      "resampling to 32Hz (0.03125s) from 49 Hz (0.02001s)\n",
      "Masked 1 PSG epochs\n",
      "resampling to 32Hz (0.03125s) from 50 Hz (0.01979s)\n",
      "getting needed X, y for 8686948\n",
      "getting needed X, y for 8692923\n",
      "getting needed X, y for 9106476\n",
      "sampling hz: 32\n",
      "masking\n",
      "getting needed X, y for 9618981\n",
      "sampling hz: 32\n",
      "masking\n",
      "Masked 1 PSG epochs\n",
      "getting needed X, y for 9961348\n",
      "Masked 1 PSG epochs\n",
      "sampling hz: 32\n",
      "masking\n",
      "resampling to 32Hz (0.03125s) from 49 Hz (0.02003s)\n",
      "sampling hz: 32\n",
      "masking\n",
      "resampling to 32Hz (0.03125s) from 50 Hz (0.01969s)\n",
      "sampling hz: 32\n",
      "masking\n",
      "Masked 1 PSG epochs\n",
      "Masked 1 PSG epochs\n",
      "Masked 1 PSG epochs\n",
      "resampling to 32Hz (0.03125s) from 51 Hz (0.01961s)\n",
      "resampling to 32Hz (0.03125s) from 33 Hz (0.02992s)\n",
      "resampling to 32Hz (0.03125s) from 49 Hz (0.02001s)\n"
     ]
    }
   ],
   "source": [
    "# uses all processors on your CPU to preprocess the accelerometer into spectrograms\n",
    "# takes ~ 50 sec on M1 Pro (10core)\n",
    "evaluations_walch, mo_preprocessed_data_walch = mo.evaluate_data_set(walch)\n",
    "mo_aucs_walch = [e[\"auc\"] for e in evaluations_walch.values()]\n",
    "mo_fprs_walch = [e[\"roc_curve\"][\"fprs\"] for e in evaluations_walch.values()]\n",
    "mo_tprs_walch = [e[\"roc_curve\"][\"tprs\"] for e in evaluations_walch.values()]\n"
   ]
  },
  {
   "cell_type": "code",
   "execution_count": 4,
   "metadata": {},
   "outputs": [
    {
     "name": "stdout",
     "output_type": "stream",
     "text": [
      "[[1. 2. 3.]]\n"
     ]
    }
   ],
   "source": [
    "x = np.array([[1.0, 2, 3]])\n",
    "print(x)"
   ]
  },
  {
   "cell_type": "code",
   "execution_count": 5,
   "metadata": {},
   "outputs": [
    {
     "data": {
      "text/plain": [
       "array([[0., 0., 0., 0., 0., 0.],\n",
       "       [0., 0., 0., 0., 0., 0.],\n",
       "       [1., 2., 3., 0., 0., 0.],\n",
       "       [0., 0., 0., 0., 0., 0.]])"
      ]
     },
     "execution_count": 5,
     "metadata": {},
     "output_type": "execute_result"
    }
   ],
   "source": [
    "np.pad(\n",
    "    x,\n",
    "    pad_width=[\n",
    "        (2, 1),\n",
    "        (0, 3),\n",
    "    ]\n",
    ")"
   ]
  },
  {
   "cell_type": "code",
   "execution_count": 6,
   "metadata": {},
   "outputs": [
    {
     "name": "stderr",
     "output_type": "stream",
     "text": [
      "0it [00:00, ?it/s]"
     ]
    },
    {
     "name": "stdout",
     "output_type": "stream",
     "text": [
      "Epoch 1/10\n",
      "\u001b[1m15/15\u001b[0m \u001b[32m━━━━━━━━━━━━━━━━━━━━\u001b[0m\u001b[37m\u001b[0m \u001b[1m32s\u001b[0m 2s/step - loss: 1.2563\n",
      "Epoch 2/10\n",
      "\u001b[1m15/15\u001b[0m \u001b[32m━━━━━━━━━━━━━━━━━━━━\u001b[0m\u001b[37m\u001b[0m \u001b[1m24s\u001b[0m 2s/step - loss: 0.7108\n",
      "Epoch 3/10\n",
      "\u001b[1m15/15\u001b[0m \u001b[32m━━━━━━━━━━━━━━━━━━━━\u001b[0m\u001b[37m\u001b[0m \u001b[1m24s\u001b[0m 2s/step - loss: 0.7057\n",
      "Epoch 4/10\n",
      "\u001b[1m 1/15\u001b[0m \u001b[32m━\u001b[0m\u001b[37m━━━━━━━━━━━━━━━━━━━\u001b[0m \u001b[1m22s\u001b[0m 2s/step - loss: 0.5251"
     ]
    },
    {
     "name": "stderr",
     "output_type": "stream",
     "text": [
      "0it [01:21, ?it/s]\n"
     ]
    },
    {
     "ename": "KeyboardInterrupt",
     "evalue": "",
     "output_type": "error",
     "traceback": [
      "\u001b[0;31m---------------------------------------------------------------------------\u001b[0m",
      "\u001b[0;31mKeyboardInterrupt\u001b[0m                         Traceback (most recent call last)",
      "Cell \u001b[0;32mIn[6], line 4\u001b[0m\n\u001b[1;32m      1\u001b[0m reload(pm)\n\u001b[0;32m----> 4\u001b[0m walch_mo_run \u001b[38;5;241m=\u001b[39m \u001b[43mpm\u001b[49m\u001b[38;5;241;43m.\u001b[39;49m\u001b[43mrun_splits\u001b[49m\u001b[43m(\u001b[49m\n\u001b[1;32m      5\u001b[0m \u001b[43m    \u001b[49m\u001b[43mpm\u001b[49m\u001b[38;5;241;43m.\u001b[39;49m\u001b[43mLeaveOneOutSplitter\u001b[49m\u001b[43m(\u001b[49m\u001b[43m)\u001b[49m\u001b[43m,\u001b[49m\n\u001b[1;32m      6\u001b[0m \u001b[43m    \u001b[49m\u001b[43mw\u001b[49m\u001b[38;5;241;43m=\u001b[39;49m\u001b[43mwalch\u001b[49m\u001b[43m,\u001b[49m\n\u001b[1;32m      7\u001b[0m \u001b[43m    \u001b[49m\u001b[43mswc_class\u001b[49m\u001b[38;5;241;43m=\u001b[39;49m\u001b[43mpm\u001b[49m\u001b[38;5;241;43m.\u001b[39;49m\u001b[43mMOResUNetPretrained\u001b[49m\u001b[43m,\u001b[49m\n\u001b[1;32m      8\u001b[0m \u001b[43m    \u001b[49m\u001b[43mexclude\u001b[49m\u001b[38;5;241;43m=\u001b[39;49m\u001b[43m[\u001b[49m\u001b[38;5;124;43m'\u001b[39;49m\u001b[38;5;124;43m7749105\u001b[39;49m\u001b[38;5;124;43m'\u001b[39;49m\u001b[43m]\u001b[49m\u001b[43m,\u001b[49m\n\u001b[1;32m      9\u001b[0m \u001b[43m    \u001b[49m\u001b[43mpreprocessed_data\u001b[49m\u001b[38;5;241;43m=\u001b[39;49m\u001b[43mmo_preprocessed_data_walch\u001b[49m\n\u001b[1;32m     10\u001b[0m \u001b[43m)\u001b[49m\n",
      "File \u001b[0;32m~/Engineering/Work/pisces/pisces/models.py:463\u001b[0m, in \u001b[0;36mrun_splits\u001b[0;34m(split_maker, w, swc_class, exclude, preprocessed_data)\u001b[0m\n\u001b[1;32m    461\u001b[0m \u001b[38;5;28;01mif\u001b[39;00m preprocessed_data[test_index[\u001b[38;5;241m0\u001b[39m]][\u001b[38;5;241m0\u001b[39m] \u001b[38;5;129;01mis\u001b[39;00m \u001b[38;5;28;01mNone\u001b[39;00m:\n\u001b[1;32m    462\u001b[0m     \u001b[38;5;28;01mcontinue\u001b[39;00m\n\u001b[0;32m--> 463\u001b[0m model \u001b[38;5;241m=\u001b[39m \u001b[43mrun_split\u001b[49m\u001b[43m(\u001b[49m\u001b[43mtrain_indices\u001b[49m\u001b[38;5;241;43m=\u001b[39;49m\u001b[43mtrain_index\u001b[49m\u001b[43m,\u001b[49m\n\u001b[1;32m    464\u001b[0m \u001b[43m                \u001b[49m\u001b[43mpreprocessed_data_set\u001b[49m\u001b[38;5;241;43m=\u001b[39;49m\u001b[43mpreprocessed_data\u001b[49m\u001b[43m,\u001b[49m\n\u001b[1;32m    465\u001b[0m \u001b[43m                \u001b[49m\u001b[43mswc\u001b[49m\u001b[38;5;241;43m=\u001b[39;49m\u001b[43mswc_class\u001b[49m\u001b[43m(\u001b[49m\u001b[43m)\u001b[49m\u001b[43m)\u001b[49m\n\u001b[1;32m    466\u001b[0m split_models\u001b[38;5;241m.\u001b[39mappend(model)\n\u001b[1;32m    467\u001b[0m test_indices\u001b[38;5;241m.\u001b[39mappend(test_index[\u001b[38;5;241m0\u001b[39m])\n",
      "File \u001b[0;32m~/Engineering/Work/pisces/pisces/models.py:438\u001b[0m, in \u001b[0;36mrun_split\u001b[0;34m(train_indices, preprocessed_data_set, swc)\u001b[0m\n\u001b[1;32m    430\u001b[0m \u001b[38;5;28;01mdef\u001b[39;00m \u001b[38;5;21mrun_split\u001b[39m(train_indices, \n\u001b[1;32m    431\u001b[0m               preprocessed_data_set: List[Tuple[np\u001b[38;5;241m.\u001b[39mndarray, np\u001b[38;5;241m.\u001b[39mndarray]], \n\u001b[1;32m    432\u001b[0m               swc: SleepWakeClassifier) \u001b[38;5;241m-\u001b[39m\u001b[38;5;241m>\u001b[39m SleepWakeClassifier:\n\u001b[1;32m    433\u001b[0m     training_pairs \u001b[38;5;241m=\u001b[39m [\n\u001b[1;32m    434\u001b[0m         preprocessed_data_set[i][\u001b[38;5;241m0\u001b[39m]\n\u001b[1;32m    435\u001b[0m         \u001b[38;5;28;01mfor\u001b[39;00m i \u001b[38;5;129;01min\u001b[39;00m train_indices\n\u001b[1;32m    436\u001b[0m         \u001b[38;5;28;01mif\u001b[39;00m preprocessed_data_set[i][\u001b[38;5;241m0\u001b[39m] \u001b[38;5;129;01mis\u001b[39;00m \u001b[38;5;129;01mnot\u001b[39;00m \u001b[38;5;28;01mNone\u001b[39;00m\n\u001b[1;32m    437\u001b[0m     ]\n\u001b[0;32m--> 438\u001b[0m     \u001b[43mswc\u001b[49m\u001b[38;5;241;43m.\u001b[39;49m\u001b[43mtrain\u001b[49m\u001b[43m(\u001b[49m\u001b[43mpairs_Xy\u001b[49m\u001b[38;5;241;43m=\u001b[39;49m\u001b[43mtraining_pairs\u001b[49m\u001b[43m)\u001b[49m\n\u001b[1;32m    440\u001b[0m     \u001b[38;5;28;01mreturn\u001b[39;00m swc\n",
      "File \u001b[0;32m~/Engineering/Work/pisces/pisces/models.py:306\u001b[0m, in \u001b[0;36mMOResUNetPretrained.train\u001b[0;34m(self, examples_X, examples_y, pairs_Xy, epochs, batch_size)\u001b[0m\n\u001b[1;32m    301\u001b[0m weights \u001b[38;5;241m=\u001b[39m np\u001b[38;5;241m.\u001b[39mconcatenate(weights, axis\u001b[38;5;241m=\u001b[39m\u001b[38;5;241m0\u001b[39m)\n\u001b[1;32m    303\u001b[0m \u001b[38;5;28mself\u001b[39m\u001b[38;5;241m.\u001b[39mtf_model\u001b[38;5;241m.\u001b[39mcompile(\n\u001b[1;32m    304\u001b[0m     optimizer\u001b[38;5;241m=\u001b[39mkeras\u001b[38;5;241m.\u001b[39moptimizers\u001b[38;5;241m.\u001b[39mRMSprop(), \n\u001b[1;32m    305\u001b[0m     loss\u001b[38;5;241m=\u001b[39mkeras\u001b[38;5;241m.\u001b[39mlosses\u001b[38;5;241m.\u001b[39mSparseCategoricalCrossentropy())\n\u001b[0;32m--> 306\u001b[0m \u001b[38;5;28;43mself\u001b[39;49m\u001b[38;5;241;43m.\u001b[39;49m\u001b[43mtf_model\u001b[49m\u001b[38;5;241;43m.\u001b[39;49m\u001b[43mfit\u001b[49m\u001b[43m(\u001b[49m\n\u001b[1;32m    307\u001b[0m \u001b[43m    \u001b[49m\u001b[43mXs_c\u001b[49m\u001b[43m,\u001b[49m\u001b[43m \u001b[49m\n\u001b[1;32m    308\u001b[0m \u001b[43m    \u001b[49m\u001b[43mys_c\u001b[49m\u001b[43m \u001b[49m\u001b[38;5;241;43m*\u001b[39;49m\u001b[43m \u001b[49m\u001b[43mweights\u001b[49m\u001b[43m,\u001b[49m\n\u001b[1;32m    309\u001b[0m \u001b[43m    \u001b[49m\u001b[43mbatch_size\u001b[49m\u001b[38;5;241;43m=\u001b[39;49m\u001b[43mbatch_size\u001b[49m\u001b[43m,\u001b[49m\n\u001b[1;32m    310\u001b[0m \u001b[43m    \u001b[49m\u001b[43mepochs\u001b[49m\u001b[38;5;241;43m=\u001b[39;49m\u001b[43mepochs\u001b[49m\u001b[43m,\u001b[49m\n\u001b[1;32m    311\u001b[0m \u001b[43m    \u001b[49m\u001b[43msample_weight\u001b[49m\u001b[38;5;241;43m=\u001b[39;49m\u001b[43mweights\u001b[49m\u001b[43m,\u001b[49m\u001b[43m)\u001b[49m\n",
      "File \u001b[0;32m~/Engineering/Work/pisces/.pisces/lib/python3.11/site-packages/keras/src/utils/traceback_utils.py:117\u001b[0m, in \u001b[0;36mfilter_traceback.<locals>.error_handler\u001b[0;34m(*args, **kwargs)\u001b[0m\n\u001b[1;32m    115\u001b[0m filtered_tb \u001b[38;5;241m=\u001b[39m \u001b[38;5;28;01mNone\u001b[39;00m\n\u001b[1;32m    116\u001b[0m \u001b[38;5;28;01mtry\u001b[39;00m:\n\u001b[0;32m--> 117\u001b[0m     \u001b[38;5;28;01mreturn\u001b[39;00m \u001b[43mfn\u001b[49m\u001b[43m(\u001b[49m\u001b[38;5;241;43m*\u001b[39;49m\u001b[43margs\u001b[49m\u001b[43m,\u001b[49m\u001b[43m \u001b[49m\u001b[38;5;241;43m*\u001b[39;49m\u001b[38;5;241;43m*\u001b[39;49m\u001b[43mkwargs\u001b[49m\u001b[43m)\u001b[49m\n\u001b[1;32m    118\u001b[0m \u001b[38;5;28;01mexcept\u001b[39;00m \u001b[38;5;167;01mException\u001b[39;00m \u001b[38;5;28;01mas\u001b[39;00m e:\n\u001b[1;32m    119\u001b[0m     filtered_tb \u001b[38;5;241m=\u001b[39m _process_traceback_frames(e\u001b[38;5;241m.\u001b[39m__traceback__)\n",
      "File \u001b[0;32m~/Engineering/Work/pisces/.pisces/lib/python3.11/site-packages/keras/src/backend/tensorflow/trainer.py:330\u001b[0m, in \u001b[0;36mTensorFlowTrainer.fit\u001b[0;34m(self, x, y, batch_size, epochs, verbose, callbacks, validation_split, validation_data, shuffle, class_weight, sample_weight, initial_epoch, steps_per_epoch, validation_steps, validation_batch_size, validation_freq)\u001b[0m\n\u001b[1;32m    328\u001b[0m callbacks\u001b[38;5;241m.\u001b[39mon_train_batch_begin(step)\n\u001b[1;32m    329\u001b[0m logs \u001b[38;5;241m=\u001b[39m \u001b[38;5;28mself\u001b[39m\u001b[38;5;241m.\u001b[39mtrain_function(iterator)\n\u001b[0;32m--> 330\u001b[0m \u001b[43mcallbacks\u001b[49m\u001b[38;5;241;43m.\u001b[39;49m\u001b[43mon_train_batch_end\u001b[49m\u001b[43m(\u001b[49m\n\u001b[1;32m    331\u001b[0m \u001b[43m    \u001b[49m\u001b[43mstep\u001b[49m\u001b[43m,\u001b[49m\u001b[43m \u001b[49m\u001b[38;5;28;43mself\u001b[39;49m\u001b[38;5;241;43m.\u001b[39;49m\u001b[43m_pythonify_logs\u001b[49m\u001b[43m(\u001b[49m\u001b[43mlogs\u001b[49m\u001b[43m)\u001b[49m\n\u001b[1;32m    332\u001b[0m \u001b[43m\u001b[49m\u001b[43m)\u001b[49m\n\u001b[1;32m    333\u001b[0m \u001b[38;5;28;01mif\u001b[39;00m \u001b[38;5;28mself\u001b[39m\u001b[38;5;241m.\u001b[39mstop_training:\n\u001b[1;32m    334\u001b[0m     \u001b[38;5;28;01mbreak\u001b[39;00m\n",
      "File \u001b[0;32m~/Engineering/Work/pisces/.pisces/lib/python3.11/site-packages/keras/src/callbacks/callback_list.py:106\u001b[0m, in \u001b[0;36mCallbackList.on_train_batch_end\u001b[0;34m(self, batch, logs)\u001b[0m\n\u001b[1;32m    104\u001b[0m logs \u001b[38;5;241m=\u001b[39m logs \u001b[38;5;129;01mor\u001b[39;00m {}\n\u001b[1;32m    105\u001b[0m \u001b[38;5;28;01mfor\u001b[39;00m callback \u001b[38;5;129;01min\u001b[39;00m \u001b[38;5;28mself\u001b[39m\u001b[38;5;241m.\u001b[39mcallbacks:\n\u001b[0;32m--> 106\u001b[0m     \u001b[43mcallback\u001b[49m\u001b[38;5;241;43m.\u001b[39;49m\u001b[43mon_train_batch_end\u001b[49m\u001b[43m(\u001b[49m\u001b[43mbatch\u001b[49m\u001b[43m,\u001b[49m\u001b[43m \u001b[49m\u001b[43mlogs\u001b[49m\u001b[38;5;241;43m=\u001b[39;49m\u001b[43mlogs\u001b[49m\u001b[43m)\u001b[49m\n",
      "File \u001b[0;32m~/Engineering/Work/pisces/.pisces/lib/python3.11/site-packages/keras/src/callbacks/progbar_logger.py:58\u001b[0m, in \u001b[0;36mProgbarLogger.on_train_batch_end\u001b[0;34m(self, batch, logs)\u001b[0m\n\u001b[1;32m     57\u001b[0m \u001b[38;5;28;01mdef\u001b[39;00m \u001b[38;5;21mon_train_batch_end\u001b[39m(\u001b[38;5;28mself\u001b[39m, batch, logs\u001b[38;5;241m=\u001b[39m\u001b[38;5;28;01mNone\u001b[39;00m):\n\u001b[0;32m---> 58\u001b[0m     \u001b[38;5;28;43mself\u001b[39;49m\u001b[38;5;241;43m.\u001b[39;49m\u001b[43m_update_progbar\u001b[49m\u001b[43m(\u001b[49m\u001b[43mbatch\u001b[49m\u001b[43m,\u001b[49m\u001b[43m \u001b[49m\u001b[43mlogs\u001b[49m\u001b[43m)\u001b[49m\n",
      "File \u001b[0;32m~/Engineering/Work/pisces/.pisces/lib/python3.11/site-packages/keras/src/callbacks/progbar_logger.py:95\u001b[0m, in \u001b[0;36mProgbarLogger._update_progbar\u001b[0;34m(self, batch, logs)\u001b[0m\n\u001b[1;32m     92\u001b[0m \u001b[38;5;28mself\u001b[39m\u001b[38;5;241m.\u001b[39mseen \u001b[38;5;241m=\u001b[39m batch \u001b[38;5;241m+\u001b[39m \u001b[38;5;241m1\u001b[39m  \u001b[38;5;66;03m# One-indexed.\u001b[39;00m\n\u001b[1;32m     94\u001b[0m \u001b[38;5;28;01mif\u001b[39;00m \u001b[38;5;28mself\u001b[39m\u001b[38;5;241m.\u001b[39mverbose \u001b[38;5;241m==\u001b[39m \u001b[38;5;241m1\u001b[39m:\n\u001b[0;32m---> 95\u001b[0m     \u001b[38;5;28;43mself\u001b[39;49m\u001b[38;5;241;43m.\u001b[39;49m\u001b[43mprogbar\u001b[49m\u001b[38;5;241;43m.\u001b[39;49m\u001b[43mupdate\u001b[49m\u001b[43m(\u001b[49m\u001b[38;5;28;43mself\u001b[39;49m\u001b[38;5;241;43m.\u001b[39;49m\u001b[43mseen\u001b[49m\u001b[43m,\u001b[49m\u001b[43m \u001b[49m\u001b[38;5;28;43mlist\u001b[39;49m\u001b[43m(\u001b[49m\u001b[43mlogs\u001b[49m\u001b[38;5;241;43m.\u001b[39;49m\u001b[43mitems\u001b[49m\u001b[43m(\u001b[49m\u001b[43m)\u001b[49m\u001b[43m)\u001b[49m\u001b[43m,\u001b[49m\u001b[43m \u001b[49m\u001b[43mfinalize\u001b[49m\u001b[38;5;241;43m=\u001b[39;49m\u001b[38;5;28;43;01mFalse\u001b[39;49;00m\u001b[43m)\u001b[49m\n",
      "File \u001b[0;32m~/Engineering/Work/pisces/.pisces/lib/python3.11/site-packages/keras/src/utils/progbar.py:182\u001b[0m, in \u001b[0;36mProgbar.update\u001b[0;34m(self, current, values, finalize)\u001b[0m\n\u001b[1;32m    179\u001b[0m \u001b[38;5;28;01mif\u001b[39;00m finalize:\n\u001b[1;32m    180\u001b[0m     message \u001b[38;5;241m+\u001b[39m\u001b[38;5;241m=\u001b[39m \u001b[38;5;124m\"\u001b[39m\u001b[38;5;130;01m\\n\u001b[39;00m\u001b[38;5;124m\"\u001b[39m\n\u001b[0;32m--> 182\u001b[0m \u001b[43mio_utils\u001b[49m\u001b[38;5;241;43m.\u001b[39;49m\u001b[43mprint_msg\u001b[49m\u001b[43m(\u001b[49m\u001b[43mmessage\u001b[49m\u001b[43m,\u001b[49m\u001b[43m \u001b[49m\u001b[43mline_break\u001b[49m\u001b[38;5;241;43m=\u001b[39;49m\u001b[38;5;28;43;01mFalse\u001b[39;49;00m\u001b[43m)\u001b[49m\n\u001b[1;32m    183\u001b[0m \u001b[38;5;28mself\u001b[39m\u001b[38;5;241m.\u001b[39m_prev_total_width \u001b[38;5;241m=\u001b[39m total_width\n\u001b[1;32m    184\u001b[0m message \u001b[38;5;241m=\u001b[39m \u001b[38;5;124m\"\u001b[39m\u001b[38;5;124m\"\u001b[39m\n",
      "File \u001b[0;32m~/Engineering/Work/pisces/.pisces/lib/python3.11/site-packages/keras/src/utils/io_utils.py:99\u001b[0m, in \u001b[0;36mprint_msg\u001b[0;34m(message, line_break)\u001b[0m\n\u001b[1;32m     97\u001b[0m     \u001b[38;5;28;01melse\u001b[39;00m:\n\u001b[1;32m     98\u001b[0m         sys\u001b[38;5;241m.\u001b[39mstdout\u001b[38;5;241m.\u001b[39mwrite(message)\n\u001b[0;32m---> 99\u001b[0m     \u001b[43msys\u001b[49m\u001b[38;5;241;43m.\u001b[39;49m\u001b[43mstdout\u001b[49m\u001b[38;5;241;43m.\u001b[39;49m\u001b[43mflush\u001b[49m\u001b[43m(\u001b[49m\u001b[43m)\u001b[49m\n\u001b[1;32m    100\u001b[0m \u001b[38;5;28;01melse\u001b[39;00m:\n\u001b[1;32m    101\u001b[0m     logging\u001b[38;5;241m.\u001b[39minfo(message)\n",
      "File \u001b[0;32m~/Engineering/Work/pisces/.pisces/lib/python3.11/site-packages/ipykernel/iostream.py:609\u001b[0m, in \u001b[0;36mOutStream.flush\u001b[0;34m(self)\u001b[0m\n\u001b[1;32m    607\u001b[0m     \u001b[38;5;28mself\u001b[39m\u001b[38;5;241m.\u001b[39mpub_thread\u001b[38;5;241m.\u001b[39mschedule(evt\u001b[38;5;241m.\u001b[39mset)\n\u001b[1;32m    608\u001b[0m     \u001b[38;5;66;03m# and give a timeout to avoid\u001b[39;00m\n\u001b[0;32m--> 609\u001b[0m     \u001b[38;5;28;01mif\u001b[39;00m \u001b[38;5;129;01mnot\u001b[39;00m \u001b[43mevt\u001b[49m\u001b[38;5;241;43m.\u001b[39;49m\u001b[43mwait\u001b[49m\u001b[43m(\u001b[49m\u001b[38;5;28;43mself\u001b[39;49m\u001b[38;5;241;43m.\u001b[39;49m\u001b[43mflush_timeout\u001b[49m\u001b[43m)\u001b[49m:\n\u001b[1;32m    610\u001b[0m         \u001b[38;5;66;03m# write directly to __stderr__ instead of warning because\u001b[39;00m\n\u001b[1;32m    611\u001b[0m         \u001b[38;5;66;03m# if this is happening sys.stderr may be the problem.\u001b[39;00m\n\u001b[1;32m    612\u001b[0m         \u001b[38;5;28mprint\u001b[39m(\u001b[38;5;124m\"\u001b[39m\u001b[38;5;124mIOStream.flush timed out\u001b[39m\u001b[38;5;124m\"\u001b[39m, file\u001b[38;5;241m=\u001b[39msys\u001b[38;5;241m.\u001b[39m__stderr__)\n\u001b[1;32m    613\u001b[0m \u001b[38;5;28;01melse\u001b[39;00m:\n",
      "File \u001b[0;32m/opt/homebrew/Caskroom/miniforge/base/envs/pisces-new/lib/python3.11/threading.py:629\u001b[0m, in \u001b[0;36mEvent.wait\u001b[0;34m(self, timeout)\u001b[0m\n\u001b[1;32m    627\u001b[0m signaled \u001b[38;5;241m=\u001b[39m \u001b[38;5;28mself\u001b[39m\u001b[38;5;241m.\u001b[39m_flag\n\u001b[1;32m    628\u001b[0m \u001b[38;5;28;01mif\u001b[39;00m \u001b[38;5;129;01mnot\u001b[39;00m signaled:\n\u001b[0;32m--> 629\u001b[0m     signaled \u001b[38;5;241m=\u001b[39m \u001b[38;5;28;43mself\u001b[39;49m\u001b[38;5;241;43m.\u001b[39;49m\u001b[43m_cond\u001b[49m\u001b[38;5;241;43m.\u001b[39;49m\u001b[43mwait\u001b[49m\u001b[43m(\u001b[49m\u001b[43mtimeout\u001b[49m\u001b[43m)\u001b[49m\n\u001b[1;32m    630\u001b[0m \u001b[38;5;28;01mreturn\u001b[39;00m signaled\n",
      "File \u001b[0;32m/opt/homebrew/Caskroom/miniforge/base/envs/pisces-new/lib/python3.11/threading.py:331\u001b[0m, in \u001b[0;36mCondition.wait\u001b[0;34m(self, timeout)\u001b[0m\n\u001b[1;32m    329\u001b[0m \u001b[38;5;28;01melse\u001b[39;00m:\n\u001b[1;32m    330\u001b[0m     \u001b[38;5;28;01mif\u001b[39;00m timeout \u001b[38;5;241m>\u001b[39m \u001b[38;5;241m0\u001b[39m:\n\u001b[0;32m--> 331\u001b[0m         gotit \u001b[38;5;241m=\u001b[39m \u001b[43mwaiter\u001b[49m\u001b[38;5;241;43m.\u001b[39;49m\u001b[43macquire\u001b[49m\u001b[43m(\u001b[49m\u001b[38;5;28;43;01mTrue\u001b[39;49;00m\u001b[43m,\u001b[49m\u001b[43m \u001b[49m\u001b[43mtimeout\u001b[49m\u001b[43m)\u001b[49m\n\u001b[1;32m    332\u001b[0m     \u001b[38;5;28;01melse\u001b[39;00m:\n\u001b[1;32m    333\u001b[0m         gotit \u001b[38;5;241m=\u001b[39m waiter\u001b[38;5;241m.\u001b[39macquire(\u001b[38;5;28;01mFalse\u001b[39;00m)\n",
      "\u001b[0;31mKeyboardInterrupt\u001b[0m: "
     ]
    }
   ],
   "source": [
    "reload(pm)\n",
    "\n",
    "\n",
    "walch_mo_run = pm.run_splits(\n",
    "    pm.LeaveOneOutSplitter(),\n",
    "    w=walch,\n",
    "    swc_class=pm.MOResUNetPretrained,\n",
    "    exclude=['7749105'],\n",
    "    preprocessed_data=mo_preprocessed_data_walch\n",
    ")"
   ]
  },
  {
   "cell_type": "code",
   "execution_count": null,
   "metadata": {},
   "outputs": [],
   "source": []
  }
 ],
 "metadata": {
  "kernelspec": {
   "display_name": ".pisces",
   "language": "python",
   "name": "python3"
  },
  "language_info": {
   "codemirror_mode": {
    "name": "ipython",
    "version": 3
   },
   "file_extension": ".py",
   "mimetype": "text/x-python",
   "name": "python",
   "nbconvert_exporter": "python",
   "pygments_lexer": "ipython3",
   "version": "3.11.8"
  }
 },
 "nbformat": 4,
 "nbformat_minor": 2
}
