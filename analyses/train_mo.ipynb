{
 "cells": [
  {
   "cell_type": "code",
   "execution_count": 1,
   "metadata": {},
   "outputs": [],
   "source": [
    "from typing import List\n",
    "from matplotlib import pyplot as plt\n",
    "import numpy as np\n",
    "\n",
    "from importlib import reload\n",
    "import pisces.models as pm\n",
    "\n",
    "from pisces.utils import pad_to_hat, plot_scores_CDF, plot_scores_PDF, add_rocs\n",
    "import matplotlib.pyplot as plt\n",
    "\n",
    "from pisces.data_sets import DataSetObject\n",
    "\n",
    "\n",
    "sets = DataSetObject.find_data_sets(\"../data_sets\")\n",
    "walch = sets['walch_et_al']\n",
    "hybrid = sets['hybrid_motion']"
   ]
  },
  {
   "cell_type": "code",
   "execution_count": 2,
   "metadata": {},
   "outputs": [],
   "source": [
    "\n",
    "mo = pm.MOResUNetPretrained(sampling_hz=32)\n"
   ]
  },
  {
   "cell_type": "code",
   "execution_count": 20,
   "metadata": {},
   "outputs": [],
   "source": [
    "from sklearn.metrics import auc as area\n",
    "def roc_for_class(X, y, neg_class: int):\n",
    "    pr = mo.predict_probabilities(X)[0]\n",
    "    p_not_class = 1 - pr[:, neg_class]\n",
    "    y_padded = np.zeros_like(p_not_class)\n",
    "    mask = np.zeros_like(p_not_class)\n",
    "    # just score the class\n",
    "    y_padded[:y.shape[0]] = y != neg_class\n",
    "    # PSG with negative value indicates to ignore that epoch\n",
    "    mask[:y.shape[0]] = y >= 0\n",
    "    \n",
    "    return pm.roc_curve(y_padded, p_not_class, sample_weight=mask)"
   ]
  },
  {
   "cell_type": "markdown",
   "metadata": {},
   "source": [
    "# Walch et al. data set"
   ]
  },
  {
   "cell_type": "markdown",
   "metadata": {},
   "source": [
    "## (MO) Pretrained UNet evaluation\n",
    "We have the trained weights from Mads Olsen et al.'s _ResUNet_ model, saved as a tensorflow lite model with a wrapper for our system. This section calls that on accelerometer recordings in the `'walch_et_al'` data set."
   ]
  },
  {
   "cell_type": "code",
   "execution_count": 4,
   "metadata": {},
   "outputs": [
    {
     "name": "stdout",
     "output_type": "stream",
     "text": [
      "Using 16 of 16 cores (100%) for parallel preprocessing.\n",
      "This can cause memory or heat issues if  is too high; if you run into problems, call prepare_set_for_training() again with max_workers = -1, going more negative if needed. (See the docstring for more info.)\n"
     ]
    },
    {
     "name": "stdout",
     "output_type": "stream",
     "text": [
      "getting needed X, y for 3997827\n",
      "getting needed X, y for 46343\n",
      "getting needed X, y for 1066528\n",
      "getting needed X, y for 2598705\n",
      "getting needed X, y for 1360686\n",
      "getting needed X, y for 4426783\n",
      "getting needed X, y for 5132496\n",
      "getting needed X, y for 4018081\n",
      "getting needed X, y for 5498603\n",
      "getting needed X, y for 3509524\n",
      "getting needed X, y for 2638030\n",
      "getting needed X, y for 5383425\n",
      "getting needed X, y for 1818471\n",
      "getting needed X, y for 1449548\n",
      "getting needed X, y for 4314139\n",
      "getting needed X, y for 1455390\n",
      "sampling hz: 32\n",
      "masking\n",
      "Masked 1 PSG epochs\n",
      "resampling to 32Hz (0.03125s) from 50 Hz (0.01997s)\n",
      "sampling hz: 32\n",
      "masking\n",
      "Masked 1 PSG epochs\n",
      "resampling to 32Hz (0.03125s) from 10 Hz (0.09990s)\n",
      "sampling hz: 32\n",
      "masking\n",
      "Masked 1 PSG epochs\n",
      "sampling hz: 32\n",
      "masking\n",
      "sampling hz: 32\n",
      "masking\n",
      "resampling to 32Hz (0.03125s) from 66 Hz (0.01505s)\n",
      "sampling hz: 32\n",
      "masking\n",
      "sampling hz: 32\n",
      "masking\n",
      "sampling hz: 32\n",
      "masking\n",
      "Masked 1 PSG epochs\n",
      "sampling hz: 32\n",
      "masking\n",
      "sampling hz: 32\n",
      "masking\n",
      "resampling to 32Hz (0.03125s) from 66 Hz (0.01501s)\n",
      "Masked 1 PSG epochs\n",
      "sampling hz: 32\n",
      "masking\n",
      "Masked 1 PSG epochs\n",
      "Masked 2 PSG epochs\n",
      "Masked 1 PSG epochs\n",
      "Masked 1 PSG epochs\n",
      "resampling to 32Hz (0.03125s) from 66 Hz (0.01502s)\n",
      "resampling to 32Hz (0.03125s) from 49 Hz (0.02001s)\n",
      "Masked 1 PSG epochs\n",
      "Masked 1 PSG epochs\n",
      "resampling to 32Hz (0.03125s) from 49 Hz (0.02001s)\n",
      "resampling to 32Hz (0.03125s) from 50 Hz (0.01977s)\n",
      "resampling to 32Hz (0.03125s) from 49 Hz (0.02001s)\n",
      "resampling to 32Hz (0.03125s) from 50 Hz (0.01976s)\n",
      "sampling hz: 32\n",
      "masking\n",
      "resampling to 32Hz (0.03125s) from 50 Hz (0.01968s)\n",
      "sampling hz: 32\n",
      "masking\n",
      "sampling hz: 32\n",
      "masking\n",
      "sampling hz: 32\n",
      "masking\n",
      "sampling hz: 32\n",
      "masking\n",
      "Masked 1 PSG epochs\n",
      "Masked 1 PSG epochs\n",
      "Masked 1 PSG epochs\n",
      "Masked 1 PSG epochs\n",
      "resampling to 32Hz (0.03125s) from 50 Hz (0.01999s)\n",
      "Masked 1 PSG epochs\n",
      "resampling to 32Hz (0.03125s) from 50 Hz (0.01998s)\n",
      "resampling to 32Hz (0.03125s) from 50 Hz (0.01988s)\n",
      "resampling to 32Hz (0.03125s) from 50 Hz (0.01999s)\n",
      "resampling to 32Hz (0.03125s) from 50 Hz (0.01986s)\n",
      "getting needed X, y for 5797046\n",
      "sampling hz: 32\n",
      "masking\n",
      "Masked 1 PSG epochs\n",
      "resampling to 32Hz (0.03125s) from 50 Hz (0.01978s)\n",
      "getting needed X, y for 6220552\n",
      "sampling hz: 32\n",
      "masking\n",
      "Masked 1 PSG epochs\n",
      "resampling to 32Hz (0.03125s) from 50 Hz (0.01975s)\n",
      "getting needed X, y for 759667\n",
      "sampling hz: 32\n",
      "masking\n",
      "Masked 1 PSG epochs\n",
      "resampling to 32Hz (0.03125s) from 65 Hz (0.01535s)\n",
      "getting needed X, y for 7749105\n",
      "ID 7749105 not found in walch_et_al\n",
      "ID 7749105 accelerometer not found in walch_et_al\n",
      "getting needed X, y for 781756\n",
      "sampling hz: 32\n",
      "masking\n",
      "Masked 1 PSG epochs\n",
      "resampling to 32Hz (0.03125s) from 50 Hz (0.01996s)\n",
      "getting needed X, y for 8000685\n",
      "sampling hz: 32\n",
      "masking\n",
      "Masked 1 PSG epochs\n",
      "resampling to 32Hz (0.03125s) from 50 Hz (0.01995s)\n",
      "getting needed X, y for 8173033\n",
      "sampling hz: 32\n",
      "masking\n",
      "Masked 1 PSG epochs\n",
      "resampling to 32Hz (0.03125s) from 49 Hz (0.02001s)\n",
      "getting needed X, y for 8258170\n",
      "getting needed X, y for 844359\n",
      "sampling hz: 32\n",
      "masking\n",
      "Masked 1 PSG epochs\n",
      "resampling to 32Hz (0.03125s) from 10 Hz (0.09988s)\n",
      "getting needed X, y for 8530312\n",
      "getting needed X, y for 8686948\n",
      "sampling hz: 32\n",
      "masking\n",
      "sampling hz: 32\n",
      "masking\n",
      "Masked 1 PSG epochs\n",
      "resampling to 32Hz (0.03125s) from 49 Hz (0.02001s)\n",
      "Masked 1 PSG epochs\n",
      "sampling hz: 32\n",
      "masking\n",
      "resampling to 32Hz (0.03125s) from 50 Hz (0.01979s)\n",
      "Masked 1 PSG epochs\n",
      "resampling to 32Hz (0.03125s) from 49 Hz (0.02003s)\n",
      "getting needed X, y for 8692923\n",
      "getting needed X, y for 9106476\n",
      "getting needed X, y for 9618981\n",
      "getting needed X, y for 9961348\n",
      "sampling hz: 32\n",
      "masking\n",
      "sampling hz: 32\n",
      "masking\n",
      "sampling hz: 32\n",
      "masking\n",
      "Masked 1 PSG epochs\n",
      "Masked 1 PSG epochs\n",
      "Masked 1 PSG epochs\n",
      "sampling hz: 32\n",
      "masking\n",
      "resampling to 32Hz (0.03125s) from 33 Hz (0.02992s)\n",
      "resampling to 32Hz (0.03125s) from 50 Hz (0.01969s)\n",
      "resampling to 32Hz (0.03125s) from 49 Hz (0.02001s)\n",
      "Masked 1 PSG epochs\n",
      "resampling to 32Hz (0.03125s) from 51 Hz (0.01961s)\n"
     ]
    }
   ],
   "source": [
    "# uses all processors on your CPU to preprocess the accelerometer into spectrograms\n",
    "# takes ~ 50 sec on M1 Pro (10core)\n",
    "evaluations_walch, mo_preprocessed_data_walch = mo.evaluate_data_set(walch)\n",
    "mo_aucs_walch = [e[\"auc\"] for e in evaluations_walch.values()]\n",
    "mo_fprs_walch = [e[\"roc_curve\"][\"fprs\"] for e in evaluations_walch.values()]\n",
    "mo_tprs_walch = [e[\"roc_curve\"][\"tprs\"] for e in evaluations_walch.values()]\n"
   ]
  },
  {
   "cell_type": "code",
   "execution_count": 17,
   "metadata": {},
   "outputs": [
    {
     "name": "stdout",
     "output_type": "stream",
     "text": [
      "\u001b[1m1/1\u001b[0m \u001b[32m━━━━━━━━━━━━━━━━━━━━\u001b[0m\u001b[37m\u001b[0m \u001b[1m0s\u001b[0m 154ms/step\n"
     ]
    }
   ],
   "source": [
    "X_0, y_0 = mo_preprocessed_data_walch[0][0]\n",
    "\n",
    "fpr_pre, tpr_pre, thr_pre = roc_for_class(X_0, y_0, 0)"
   ]
  },
  {
   "cell_type": "code",
   "execution_count": 21,
   "metadata": {},
   "outputs": [
    {
     "data": {
      "text/plain": [
       "0.5772981870889266"
      ]
     },
     "execution_count": 21,
     "metadata": {},
     "output_type": "execute_result"
    }
   ],
   "source": [
    "area(fpr_pre, tpr_pre)"
   ]
  },
  {
   "cell_type": "code",
   "execution_count": 22,
   "metadata": {},
   "outputs": [
    {
     "data": {
      "text/plain": [
       "[<matplotlib.lines.Line2D at 0x370604890>]"
      ]
     },
     "execution_count": 22,
     "metadata": {},
     "output_type": "execute_result"
    },
    {
     "data": {
      "image/png": "[encoded data removed]",
      "text/plain": [
       "<Figure size 640x480 with 1 Axes>"
      ]
     },
     "metadata": {},
     "output_type": "display_data"
    }
   ],
   "source": [
    "plt.plot(fpr_pre, tpr_pre)\n",
    "plt.plot([0, 1], [0, 1], linestyle=\"--\")"
   ]
  },
  {
   "cell_type": "code",
   "execution_count": 23,
   "metadata": {},
   "outputs": [
    {
     "name": "stdout",
     "output_type": "stream",
     "text": [
      "[[1. 2. 3.]]\n"
     ]
    }
   ],
   "source": [
    "x = np.array([[1.0, 2, 3]])\n",
    "print(x)"
   ]
  },
  {
   "cell_type": "code",
   "execution_count": 24,
   "metadata": {},
   "outputs": [
    {
     "data": {
      "text/plain": [
       "array([[0., 0., 0., 0., 0., 0.],\n",
       "       [0., 0., 0., 0., 0., 0.],\n",
       "       [1., 2., 3., 0., 0., 0.],\n",
       "       [0., 0., 0., 0., 0., 0.]])"
      ]
     },
     "execution_count": 24,
     "metadata": {},
     "output_type": "execute_result"
    }
   ],
   "source": [
    "np.pad(\n",
    "    x,\n",
    "    pad_width=[\n",
    "        (2, 1),\n",
    "        (0, 3),\n",
    "    ]\n",
    ")"
   ]
  },
  {
   "cell_type": "code",
   "execution_count": 25,
   "metadata": {},
   "outputs": [],
   "source": [
    "def pad_to_length(y: np.ndarray, length: int):\n",
    "    return np.pad(\n",
    "        y,\n",
    "        pad_width=[\n",
    "            (0, 0),\n",
    "            (0, length - y.shape[0]),\n",
    "        ]\n",
    "    )"
   ]
  },
  {
   "cell_type": "code",
   "execution_count": 29,
   "metadata": {},
   "outputs": [
    {
     "name": "stdout",
     "output_type": "stream",
     "text": [
      "Epoch 1/3\n",
      "\u001b[1m25/25\u001b[0m \u001b[32m━━━━━━━━━━━━━━━━━━━━\u001b[0m\u001b[37m\u001b[0m \u001b[1m38s\u001b[0m 1s/step - loss: 1.8532 - val_loss: 0.9759\n",
      "Epoch 2/3\n",
      "\u001b[1m25/25\u001b[0m \u001b[32m━━━━━━━━━━━━━━━━━━━━\u001b[0m\u001b[37m\u001b[0m \u001b[1m30s\u001b[0m 1s/step - loss: 1.4442 - val_loss: 0.9580\n",
      "Epoch 3/3\n",
      "\u001b[1m25/25\u001b[0m \u001b[32m━━━━━━━━━━━━━━━━━━━━\u001b[0m\u001b[37m\u001b[0m \u001b[1m30s\u001b[0m 1s/step - loss: 1.2677 - val_loss: 0.9464\n"
     ]
    }
   ],
   "source": [
    "reload(pm)\n",
    "\n",
    "\n",
    "walch_mo_run = pm.run_split(\n",
    "    train_indices=list(range(1, 29)),\n",
    "    preprocessed_data_set=mo_preprocessed_data_walch,\n",
    "    swc=mo,\n",
    "    epochs=3\n",
    ")"
   ]
  },
  {
   "cell_type": "code",
   "execution_count": 30,
   "metadata": {},
   "outputs": [
    {
     "name": "stdout",
     "output_type": "stream",
     "text": [
      "\u001b[1m1/1\u001b[0m \u001b[32m━━━━━━━━━━━━━━━━━━━━\u001b[0m\u001b[37m\u001b[0m \u001b[1m1s\u001b[0m 610ms/step\n",
      "AUROC: 0.6548112431078059\n"
     ]
    }
   ],
   "source": [
    "fprs, tprs, theta = roc_for_class(X_0, y_0, 0)\n",
    "print(\"AUROC:\", area(fprs, tprs))"
   ]
  },
  {
   "cell_type": "code",
   "execution_count": 31,
   "metadata": {},
   "outputs": [
    {
     "data": {
      "text/plain": [
       "[<matplotlib.lines.Line2D at 0x4207e90d0>]"
      ]
     },
     "execution_count": 31,
     "metadata": {},
     "output_type": "execute_result"
    },
    {
     "data": {
      "image/png": "[encoded data removed]",
      "text/plain": [
       "<Figure size 640x480 with 1 Axes>"
      ]
     },
     "metadata": {},
     "output_type": "display_data"
    }
   ],
   "source": [
    "plt.plot(fprs, tprs)\n",
    "plt.plot([0, 1], [0, 1], linestyle=\"--\")"
   ]
  },
  {
   "cell_type": "code",
   "execution_count": null,
   "metadata": {},
   "outputs": [],
   "source": []
  }
 ],
 "metadata": {
  "kernelspec": {
   "display_name": ".pisces",
   "language": "python",
   "name": "python3"
  },
  "language_info": {
   "codemirror_mode": {
    "name": "ipython",
    "version": 3
   },
   "file_extension": ".py",
   "mimetype": "text/x-python",
   "name": "python",
   "nbconvert_exporter": "python",
   "pygments_lexer": "ipython3",
   "version": "3.11.8"
  }
 },
 "nbformat": 4,
 "nbformat_minor": 2
}
