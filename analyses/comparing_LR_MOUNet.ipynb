{
 "cells": [
  {
   "cell_type": "markdown",
   "metadata": {},
   "source": [
    "# Comparison of two sleep classifiers with LOOX\n",
    "\n",
    "In this notebook, we analyze the performance of logistic regression on _Walch et al._ and a modified form we call the \"hybrid motion\" data set. This data set was created by taking triaxial accelerometer sampled at 50 Hz and combining with the gyroscopic measurements from a Naval platform to capture ship rotational and vibrational noise. \n",
    "\n",
    "We further compare logistic regression with the deep UNet model, with best performing open weights, from _Mads Olsen et al._.\n",
    "\n",
    "Our models output, for each 30 second epoch of input recordings (accelerometer, actigraphy, and/or heart rate and other features) a probability of a particular epoch of recording corresponding to a `sleep` PSG label. When running inference to group the epochs into periods of sleep and wake (or sleep stages), we set a threshold for this probability, above which we predict an epoch sleep. For example, if a model outputs `0.71` (probability of sleep) for a given epoch, then a threshold of `0.5` will send this prediction to `sleep` since `0.71 > 0.5`, whereas a more stringent threshold of `0.76` would return a prediction of `wake` since `0.71 <= 0.76`. \n",
    "\n",
    "An ROC curve captures this trade-off that comes with the threshold, and also captures the fact that it's not so important that the model has probabilities spanning 0 to 1; even if the model only outputs predictions between 0.7 and 0.8, we could still pick an optimal threshold between those values as the cut-off for `sleep` or `wake` differentiation.\n",
    "\n",
    "\n",
    "The metrics we will use are:\n",
    "1. **AUROC**: area under ROC. \n",
    "\n",
    "    This is a useful way to evaluate prediction power of a trained model in highly class-imbalanced data, such as our recordings which are mostly people asleep with brief awakenings at the beginning and end, and a few places in the middle, of the recording.\n",
    "2. **WASA93**: Wake accuracy when sleep accuracy is at least 93%. \n",
    "\n",
    "    Recalling the trade-off between scoring each class accurately and not missing epochs, for WASA93 we choose a threshold makign sleep accuracy (total fraction scored correct) at least 0.93% and then evalute the wake epochs with that threshold. This score is one way of quantifying the reliability of the prediction, especially in high-risk scenarios where monitoring awakenings during schedule sleep hours is important.\n",
    "\n",
    "3. **Cohen's kappa**: A classical statistic that quantifies the amount to which the labels predicted (at various thresholds) have \"random\" agreement with the true labels. For example, when a model simply outputs the same class (ie everything is reported as `sleep`, independent of input) the kappa returns the fraction of true labels that take on that class."
   ]
  },
  {
   "cell_type": "markdown",
   "metadata": {},
   "source": [
    "# Setup & Preprocessing\n",
    "\n",
    "We will set up some variables we'll re-use a lot, as well as preprocess the acelerometer data into spectrograms and save that data, along with its labels, in a pickled iterator."
   ]
  },
  {
   "cell_type": "code",
   "execution_count": 1,
   "metadata": {},
   "outputs": [
    {
     "name": "stdout",
     "output_type": "stream",
     "text": [
      "Using TensorFlow backend\n",
      "Converting Mads Olsen model to Keras...\n",
      "Model saved at /Users/eric/Engineering/Work/pisces/pisces/cached_models/mo_resunet.keras\n"
     ]
    }
   ],
   "source": [
    "!pisces_setup"
   ]
  },
  {
   "cell_type": "code",
   "execution_count": 2,
   "metadata": {},
   "outputs": [
    {
     "name": "stdout",
     "output_type": "stream",
     "text": [
      "Using TensorFlow backend\n"
     ]
    }
   ],
   "source": [
    "import numpy as np\n",
    "import tensorflow as tf\n",
    "import pisces.models as pm\n",
    "from matplotlib import pyplot as plt\n",
    "from pisces.data_sets import DataSetObject, ModelInputSpectrogram, ModelOutputType, DataProcessor, PSGType"
   ]
  },
  {
   "cell_type": "markdown",
   "metadata": {},
   "source": [
    "## Set up paths for caching\n",
    "Set up all the paths here, ensure the (sub)folders all exist so later when we try to save to these there are no errors."
   ]
  },
  {
   "cell_type": "code",
   "execution_count": 3,
   "metadata": {},
   "outputs": [],
   "source": [
    "\n",
    "import os\n",
    "from pathlib import Path\n",
    "\n",
    "CWD = Path(os.getcwd())\n",
    "save_path = CWD.joinpath(\"pre_processed_data\")\n",
    "hybrid_path = save_path.joinpath(\"hybrid\")\n",
    "os.makedirs(hybrid_path, exist_ok=True)\n",
    "walch_path = save_path.joinpath(\"walch\")\n",
    "os.makedirs(walch_path, exist_ok=True)\n",
    "data_location = CWD.parent.joinpath('data_sets')#CWD.parent.joinpath(\"data_sets\")\n",
    "\n",
    "walch_preprocessed_path = walch_path.joinpath(\"walch_preprocessed_data.npy\")\n",
    "hybrid_preprocessed_path = hybrid_path.joinpath(\"hybrid_preprocessed_data.npy\")\n"
   ]
  },
  {
   "cell_type": "code",
   "execution_count": 4,
   "metadata": {},
   "outputs": [
    {
     "data": {
      "text/plain": [
       "PosixPath('/Users/eric/Engineering/Work/pisces/data_sets')"
      ]
     },
     "execution_count": 4,
     "metadata": {},
     "output_type": "execute_result"
    }
   ],
   "source": [
    "data_location"
   ]
  },
  {
   "cell_type": "code",
   "execution_count": 9,
   "metadata": {},
   "outputs": [],
   "source": [
    "def preprocess_if_needed(data_set, save_preprocessing_to, subjects_to_exclude):\n",
    "    if save_preprocessing_to.exists():\n",
    "        print(f\"Preprocessed data found at {save_preprocessing_to}.\\nSkipping pre-processing. Remove this file and re-run this notebook to trigger re-processing.\")\n",
    "        return\n",
    "    else:\n",
    "        sampling_hz = 32 # Hz\n",
    "        input_features = ['accelerometer']\n",
    "        model_input = ModelInputSpectrogram(input_features, sampling_hz)\n",
    "        output_type = ModelOutputType.WAKE_LIGHT_DEEP_REM\n",
    "        data_processor = DataProcessor(data_set, \n",
    "                                       model_input, \n",
    "                                       output_type=output_type,\n",
    "                                       psg_type=PSGType.HAS_N4)\n",
    "        mo = pm.MOResUNetPretrained(data_processor=data_processor, sampling_hz=sampling_hz)\n",
    "        ids_to_preprocess = [id for id in data_set.ids if id not in subjects_to_exclude]\n",
    "        preprocessed_data = [mo.get_needed_X_y(id, mo.data_processor) for id in ids_to_preprocess]\n",
    "        # Prepare a bundle to save\n",
    "        to_save = [\n",
    "            (data, id)\n",
    "            for (data, id) in zip(preprocessed_data, ids_to_preprocess)\n",
    "            if data is not None\n",
    "        ]\n",
    "        print(f\"Saving to {save_preprocessing_to}...\")\n",
    "        np.save(save_preprocessing_to,\n",
    "                np.array(to_save, dtype=object)\n",
    "                )"
   ]
  },
  {
   "cell_type": "markdown",
   "metadata": {},
   "source": [
    "## Walch"
   ]
  },
  {
   "cell_type": "code",
   "execution_count": 10,
   "metadata": {},
   "outputs": [
    {
     "name": "stdout",
     "output_type": "stream",
     "text": [
      "Found 31 subjects. (Should be 31)\n"
     ]
    }
   ],
   "source": [
    "sets = DataSetObject.find_data_sets(data_location)\n",
    "walch = sets['walch_et_al']\n",
    "walch.parse_data_sets()\n",
    "print(f\"Found {len(walch.ids)} subjects. (Should be 31)\")"
   ]
  },
  {
   "cell_type": "code",
   "execution_count": 11,
   "metadata": {},
   "outputs": [],
   "source": [
    "subjects_to_exclude_walch = [\n",
    "    \"759667\", \"3509524\", \"7749105\",\n",
    "    \"9961348\", \"5132496\",\n",
    "]"
   ]
  },
  {
   "cell_type": "code",
   "execution_count": 13,
   "metadata": {},
   "outputs": [
    {
     "name": "stdout",
     "output_type": "stream",
     "text": [
      "resampling to 32.0Hz (0.03125s) from 49 Hz (0.02001s)\n",
      "resampling to 32.0Hz (0.03125s) from 49 Hz (0.02001s)\n",
      "resampling to 32.0Hz (0.03125s) from 50 Hz (0.01986s)\n",
      "resampling to 32.0Hz (0.03125s) from 50 Hz (0.01999s)\n",
      "resampling to 32.0Hz (0.03125s) from 50 Hz (0.01999s)\n",
      "resampling to 32.0Hz (0.03125s) from 50 Hz (0.01977s)\n",
      "resampling to 32.0Hz (0.03125s) from 50 Hz (0.01988s)\n",
      "resampling to 32.0Hz (0.03125s) from 50 Hz (0.01968s)\n",
      "resampling to 32.0Hz (0.03125s) from 66 Hz (0.01502s)\n",
      "resampling to 32.0Hz (0.03125s) from 50 Hz (0.01998s)\n",
      "resampling to 32.0Hz (0.03125s) from 50 Hz (0.01976s)\n",
      "resampling to 32.0Hz (0.03125s) from 50 Hz (0.01997s)\n",
      "resampling to 32.0Hz (0.03125s) from 10 Hz (0.09990s)\n",
      "resampling to 32.0Hz (0.03125s) from 49 Hz (0.02001s)\n",
      "resampling to 32.0Hz (0.03125s) from 50 Hz (0.01978s)\n",
      "resampling to 32.0Hz (0.03125s) from 50 Hz (0.01975s)\n",
      "resampling to 32.0Hz (0.03125s) from 50 Hz (0.01996s)\n",
      "resampling to 32.0Hz (0.03125s) from 50 Hz (0.01995s)\n",
      "resampling to 32.0Hz (0.03125s) from 49 Hz (0.02001s)\n",
      "resampling to 32.0Hz (0.03125s) from 10 Hz (0.09988s)\n",
      "resampling to 32.0Hz (0.03125s) from 49 Hz (0.02001s)\n",
      "resampling to 32.0Hz (0.03125s) from 50 Hz (0.01979s)\n",
      "resampling to 32.0Hz (0.03125s) from 49 Hz (0.02003s)\n",
      "resampling to 32.0Hz (0.03125s) from 50 Hz (0.01969s)\n",
      "resampling to 32.0Hz (0.03125s) from 49 Hz (0.02001s)\n",
      "resampling to 32.0Hz (0.03125s) from 33 Hz (0.02992s)\n",
      "Saving to /Users/eric/Engineering/Work/pisces/analyses/pre_processed_data/walch/walch_preprocessed_data.npy...\n"
     ]
    }
   ],
   "source": [
    "preprocess_if_needed(walch, walch_preprocessed_path, subjects_to_exclude_walch)"
   ]
  },
  {
   "cell_type": "markdown",
   "metadata": {},
   "source": [
    "## Hybrid"
   ]
  },
  {
   "cell_type": "code",
   "execution_count": 14,
   "metadata": {},
   "outputs": [
    {
     "name": "stdout",
     "output_type": "stream",
     "text": [
      "Found 31 subjects. (Should be 31, matching walch)\n"
     ]
    }
   ],
   "source": [
    "# hybrid are a manipulation of the walch data set\n",
    "# hence we want to exclude the same ones, for the same reasons\n",
    "subjects_to_exclude_hybrid = subjects_to_exclude_walch\n",
    "\n",
    "hybrid = sets['hybrid_motion']\n",
    "hybrid.parse_data_sets()\n",
    "print(f\"Found {len(hybrid.ids)} subjects. (Should be 31, matching walch)\")\n",
    " "
   ]
  },
  {
   "cell_type": "code",
   "execution_count": 16,
   "metadata": {},
   "outputs": [
    {
     "name": "stdout",
     "output_type": "stream",
     "text": [
      "resampling to 32.0Hz (0.03125s) from 49 Hz (0.02001s)\n",
      "resampling to 32.0Hz (0.03125s) from 49 Hz (0.02001s)\n",
      "resampling to 32.0Hz (0.03125s) from 50 Hz (0.01986s)\n",
      "resampling to 32.0Hz (0.03125s) from 50 Hz (0.01999s)\n",
      "resampling to 32.0Hz (0.03125s) from 50 Hz (0.01999s)\n",
      "resampling to 32.0Hz (0.03125s) from 50 Hz (0.01977s)\n",
      "resampling to 32.0Hz (0.03125s) from 50 Hz (0.01988s)\n",
      "resampling to 32.0Hz (0.03125s) from 50 Hz (0.01968s)\n",
      "resampling to 32.0Hz (0.03125s) from 66 Hz (0.01502s)\n",
      "resampling to 32.0Hz (0.03125s) from 50 Hz (0.01998s)\n",
      "resampling to 32.0Hz (0.03125s) from 50 Hz (0.01976s)\n",
      "resampling to 32.0Hz (0.03125s) from 50 Hz (0.01997s)\n",
      "resampling to 32.0Hz (0.03125s) from 10 Hz (0.09990s)\n",
      "resampling to 32.0Hz (0.03125s) from 49 Hz (0.02001s)\n",
      "resampling to 32.0Hz (0.03125s) from 50 Hz (0.01978s)\n",
      "resampling to 32.0Hz (0.03125s) from 50 Hz (0.01975s)\n",
      "resampling to 32.0Hz (0.03125s) from 50 Hz (0.01996s)\n",
      "resampling to 32.0Hz (0.03125s) from 50 Hz (0.01995s)\n",
      "resampling to 32.0Hz (0.03125s) from 49 Hz (0.02001s)\n",
      "resampling to 32.0Hz (0.03125s) from 10 Hz (0.09988s)\n",
      "resampling to 32.0Hz (0.03125s) from 49 Hz (0.02001s)\n",
      "resampling to 32.0Hz (0.03125s) from 50 Hz (0.01979s)\n",
      "resampling to 32.0Hz (0.03125s) from 49 Hz (0.02003s)\n",
      "resampling to 32.0Hz (0.03125s) from 50 Hz (0.01969s)\n",
      "resampling to 32.0Hz (0.03125s) from 49 Hz (0.02001s)\n",
      "resampling to 32.0Hz (0.03125s) from 33 Hz (0.02992s)\n",
      "Saving to /Users/eric/Engineering/Work/pisces/analyses/pre_processed_data/hybrid/hybrid_preprocessed_data.npy...\n"
     ]
    }
   ],
   "source": [
    "preprocess_if_needed(hybrid, hybrid_preprocessed_path, subjects_to_exclude_hybrid)"
   ]
  },
  {
   "cell_type": "code",
   "execution_count": null,
   "metadata": {},
   "outputs": [],
   "source": []
  },
  {
   "cell_type": "markdown",
   "metadata": {},
   "source": [
    "# Logistic Regression"
   ]
  },
  {
   "cell_type": "code",
   "execution_count": 17,
   "metadata": {},
   "outputs": [],
   "source": [
    "# Train with top scoring hyperparameters\n",
    "sampling_hz = 1.0 / 15.0\n",
    "output_type = pm.ModelOutputType.SLEEP_WAKE\n",
    "window_size_seconds = 300\n",
    "input_features = ['activity']\n",
    "max_iter = 2000\n",
    "class_weight = \"balanced\"\n",
    "n_iter_no_change = 15\n",
    "\n",
    "log_reg_hyperparameters = {\n",
    "    'penalty': None,\n",
    "    'alpha': 10,\n",
    "    'fit_intercept': False,\n",
    "    'learning_rate': 'adaptive',\n",
    "    'eta0': 0.0001,\n",
    "    'random_state': 42,\n",
    "}\n",
    "\n",
    "model_input = pm.ModelInput1D(input_features, sampling_hz, window_size_seconds)\n",
    "walch_data_processor = DataProcessor(walch, model_input, output_type=output_type)\n",
    "\n",
    "def make_model():\n",
    "    return pm.SGDLinearClassifier(walch_data_processor, **log_reg_hyperparameters)"
   ]
  },
  {
   "cell_type": "code",
   "execution_count": 19,
   "metadata": {},
   "outputs": [
    {
     "name": "stderr",
     "output_type": "stream",
     "text": [
      "Preparing data for 26 IDs: 100%|██████████| 26/26 [00:00<00:00, 214.48it/s]\n"
     ]
    }
   ],
   "source": [
    "from tqdm import tqdm\n",
    "\n",
    "\n",
    "split_maker = pm.LeaveOneOutSplitter()\n",
    "swc = make_model()\n",
    "ids_to_split = [id for id in walch_data_processor.data_set.ids if id not in subjects_to_exclude_walch]\n",
    "tqdm_message_preprocess = f\"Preparing data for {len(ids_to_split)} IDs\"\n",
    "preprocessed_data = [(swc.get_needed_X_y(id), id) for id in tqdm(ids_to_split, desc=tqdm_message_preprocess)]"
   ]
  },
  {
   "cell_type": "code",
   "execution_count": 20,
   "metadata": {},
   "outputs": [
    {
     "name": "stderr",
     "output_type": "stream",
     "text": [
      "Training 26 splits:   8%|▊         | 2/26 [00:00<00:01, 16.52it/s]"
     ]
    },
    {
     "name": "stdout",
     "output_type": "stream",
     "text": [
      "Training on 22871 examples\n",
      "Done fitting\n",
      "\n",
      "Training on 22892 examples\n",
      "Done fitting\n",
      "\n",
      "Training on 22854 examples\n",
      "Done fitting\n",
      "\n",
      "Training on 22829 examples\n"
     ]
    },
    {
     "name": "stderr",
     "output_type": "stream",
     "text": [
      "Training 26 splits:  23%|██▎       | 6/26 [00:00<00:01, 18.64it/s]"
     ]
    },
    {
     "name": "stdout",
     "output_type": "stream",
     "text": [
      "Done fitting\n",
      "\n",
      "Training on 22831 examples\n",
      "Done fitting\n",
      "\n",
      "Training on 22836 examples\n",
      "Done fitting\n",
      "\n",
      "Training on 22850 examples\n",
      "Done fitting\n",
      "\n",
      "Training on 22842 examples\n"
     ]
    },
    {
     "name": "stderr",
     "output_type": "stream",
     "text": [
      "Training 26 splits:  38%|███▊      | 10/26 [00:00<00:00, 19.15it/s]"
     ]
    },
    {
     "name": "stdout",
     "output_type": "stream",
     "text": [
      "Done fitting\n",
      "\n",
      "Training on 23319 examples\n",
      "Done fitting\n",
      "\n",
      "Training on 22849 examples\n",
      "Done fitting\n",
      "\n",
      "Training on 22839 examples\n",
      "Done fitting\n",
      "\n",
      "Training on 23252 examples\n",
      "Done fitting\n",
      "\n"
     ]
    },
    {
     "name": "stderr",
     "output_type": "stream",
     "text": [
      "Training 26 splits:  54%|█████▍    | 14/26 [00:00<00:00, 19.50it/s]"
     ]
    },
    {
     "name": "stdout",
     "output_type": "stream",
     "text": [
      "Training on 22841 examples\n",
      "Done fitting\n",
      "\n",
      "Training on 23060 examples\n",
      "Done fitting\n",
      "\n",
      "Training on 22857 examples\n",
      "Done fitting\n",
      "\n",
      "Training on 22837 examples\n"
     ]
    },
    {
     "name": "stderr",
     "output_type": "stream",
     "text": [
      "Training 26 splits:  69%|██████▉   | 18/26 [00:00<00:00, 19.39it/s]"
     ]
    },
    {
     "name": "stdout",
     "output_type": "stream",
     "text": [
      "Done fitting\n",
      "\n",
      "Training on 22838 examples\n",
      "Done fitting\n",
      "\n",
      "Training on 22854 examples\n",
      "Done fitting\n",
      "\n",
      "Training on 22834 examples\n",
      "Done fitting\n",
      "\n",
      "Training on 22847 examples\n"
     ]
    },
    {
     "name": "stderr",
     "output_type": "stream",
     "text": [
      "Training 26 splits:  85%|████████▍ | 22/26 [00:01<00:00, 19.34it/s]"
     ]
    },
    {
     "name": "stdout",
     "output_type": "stream",
     "text": [
      "Done fitting\n",
      "\n",
      "Training on 22870 examples\n",
      "Done fitting\n",
      "\n",
      "Training on 22853 examples\n",
      "Done fitting\n",
      "\n",
      "Training on 22848 examples\n",
      "Done fitting\n",
      "\n",
      "Training on 22854 examples\n"
     ]
    },
    {
     "name": "stderr",
     "output_type": "stream",
     "text": [
      "Training 26 splits: 100%|██████████| 26/26 [00:01<00:00, 19.07it/s]"
     ]
    },
    {
     "name": "stdout",
     "output_type": "stream",
     "text": [
      "Done fitting\n",
      "\n",
      "Training on 22844 examples\n",
      "Done fitting\n",
      "\n",
      "Training on 22874 examples\n",
      "Done fitting\n",
      "\n"
     ]
    },
    {
     "name": "stderr",
     "output_type": "stream",
     "text": [
      "\n"
     ]
    }
   ],
   "source": [
    "\n",
    "from analyses.utils.metrics import calculate_metrics_from_splits\n",
    "\n",
    "\n",
    "tqdm_message_train = f\"Training {len(ids_to_split)} splits\"\n",
    "all_splits = split_maker.split(ids_to_split)\n",
    "\n",
    "models = []\n",
    "splits = []\n",
    "for train_index, test_index in tqdm(all_splits, desc=tqdm_message_train, total=len(ids_to_split)):\n",
    "    if preprocessed_data[test_index[0]][0] is None:\n",
    "        continue\n",
    "    model, _ = pm.run_split(train_indices=train_index, \n",
    "                            preprocessed_data_set=preprocessed_data, \n",
    "                            swc=make_model(), epochs=None)\n",
    "    models.append(model)\n",
    "    test_id = preprocessed_data[test_index[0]][1]\n",
    "    splits.append([train_index, [test_id]])\n",
    "\n",
    "metrics = calculate_metrics_from_splits(walch_data_processor, models, splits)"
   ]
  },
  {
   "cell_type": "code",
   "execution_count": 21,
   "metadata": {},
   "outputs": [
    {
     "data": {
      "image/png": "[encoded data removed]",
      "text/plain": [
       "<Figure size 1500x500 with 3 Axes>"
      ]
     },
     "metadata": {},
     "output_type": "display_data"
    }
   ],
   "source": [
    "# Plot metrics\n",
    "fig, axs = plt.subplots(1, 3, figsize=(15, 5))\n",
    "\n",
    "metrics_dimensions = {'sw_accuracy': 'Accuracy', 'auc': 'AUC', 'wasa': 'WASA'}\n",
    "metric_colors = {'sw_accuracy': 'tab:blue', 'auc': 'tab:orange', 'wasa': 'tab:green'}\n",
    "\n",
    "for metric, ax in zip(metrics_dimensions.keys(), axs):\n",
    "    ax.hist(metrics[metric], range=(0, 1), bins=20, rwidth=0.8,\n",
    "            label=f\"Mean {metrics_dimensions[metric]}: {np.mean(metrics[metric]):.3f}\",\n",
    "            color=metric_colors[metric])\n",
    "    ax.set_title(metrics_dimensions[metric])\n",
    "    ax.set_xlabel(metrics_dimensions[metric])\n",
    "    ax.set_ylabel('Count')\n",
    "    ax.legend()\n",
    "\n",
    "plt.suptitle('Top scorer evaluated on walch (trained on walch)',\n",
    "             fontsize=20)\n",
    "plt.tight_layout()\n",
    "plt.show()"
   ]
  },
  {
   "cell_type": "code",
   "execution_count": null,
   "metadata": {},
   "outputs": [],
   "source": []
  }
 ],
 "metadata": {
  "kernelspec": {
   "display_name": "pisces",
   "language": "python",
   "name": "python3"
  },
  "language_info": {
   "codemirror_mode": {
    "name": "ipython",
    "version": 3
   },
   "file_extension": ".py",
   "mimetype": "text/x-python",
   "name": "python",
   "nbconvert_exporter": "python",
   "pygments_lexer": "ipython3",
   "version": "3.11.7"
  }
 },
 "nbformat": 4,
 "nbformat_minor": 2
}
