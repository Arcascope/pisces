{
 "cells": [
  {
   "cell_type": "markdown",
   "metadata": {},
   "source": [
    "# Comparison of two sleep classifiers with LOOX\n",
    "\n",
    "In this notebook, we analyze the performance of logistic regression on _Walch et al._ and a modified form we call the \"hybrid motion\" data set. This data set was created by taking triaxial accelerometer sampled at 50 Hz and combining with the gyroscopic measurements from a Naval platform to capture ship rotational and vibrational noise. \n",
    "\n",
    "We further compare logistic regression with the deep UNet model, with best performing open weights, from _Mads Olsen et al._."
   ]
  },
  {
   "cell_type": "code",
   "execution_count": null,
   "metadata": {},
   "outputs": [],
   "source": []
  }
 ],
 "metadata": {
  "language_info": {
   "name": "python"
  }
 },
 "nbformat": 4,
 "nbformat_minor": 2
}
