{
 "cells": [
  {
   "cell_type": "code",
   "execution_count": 1,
   "metadata": {},
   "outputs": [
    {
     "name": "stderr",
     "output_type": "stream",
     "text": [
      "2024-12-13 08:57:32.169303: I tensorflow/core/util/port.cc:153] oneDNN custom operations are on. You may see slightly different numerical results due to floating-point round-off errors from different computation orders. To turn them off, set the environment variable `TF_ENABLE_ONEDNN_OPTS=0`.\n",
      "2024-12-13 08:57:32.177302: E external/local_xla/xla/stream_executor/cuda/cuda_fft.cc:477] Unable to register cuFFT factory: Attempting to register factory for plugin cuFFT when one has already been registered\n",
      "WARNING: All log messages before absl::InitializeLog() is called are written to STDERR\n",
      "E0000 00:00:1734101852.185779  977919 cuda_dnn.cc:8310] Unable to register cuDNN factory: Attempting to register factory for plugin cuDNN when one has already been registered\n",
      "E0000 00:00:1734101852.188378  977919 cuda_blas.cc:1418] Unable to register cuBLAS factory: Attempting to register factory for plugin cuBLAS when one has already been registered\n",
      "2024-12-13 08:57:32.198202: I tensorflow/core/platform/cpu_feature_guard.cc:210] This TensorFlow binary is optimized to use available CPU instructions in performance-critical operations.\n",
      "To enable the following instructions: AVX2 AVX512F AVX512_VNNI AVX512_BF16 AVX_VNNI FMA, in other operations, rebuild TensorFlow with the appropriate compiler flags.\n"
     ]
    }
   ],
   "source": [
    "import numpy as np\n",
    "from losses import *"
   ]
  },
  {
   "cell_type": "code",
   "execution_count": 2,
   "metadata": {},
   "outputs": [],
   "source": [
    "BATCH = 3\n",
    "SEQ_LEN = 1024\n",
    "N_CLASSES = 4\n",
    "\n",
    "# random probabilities\n",
    "x = np.random.rand(BATCH, SEQ_LEN, N_CLASSES)\n",
    "\n",
    "# sparsely encoded (random) labels\n",
    "y = np.random.randint(-1, N_CLASSES, (BATCH, SEQ_LEN))"
   ]
  },
  {
   "cell_type": "code",
   "execution_count": 16,
   "metadata": {},
   "outputs": [],
   "source": [
    "# Example 1: (batch_size = 1, number of samples = 4)\n",
    "y_true = [0, 1, 0, 0]\n",
    "y_pred = [-18.6, 0.51, 2.94, -12.8]\n",
    "loss = keras.losses.BinaryFocalCrossentropy(\n",
    "    apply_class_balancing=True, gamma=2, alpha=0.1, from_logits=True)"
   ]
  },
  {
   "cell_type": "code",
   "execution_count": 18,
   "metadata": {},
   "outputs": [
    {
     "name": "stdout",
     "output_type": "stream",
     "text": [
      "[1, 1, 1, 1]\n",
      "tf.Tensor(-4.8310595, shape=(), dtype=float32)\n",
      "=====\n",
      "[1, 1, 1, 0]\n",
      "tf.Tensor(-3.6232946, shape=(), dtype=float32)\n",
      "=====\n"
     ]
    }
   ],
   "source": [
    "y_true = [0, 1, 0, -1]\n",
    "weights_to_try = [\n",
    "    [1, 1, 1, 1],\n",
    "    [1, 1, 1, 0]\n",
    "]\n",
    "for wt in weights_to_try:\n",
    "    print(wt)\n",
    "    print(loss(y_true, y_pred, sample_weight=np.array(wt)))\n",
    "    print(\"=====\")\n"
   ]
  },
  {
   "cell_type": "code",
   "execution_count": 19,
   "metadata": {},
   "outputs": [
    {
     "name": "stdout",
     "output_type": "stream",
     "text": [
      "[1, 1, 1, 1]\n",
      "tf.Tensor(0.6088496, shape=(), dtype=float32)\n",
      "=====\n",
      "[1, 1, 1, 0]\n",
      "tf.Tensor(0.4566372, shape=(), dtype=float32)\n",
      "=====\n"
     ]
    }
   ],
   "source": [
    "y_true = [0, 1, 0, 0]\n",
    "weights_to_try = [\n",
    "    [1, 1, 1, 1],\n",
    "    [1, 1, 1, 0]\n",
    "]\n",
    "for wt in weights_to_try:\n",
    "    print(wt)\n",
    "    print(loss(y_true, y_pred, sample_weight=np.array(wt)))\n",
    "    print(\"=====\")\n"
   ]
  },
  {
   "cell_type": "code",
   "execution_count": 11,
   "metadata": {},
   "outputs": [],
   "source": [
    "class MaskedLoss(keras.losses.Loss):\n",
    "    def __init__(self, loss, mask_value=-1):\n",
    "        super().__init__()\n",
    "        self.loss = loss\n",
    "        self.mask_value = mask_value\n",
    "\n",
    "    def call(self, y_true, y_pred, sample_weight=None):\n",
    "        mask = tf.not_equal(y_true, self.mask_value)\n",
    "        y_true = tf.boolean_mask(y_true, mask)\n",
    "        y_pred = tf.boolean_mask(y_pred, mask)\n",
    "        if sample_weight is not None:\n",
    "            sample_weight = tf.boolean_mask(sample_weight, mask)\n",
    "        return self.loss(y_true, y_pred, sample_weight)\n",
    "\n",
    "    def get_config(self):\n",
    "        return {\"loss\": self.loss, \"mask_value\": self.mask_value}\n",
    "\n",
    "    def from_config(cls, config):\n",
    "        return cls(**config)"
   ]
  },
  {
   "cell_type": "code",
   "execution_count": 24,
   "metadata": {},
   "outputs": [],
   "source": [
    "import tensorflow as tf\n",
    "\n",
    "x = tf.constant([1, 2, 3, 4, 5, 6, 7, 8, 9, 10])"
   ]
  },
  {
   "cell_type": "code",
   "execution_count": 25,
   "metadata": {},
   "outputs": [
    {
     "ename": "TypeError",
     "evalue": "'tensorflow.python.framework.ops.EagerTensor' object does not support item assignment",
     "output_type": "error",
     "traceback": [
      "\u001b[0;31m---------------------------------------------------------------------------\u001b[0m",
      "\u001b[0;31mTypeError\u001b[0m                                 Traceback (most recent call last)",
      "Cell \u001b[0;32mIn[25], line 1\u001b[0m\n\u001b[0;32m----> 1\u001b[0m \u001b[43mx\u001b[49m\u001b[43m[\u001b[49m\u001b[38;5;241;43m1\u001b[39;49m\u001b[43m:\u001b[49m\u001b[38;5;241;43m3\u001b[39;49m\u001b[43m]\u001b[49m \u001b[38;5;241m=\u001b[39m \u001b[38;5;241m45\u001b[39m\n",
      "\u001b[0;31mTypeError\u001b[0m: 'tensorflow.python.framework.ops.EagerTensor' object does not support item assignment"
     ]
    }
   ],
   "source": [
    "x[1:3] = 45"
   ]
  },
  {
   "cell_type": "code",
   "execution_count": 21,
   "metadata": {},
   "outputs": [
    {
     "data": {
      "text/plain": [
       "<tf.Tensor: shape=(), dtype=float32, numpy=0.6088495850563049>"
      ]
     },
     "execution_count": 21,
     "metadata": {},
     "output_type": "execute_result"
    }
   ],
   "source": [
    "mbfc = MaskedLoss(keras.losses.BinaryFocalCrossentropy(\n",
    "    apply_class_balancing=True, gamma=2, alpha=0.1, from_logits=True))\n",
    "\n",
    "y_true = [0, 1, 0, 0]\n",
    "y_pred = [-18.6, 0.51, 2.94, -12.8]\n",
    "mbfc(y_true, y_pred)"
   ]
  },
  {
   "cell_type": "code",
   "execution_count": 22,
   "metadata": {},
   "outputs": [
    {
     "data": {
      "text/plain": [
       "<tf.Tensor: shape=(), dtype=float32, numpy=0.8117994666099548>"
      ]
     },
     "execution_count": 22,
     "metadata": {},
     "output_type": "execute_result"
    }
   ],
   "source": [
    "mbfc = MaskedLoss(keras.losses.BinaryFocalCrossentropy(\n",
    "    apply_class_balancing=True, gamma=2, alpha=0.1, from_logits=True))\n",
    "\n",
    "y_true = [0, 1, 0, -1]\n",
    "y_pred = [-18.6, 0.51, 2.94, -12.8]\n",
    "mbfc(y_true, y_pred)"
   ]
  },
  {
   "cell_type": "code",
   "execution_count": 23,
   "metadata": {},
   "outputs": [
    {
     "data": {
      "text/plain": [
       "<tf.Tensor: shape=(), dtype=float32, numpy=0.8117994666099548>"
      ]
     },
     "execution_count": 23,
     "metadata": {},
     "output_type": "execute_result"
    }
   ],
   "source": [
    "loss(y_true[:-1], y_pred[:-1], )"
   ]
  },
  {
   "cell_type": "code",
   "execution_count": 14,
   "metadata": {},
   "outputs": [
    {
     "data": {
      "text/plain": [
       "<tf.Tensor: shape=(), dtype=float32, numpy=8.623503684997559>"
      ]
     },
     "execution_count": 14,
     "metadata": {},
     "output_type": "execute_result"
    }
   ],
   "source": [
    "mbfc.loss(y_true, y_pred, sample_weight=np.array([1, 1, 1, 1]))"
   ]
  },
  {
   "cell_type": "code",
   "execution_count": 4,
   "metadata": {},
   "outputs": [
    {
     "data": {
      "text/plain": [
       "<tf.Tensor: shape=(), dtype=float32, numpy=0.5101332664489746>"
      ]
     },
     "execution_count": 4,
     "metadata": {},
     "output_type": "execute_result"
    }
   ],
   "source": [
    "# Apply class weight\n",
    "loss = keras.losses.BinaryFocalCrossentropy(\n",
    "    apply_class_balancing=True, gamma=2, from_logits=True)\n",
    "loss(y_true, y_pred)"
   ]
  },
  {
   "cell_type": "code",
   "execution_count": null,
   "metadata": {},
   "outputs": [],
   "source": []
  },
  {
   "cell_type": "code",
   "execution_count": 5,
   "metadata": {},
   "outputs": [
    {
     "name": "stderr",
     "output_type": "stream",
     "text": [
      "I0000 00:00:1733773396.691563   45434 gpu_device.cc:2022] Created device /job:localhost/replica:0/task:0/device:GPU:0 with 9887 MB memory:  -> device: 0, name: NVIDIA GeForce RTX 3080, pci bus id: 0000:01:00.0, compute capability: 8.6\n"
     ]
    }
   ],
   "source": [
    "l = MaskedTemporalCategoricalCrossEntropy(from_logits=False, sparse=True, n_classes=2)\n"
   ]
  },
  {
   "cell_type": "code",
   "execution_count": 11,
   "metadata": {},
   "outputs": [
    {
     "data": {
      "text/plain": [
       "(3, 1024)"
      ]
     },
     "execution_count": 11,
     "metadata": {},
     "output_type": "execute_result"
    }
   ],
   "source": [
    "y.shape"
   ]
  },
  {
   "cell_type": "code",
   "execution_count": 13,
   "metadata": {},
   "outputs": [
    {
     "data": {
      "text/plain": [
       "(3, 1024, 4)"
      ]
     },
     "execution_count": 13,
     "metadata": {},
     "output_type": "execute_result"
    }
   ],
   "source": [
    "x.shape"
   ]
  },
  {
   "cell_type": "code",
   "execution_count": null,
   "metadata": {},
   "outputs": [],
   "source": []
  }
 ],
 "metadata": {
  "kernelspec": {
   "display_name": "pisces3.12",
   "language": "python",
   "name": "python3"
  },
  "language_info": {
   "codemirror_mode": {
    "name": "ipython",
    "version": 3
   },
   "file_extension": ".py",
   "mimetype": "text/x-python",
   "name": "python",
   "nbconvert_exporter": "python",
   "pygments_lexer": "ipython3",
   "version": "3.12.7"
  }
 },
 "nbformat": 4,
 "nbformat_minor": 2
}
